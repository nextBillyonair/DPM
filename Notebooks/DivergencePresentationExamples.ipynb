{
 "cells": [
  {
   "cell_type": "code",
   "execution_count": null,
   "metadata": {
    "scrolled": true
   },
   "outputs": [],
   "source": [
    "%matplotlib inline\n",
    "from dpm.train import train\n",
    "from dpm.visualize import (\n",
    "    plot_model, plot_models, plot_stats, \n",
    "    plot_hist, plot_loss_function\n",
    ")\n",
    "from dpm.distributions import Normal\n",
    "from dpm.divergences import forward_kl, reverse_kl, js_divergence\n",
    "from dpm.mixture_models import MixtureModel"
   ]
  },
  {
   "cell_type": "markdown",
   "metadata": {},
   "source": [
    "### Forward KL"
   ]
  },
  {
   "cell_type": "code",
   "execution_count": null,
   "metadata": {},
   "outputs": [],
   "source": [
    "# Normal Examples:\n",
    "p_model = Normal(-7.3, 3.2)\n",
    "q_model = Normal(0., 1.)\n",
    "\n",
    "plot_models(p_model, q_model)"
   ]
  },
  {
   "cell_type": "code",
   "execution_count": null,
   "metadata": {},
   "outputs": [],
   "source": [
    "# Train\n",
    "stats = train(p_model, q_model, forward_kl, epochs=4000)\n",
    "plot_stats(stats, goals=[p_model.loc.item(), p_model.scale.item()])"
   ]
  },
  {
   "cell_type": "code",
   "execution_count": null,
   "metadata": {},
   "outputs": [],
   "source": [
    "# Plot Result\n",
    "plot_models(p_model, q_model)"
   ]
  },
  {
   "cell_type": "markdown",
   "metadata": {},
   "source": [
    "### Forward KL Bimodal"
   ]
  },
  {
   "cell_type": "code",
   "execution_count": null,
   "metadata": {},
   "outputs": [],
   "source": [
    "# plot a bimodal example\n",
    "bimodal = MixtureModel([Normal(-2., 1.4), Normal(2., 1.4)], [0.5, 0.5])\n",
    "plot_model(bimodal)"
   ]
  },
  {
   "cell_type": "code",
   "execution_count": null,
   "metadata": {},
   "outputs": [],
   "source": [
    "# Show dists\n",
    "p_model = MixtureModel([Normal(-7., 1.4), Normal(7., 1.4)], [0.5, 0.5])\n",
    "q_model = Normal(0., 1.)\n",
    "plot_models(p_model, q_model)"
   ]
  },
  {
   "cell_type": "code",
   "execution_count": null,
   "metadata": {},
   "outputs": [],
   "source": [
    "# Train\n",
    "stats = train(p_model, q_model, forward_kl, epochs=4000)\n",
    "plot_stats(stats)"
   ]
  },
  {
   "cell_type": "code",
   "execution_count": null,
   "metadata": {},
   "outputs": [],
   "source": [
    "# Plot Result\n",
    "plot_models(p_model, q_model)"
   ]
  },
  {
   "cell_type": "code",
   "execution_count": null,
   "metadata": {},
   "outputs": [],
   "source": [
    "# plot loss dynamics\n",
    "plot_loss_function(foward_kl, p_model=MixtureModel([Normal(-7., 1.4), Normal(7., 1.4)], [0.5, 0.5]))"
   ]
  },
  {
   "cell_type": "markdown",
   "metadata": {},
   "source": [
    "### Reverse KL Bimodal"
   ]
  },
  {
   "cell_type": "code",
   "execution_count": null,
   "metadata": {},
   "outputs": [],
   "source": [
    "# Show dists\n",
    "p_model = MixtureModel([Normal(-7., 1.4), Normal(7., 1.4)], [0.5, 0.5])\n",
    "q_model = Normal(0., 1.)\n",
    "plot_models(p_model, q_model)"
   ]
  },
  {
   "cell_type": "code",
   "execution_count": null,
   "metadata": {},
   "outputs": [],
   "source": [
    "# Train (Mode Collapse)\n",
    "p_model = MixtureModel([Normal(-7., 1.4), Normal(7., 1.4)], [0.5, 0.5])\n",
    "q_model = Normal(0., 1.)\n",
    "stats = train(p_model, q_model, forward_kl, epochs=4000)\n",
    "plot_stats(stats)"
   ]
  },
  {
   "cell_type": "code",
   "execution_count": null,
   "metadata": {},
   "outputs": [],
   "source": [
    "# Plot Result\n",
    "plot_models(p_model, q_model)"
   ]
  },
  {
   "cell_type": "code",
   "execution_count": null,
   "metadata": {},
   "outputs": [],
   "source": [
    "# Train 2 (Move to other side)\n",
    "p_model = MixtureModel([Normal(-7., 1.4), Normal(7., 1.4)], [0.5, 0.5])\n",
    "q_model = Normal(0., 1.)\n",
    "stats = train(p_model, q_model, forward_kl, epochs=4000)\n",
    "plot_stats(stats)"
   ]
  },
  {
   "cell_type": "code",
   "execution_count": null,
   "metadata": {},
   "outputs": [],
   "source": [
    "# Plot Result\n",
    "plot_models(p_model, q_model)"
   ]
  },
  {
   "cell_type": "code",
   "execution_count": null,
   "metadata": {},
   "outputs": [],
   "source": [
    "# plot loss dynamics\n",
    "plot_loss_function(reverse_kl, p_model=MixtureModel([Normal(-7., 1.4), Normal(7., 1.4)], [0.5, 0.5]))"
   ]
  },
  {
   "cell_type": "markdown",
   "metadata": {},
   "source": [
    "### Jensen-Shannon Divergence"
   ]
  },
  {
   "cell_type": "code",
   "execution_count": null,
   "metadata": {},
   "outputs": [],
   "source": [
    "# Show dists\n",
    "p_model = MixtureModel([Normal(-7., 1.4), Normal(7., 1.4)], [0.5, 0.5])\n",
    "q_model = Normal(0., 1.)\n",
    "plot_models(p_model, q_model)"
   ]
  },
  {
   "cell_type": "code",
   "execution_count": null,
   "metadata": {},
   "outputs": [],
   "source": [
    "# Train\n",
    "stats = train(p_model, q_model, forward_kl, epochs=4000)\n",
    "plot_stats(stats)"
   ]
  },
  {
   "cell_type": "code",
   "execution_count": null,
   "metadata": {},
   "outputs": [],
   "source": [
    "# Plot Result\n",
    "plot_models(p_model, q_model)"
   ]
  },
  {
   "cell_type": "code",
   "execution_count": null,
   "metadata": {},
   "outputs": [],
   "source": [
    "# plot loss dynamics\n",
    "plot_loss_function(js_divergence, p_model=MixtureModel([Normal(-7., 1.4), Normal(7., 1.4)], [0.5, 0.5]))"
   ]
  },
  {
   "cell_type": "markdown",
   "metadata": {},
   "source": [
    "### F-Divergence?"
   ]
  },
  {
   "cell_type": "code",
   "execution_count": null,
   "metadata": {},
   "outputs": [],
   "source": []
  },
  {
   "cell_type": "code",
   "execution_count": null,
   "metadata": {},
   "outputs": [],
   "source": []
  },
  {
   "cell_type": "code",
   "execution_count": null,
   "metadata": {},
   "outputs": [],
   "source": []
  }
 ],
 "metadata": {
  "kernelspec": {
   "display_name": "Python 3",
   "language": "python",
   "name": "python3"
  },
  "language_info": {
   "codemirror_mode": {
    "name": "ipython",
    "version": 3
   },
   "file_extension": ".py",
   "mimetype": "text/x-python",
   "name": "python",
   "nbconvert_exporter": "python",
   "pygments_lexer": "ipython3",
   "version": "3.7.3"
  }
 },
 "nbformat": 4,
 "nbformat_minor": 2
}
