{
 "cells": [
  {
   "cell_type": "code",
   "execution_count": 6,
   "metadata": {},
   "outputs": [],
   "source": [
    "import dpm.monte_carlo as monte_carlo\n",
    "from dpm.distributions import Normal"
   ]
  },
  {
   "cell_type": "code",
   "execution_count": 7,
   "metadata": {},
   "outputs": [],
   "source": [
    "model = Normal(-7.3, 4.0)"
   ]
  },
  {
   "cell_type": "code",
   "execution_count": 8,
   "metadata": {},
   "outputs": [],
   "source": [
    "def entropy(x):\n",
    "    return -model.log_prob(x)"
   ]
  },
  {
   "cell_type": "code",
   "execution_count": 9,
   "metadata": {},
   "outputs": [
    {
     "name": "stdout",
     "output_type": "stream",
     "text": [
      "E[X]   : -7.38\n",
      "E[X^2] : 4.12\n",
      "Entropy: 2.10\n",
      "Median : -7.45\n",
      "P(X <= -7.3): 0.50\n",
      "P(X <= -9): 0.20\n"
     ]
    }
   ],
   "source": [
    "print(f\"E[X]   : {monte_carlo.expectation(model).item():.2f}\")\n",
    "print(f\"E[X^2] : {monte_carlo.variance(model).item():.2f}\")\n",
    "print(f\"Entropy: {monte_carlo.monte_carlo(entropy, model).item():.2f}\")\n",
    "print(f\"Median : {monte_carlo.median(model).item():.2f}\")\n",
    "print(f\"P(X <= -7.3): {monte_carlo.cdf(model, -7.3):.2f}\")\n",
    "print(f\"P(X <= -9): {monte_carlo.cdf(model, -9, batch_size=10000):.2f}\")"
   ]
  },
  {
   "cell_type": "code",
   "execution_count": 10,
   "metadata": {},
   "outputs": [
    {
     "name": "stdout",
     "output_type": "stream",
     "text": [
      "E[X]   : -7.30\n",
      "E[X^2] : 4.10\n",
      "Entropy: 2.11\n",
      "Median : -7.31\n",
      "P(X <= -7.3): 0.49\n"
     ]
    }
   ],
   "source": [
    "print(f\"E[X]   : {model.expectation().item():.2f}\")\n",
    "print(f\"E[X^2] : {model.variance().item():.2f}\")\n",
    "print(f\"Entropy: {model.entropy().item():.2f}\")\n",
    "print(f\"Median : {model.median().item():.2f}\")\n",
    "print(f\"P(X <= -7.3): {model.cdf(-7.3):.2f}\")"
   ]
  },
  {
   "cell_type": "code",
   "execution_count": 14,
   "metadata": {},
   "outputs": [
    {
     "data": {
      "text/plain": [
       "tensor(4.0442, grad_fn=<MeanBackward1>)"
      ]
     },
     "execution_count": 14,
     "metadata": {},
     "output_type": "execute_result"
    }
   ],
   "source": [
    "model.variance()"
   ]
  },
  {
   "cell_type": "code",
   "execution_count": null,
   "metadata": {},
   "outputs": [],
   "source": []
  },
  {
   "cell_type": "code",
   "execution_count": null,
   "metadata": {},
   "outputs": [],
   "source": []
  },
  {
   "cell_type": "code",
   "execution_count": null,
   "metadata": {},
   "outputs": [],
   "source": []
  },
  {
   "cell_type": "code",
   "execution_count": null,
   "metadata": {},
   "outputs": [],
   "source": []
  },
  {
   "cell_type": "code",
   "execution_count": null,
   "metadata": {},
   "outputs": [],
   "source": []
  }
 ],
 "metadata": {
  "kernelspec": {
   "display_name": "Python 3",
   "language": "python",
   "name": "python3"
  },
  "language_info": {
   "codemirror_mode": {
    "name": "ipython",
    "version": 3
   },
   "file_extension": ".py",
   "mimetype": "text/x-python",
   "name": "python",
   "nbconvert_exporter": "python",
   "pygments_lexer": "ipython3",
   "version": "3.7.3"
  }
 },
 "nbformat": 4,
 "nbformat_minor": 2
}
