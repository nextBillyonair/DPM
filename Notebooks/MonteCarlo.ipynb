{
 "cells": [
  {
   "cell_type": "code",
   "execution_count": 1,
   "metadata": {},
   "outputs": [],
   "source": [
    "import dpm.monte_carlo as monte_carlo\n",
    "from dpm.distributions import Normal, Uniform"
   ]
  },
  {
   "cell_type": "code",
   "execution_count": 2,
   "metadata": {},
   "outputs": [],
   "source": [
    "model = Normal(-7.3, 4.0)"
   ]
  },
  {
   "cell_type": "code",
   "execution_count": 3,
   "metadata": {},
   "outputs": [],
   "source": [
    "def entropy(x):\n",
    "    return -model.log_prob(x)"
   ]
  },
  {
   "cell_type": "code",
   "execution_count": 4,
   "metadata": {},
   "outputs": [
    {
     "name": "stdout",
     "output_type": "stream",
     "text": [
      "E[X]   : -7.40\n",
      "E[X^2] : 4.07\n",
      "Entropy: 2.12\n",
      "Median : -7.35\n",
      "P(X <= -7.3): 0.52\n",
      "P(X <= -9): 0.20\n"
     ]
    }
   ],
   "source": [
    "print(f\"E[X]   : {monte_carlo.expectation(model).item():.2f}\")\n",
    "print(f\"E[X^2] : {monte_carlo.variance(model).item():.2f}\")\n",
    "print(f\"Entropy: {monte_carlo.monte_carlo(entropy, model).item():.2f}\")\n",
    "print(f\"Median : {monte_carlo.median(model).item():.2f}\")\n",
    "print(f\"P(X <= -7.3): {monte_carlo.cdf(model, -7.3):.2f}\")\n",
    "print(f\"P(X <= -9): {monte_carlo.cdf(model, -9, batch_size=10000):.2f}\")"
   ]
  },
  {
   "cell_type": "code",
   "execution_count": 5,
   "metadata": {},
   "outputs": [
    {
     "name": "stdout",
     "output_type": "stream",
     "text": [
      "E[X]   : -7.32\n",
      "E[X^2] : 4.01\n",
      "Entropy: 2.11\n",
      "Median : -7.32\n",
      "P(X <= -7.3): 0.49\n"
     ]
    }
   ],
   "source": [
    "print(f\"E[X]   : {model.expectation().item():.2f}\")\n",
    "print(f\"E[X^2] : {model.variance().item():.2f}\")\n",
    "print(f\"Entropy: {model.entropy().item():.2f}\")\n",
    "print(f\"Median : {model.median().item():.2f}\")\n",
    "print(f\"P(X <= -7.3): {model.cdf(-7.3):.2f}\")"
   ]
  },
  {
   "cell_type": "code",
   "execution_count": 6,
   "metadata": {},
   "outputs": [],
   "source": [
    "uni = Uniform(-1., 5.)"
   ]
  },
  {
   "cell_type": "code",
   "execution_count": 8,
   "metadata": {},
   "outputs": [
    {
     "name": "stdout",
     "output_type": "stream",
     "text": [
      "E[X]   : 1.98\n",
      "E[X^2] : 2.99\n",
      "Entropy: 1.79\n",
      "Median : 1.97\n",
      "P(X <= -7.3): 0.50\n",
      "Max: 4.997271537780762\n",
      "Min: -0.9896570444107056\n"
     ]
    }
   ],
   "source": [
    "print(f\"E[X]   : {uni.expectation().item():.2f}\")\n",
    "print(f\"E[X^2] : {uni.variance().item():.2f}\")\n",
    "print(f\"Entropy: {uni.entropy().item():.2f}\")\n",
    "print(f\"Median : {uni.median().item():.2f}\")\n",
    "print(f\"P(X <= -7.3): {uni.cdf(2):.2f}\")\n",
    "print(f\"Max: {monte_carlo.max(uni)}\")\n",
    "print(f\"Min: {monte_carlo.min(uni)}\")"
   ]
  },
  {
   "cell_type": "code",
   "execution_count": null,
   "metadata": {},
   "outputs": [],
   "source": []
  },
  {
   "cell_type": "code",
   "execution_count": null,
   "metadata": {},
   "outputs": [],
   "source": []
  },
  {
   "cell_type": "code",
   "execution_count": null,
   "metadata": {},
   "outputs": [],
   "source": []
  },
  {
   "cell_type": "code",
   "execution_count": null,
   "metadata": {},
   "outputs": [],
   "source": []
  }
 ],
 "metadata": {
  "kernelspec": {
   "display_name": "Python 3",
   "language": "python",
   "name": "python3"
  },
  "language_info": {
   "codemirror_mode": {
    "name": "ipython",
    "version": 3
   },
   "file_extension": ".py",
   "mimetype": "text/x-python",
   "name": "python",
   "nbconvert_exporter": "python",
   "pygments_lexer": "ipython3",
   "version": "3.7.3"
  }
 },
 "nbformat": 4,
 "nbformat_minor": 2
}
