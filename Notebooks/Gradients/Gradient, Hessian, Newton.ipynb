{
 "cells": [
  {
   "cell_type": "code",
   "execution_count": 5,
   "metadata": {},
   "outputs": [],
   "source": [
    "from dpm.utils import gradient, hessian, newton_step\n",
    "import torch"
   ]
  },
  {
   "cell_type": "code",
   "execution_count": 6,
   "metadata": {},
   "outputs": [
    {
     "data": {
      "text/plain": [
       "tensor([0.2491, 0.0746, 0.3974, 0.8919], requires_grad=True)"
      ]
     },
     "execution_count": 6,
     "metadata": {},
     "output_type": "execute_result"
    }
   ],
   "source": [
    "x = torch.rand(4)\n",
    "x.requires_grad = True\n",
    "x"
   ]
  },
  {
   "cell_type": "code",
   "execution_count": 7,
   "metadata": {},
   "outputs": [
    {
     "data": {
      "text/plain": [
       "tensor([0.2414, 0.3916, 0.5617, 0.8370], requires_grad=True)"
      ]
     },
     "execution_count": 7,
     "metadata": {},
     "output_type": "execute_result"
    }
   ],
   "source": [
    "theta = torch.rand(4)\n",
    "theta.requires_grad = True\n",
    "theta"
   ]
  },
  {
   "cell_type": "code",
   "execution_count": 8,
   "metadata": {},
   "outputs": [
    {
     "data": {
      "text/plain": [
       "tensor(1.3003, grad_fn=<MulBackward0>)"
      ]
     },
     "execution_count": 8,
     "metadata": {},
     "output_type": "execute_result"
    }
   ],
   "source": [
    "l = theta.dot(x) * theta.dot(theta)\n",
    "l"
   ]
  },
  {
   "cell_type": "code",
   "execution_count": 9,
   "metadata": {
    "scrolled": true
   },
   "outputs": [
    {
     "name": "stdout",
     "output_type": "stream",
     "text": [
      "(tensor([0.2964, 0.4808, 0.6896, 1.0277], grad_fn=<MulBackward0>), tensor([0.8172, 0.9211, 1.6777, 2.8681], grad_fn=<AddBackward0>))\n",
      "tensor([0.8172, 0.9211, 1.6777, 2.8681], grad_fn=<AddBackward0>)\n",
      "tensor([0.2964, 0.4808, 0.6896, 1.0277], grad_fn=<MulBackward0>)\n"
     ]
    }
   ],
   "source": [
    "g = gradient(l, (x, theta))\n",
    "print(g)\n",
    "g = gradient(l, theta)\n",
    "print(g)\n",
    "g = gradient(l, x)\n",
    "print(g)"
   ]
  },
  {
   "cell_type": "code",
   "execution_count": null,
   "metadata": {},
   "outputs": [],
   "source": []
  },
  {
   "cell_type": "code",
   "execution_count": 10,
   "metadata": {},
   "outputs": [
    {
     "data": {
      "text/plain": [
       "tensor([[2.3588, 0.2311, 0.4717, 0.8477],\n",
       "        [0.2311, 2.2352, 0.3951, 0.8235],\n",
       "        [0.4717, 0.3951, 3.0111, 1.6672],\n",
       "        [0.8477, 0.8235, 1.6672, 5.1046]], grad_fn=<StackBackward>)"
      ]
     },
     "execution_count": 10,
     "metadata": {},
     "output_type": "execute_result"
    }
   ],
   "source": [
    "h = hessian(l, theta)\n",
    "h"
   ]
  },
  {
   "cell_type": "code",
   "execution_count": 11,
   "metadata": {},
   "outputs": [
    {
     "data": {
      "text/plain": [
       "(torch.Size([4, 4]), torch.Size([4]))"
      ]
     },
     "execution_count": 11,
     "metadata": {},
     "output_type": "execute_result"
    }
   ],
   "source": [
    "Hinv = torch.inverse(h)\n",
    "Hinv.shape, g.shape"
   ]
  },
  {
   "cell_type": "code",
   "execution_count": 12,
   "metadata": {},
   "outputs": [
    {
     "data": {
      "text/plain": [
       "tensor([-0.1207, -0.1958, -0.2808, -0.4185], grad_fn=<NegBackward>)"
      ]
     },
     "execution_count": 12,
     "metadata": {},
     "output_type": "execute_result"
    }
   ],
   "source": [
    "ns = newton_step(l, theta)\n",
    "ns"
   ]
  },
  {
   "cell_type": "code",
   "execution_count": 19,
   "metadata": {},
   "outputs": [
    {
     "data": {
      "text/plain": [
       "tensor([-0.1207, -0.1958, -0.2808, -0.4185], grad_fn=<NegBackward>)"
      ]
     },
     "execution_count": 19,
     "metadata": {},
     "output_type": "execute_result"
    }
   ],
   "source": [
    "ns = newton_step(l, theta, use_pinv=True)\n",
    "ns"
   ]
  },
  {
   "cell_type": "code",
   "execution_count": 13,
   "metadata": {},
   "outputs": [],
   "source": [
    "H, g = hessian(l, theta, True)"
   ]
  },
  {
   "cell_type": "code",
   "execution_count": 14,
   "metadata": {},
   "outputs": [
    {
     "name": "stdout",
     "output_type": "stream",
     "text": [
      "tensor([[2.3588, 0.2311, 0.4717, 0.8477],\n",
      "        [0.2311, 2.2352, 0.3951, 0.8235],\n",
      "        [0.4717, 0.3951, 3.0111, 1.6672],\n",
      "        [0.8477, 0.8235, 1.6672, 5.1046]], grad_fn=<StackBackward>)\n",
      "tensor([0.8172, 0.9211, 1.6777, 2.8681], grad_fn=<AddBackward0>)\n"
     ]
    }
   ],
   "source": [
    "print(H)\n",
    "print(g)"
   ]
  },
  {
   "cell_type": "code",
   "execution_count": 18,
   "metadata": {},
   "outputs": [
    {
     "data": {
      "text/plain": [
       "tensor([-0.1207, -0.1958, -0.2808, -0.4185], grad_fn=<NegBackward>)"
      ]
     },
     "execution_count": 18,
     "metadata": {},
     "output_type": "execute_result"
    }
   ],
   "source": [
    "Hinv = torch.inverse(H)\n",
    "-Hinv.mv(g)"
   ]
  },
  {
   "cell_type": "code",
   "execution_count": null,
   "metadata": {},
   "outputs": [],
   "source": []
  },
  {
   "cell_type": "code",
   "execution_count": null,
   "metadata": {},
   "outputs": [],
   "source": []
  },
  {
   "cell_type": "code",
   "execution_count": null,
   "metadata": {},
   "outputs": [],
   "source": []
  }
 ],
 "metadata": {
  "kernelspec": {
   "display_name": "Python 3",
   "language": "python",
   "name": "python3"
  }
 },
 "nbformat": 4,
 "nbformat_minor": 2
}
