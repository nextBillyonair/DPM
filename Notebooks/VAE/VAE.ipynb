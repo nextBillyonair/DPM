{
 "cells": [
  {
   "cell_type": "code",
   "execution_count": 1,
   "metadata": {},
   "outputs": [],
   "source": [
    "%matplotlib inline\n",
    "import torch\n",
    "from dpm.distributions import Distribution, ConditionalModel, Normal\n",
    "\n",
    "class Encoder(Distribution):\n",
    "\n",
    "    def __init__(self, *args):\n",
    "        super().__init__()\n",
    "        self.encoder = ConditionalModel(*args)\n",
    "\n",
    "    def log_prob(self, z, x):\n",
    "        return self.encoder.log_prob(z, x)\n",
    "\n",
    "    def sample(self, x, compute_logprob=False):\n",
    "        return self.encoder.sample(x, compute_logprob)\n",
    "\n",
    "\n",
    "class Decoder(Distribution):\n",
    "\n",
    "    def __init__(self, *args):\n",
    "        super().__init__()\n",
    "        self.decoder = ConditionalModel(*args)\n",
    "        self.unit_normal = Normal([0.0], [1.0], learnable=False, diag=True)\n",
    "\n",
    "    def log_prob(self, samples, latents=None):\n",
    "        if latents is None:\n",
    "            raise NotImplementedError(\"VAE Decoder log_prob not implemented without latents\")\n",
    "        return self.decoder.log_prob(samples, latents) + self.unit_normal.log_prob(latents)\n",
    "\n",
    "    def sample(self, batch_size, compute_logprob=False):\n",
    "        x = self.unit_normal.sample(batch_size)\n",
    "        return self.decoder.sample(x, compute_logprob)\n",
    "\n",
    "\n",
    "# FINISH\n",
    "class VAE(Distribution):\n",
    "\n",
    "    def __init__(self, input_dim, embedding_dim):\n",
    "        super().__init__()\n",
    "        self.encoder = Encoder(input_dim, [24, 24], \"ReLU\",\n",
    "                               [embedding_dim, embedding_dim],\n",
    "                               [None, \"Softplus\"],\n",
    "                                Normal)\n",
    "        self.decoder = Decoder(embedding_dim, [24, 24], \"ReLU\",\n",
    "                               [input_dim, input_dim],\n",
    "                               [None, \"Softplus\"],\n",
    "                               Normal)\n"
   ]
  },
  {
   "cell_type": "code",
   "execution_count": null,
   "metadata": {},
   "outputs": [],
   "source": []
  }
 ],
 "metadata": {
  "kernelspec": {
   "display_name": "Python 3",
   "language": "python",
   "name": "python3"
  },
  "language_info": {
   "codemirror_mode": {
    "name": "ipython",
    "version": 3
   },
   "file_extension": ".py",
   "mimetype": "text/x-python",
   "name": "python",
   "nbconvert_exporter": "python",
   "pygments_lexer": "ipython3",
   "version": "3.7.3"
  }
 },
 "nbformat": 4,
 "nbformat_minor": 2
}
