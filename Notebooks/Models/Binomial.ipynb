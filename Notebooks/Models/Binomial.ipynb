{
 "cells": [
  {
   "cell_type": "code",
   "execution_count": 43,
   "metadata": {},
   "outputs": [],
   "source": [
    "from dpm.distributions import Binomial\n",
    "from dpm.visualize import plot_model, plot_stats\n",
    "import torch"
   ]
  },
  {
   "cell_type": "code",
   "execution_count": 44,
   "metadata": {},
   "outputs": [],
   "source": [
    "model = Binomial([10], [0.2])"
   ]
  },
  {
   "cell_type": "code",
   "execution_count": 45,
   "metadata": {},
   "outputs": [
    {
     "data": {
      "image/png": "[encoded data removed]",
      "text/plain": [
       "<Figure size 432x288 with 1 Axes>"
      ]
     },
     "metadata": {
      "needs_background": "light"
     },
     "output_type": "display_data"
    }
   ],
   "source": [
    "plot_model(model)"
   ]
  },
  {
   "cell_type": "code",
   "execution_count": 46,
   "metadata": {},
   "outputs": [
    {
     "data": {
      "text/plain": [
       "tensor([-1.3151, -1.6028, -2.4295, -1.3151, -1.6028], grad_fn=<SumBackward2>)"
      ]
     },
     "execution_count": 46,
     "metadata": {},
     "output_type": "execute_result"
    }
   ],
   "source": [
    "model.log_prob(model.sample(5))"
   ]
  },
  {
   "cell_type": "code",
   "execution_count": 47,
   "metadata": {},
   "outputs": [
    {
     "data": {
      "text/plain": [
       "(tensor([1.], grad_fn=<FloorBackward>),\n",
       " tensor([2.], grad_fn=<FloorBackward>),\n",
       " tensor([1.6000], grad_fn=<MulBackward0>),\n",
       " tensor([0.4743], grad_fn=<DivBackward0>),\n",
       " tensor([0.0250], grad_fn=<DivBackward0>))"
      ]
     },
     "execution_count": 47,
     "metadata": {},
     "output_type": "execute_result"
    }
   ],
   "source": [
    "model.median, model.mode, model.variance, model.skewness, model.kurtosis"
   ]
  },
  {
   "cell_type": "code",
   "execution_count": 48,
   "metadata": {},
   "outputs": [
    {
     "data": {
      "text/plain": [
       "tensor([1.6539], grad_fn=<MulBackward0>)"
      ]
     },
     "execution_count": 48,
     "metadata": {},
     "output_type": "execute_result"
    }
   ],
   "source": [
    "model.entropy()"
   ]
  },
  {
   "cell_type": "code",
   "execution_count": 49,
   "metadata": {},
   "outputs": [],
   "source": [
    "from dpm.models import BinomialRegression"
   ]
  },
  {
   "cell_type": "code",
   "execution_count": 51,
   "metadata": {},
   "outputs": [
    {
     "data": {
      "text/plain": [
       "tensor([[0.8567, 0.0493, 0.2744, 0.3241],\n",
       "        [0.1070, 0.6619, 0.2914, 0.4243],\n",
       "        [0.6600, 0.9576, 0.0182, 0.7705],\n",
       "        [0.1748, 0.3417, 0.9910, 0.1143],\n",
       "        [0.7089, 0.3851, 0.1516, 0.4759],\n",
       "        [0.3393, 0.1167, 0.4200, 0.7197],\n",
       "        [0.1352, 0.5267, 0.9326, 0.5299],\n",
       "        [0.7568, 0.7551, 0.6561, 0.4615],\n",
       "        [0.9480, 0.1680, 0.4755, 0.8586],\n",
       "        [0.1830, 0.6704, 0.3330, 0.0427]])"
      ]
     },
     "execution_count": 51,
     "metadata": {},
     "output_type": "execute_result"
    }
   ],
   "source": [
    "X = torch.rand((10, 4))\n",
    "X"
   ]
  },
  {
   "cell_type": "code",
   "execution_count": 52,
   "metadata": {},
   "outputs": [
    {
     "data": {
      "text/plain": [
       "tensor([0.9006, 0.9216, 0.9521, 0.2029])"
      ]
     },
     "execution_count": 52,
     "metadata": {},
     "output_type": "execute_result"
    }
   ],
   "source": [
    "Beta = torch.rand(4)\n",
    "Beta"
   ]
  },
  {
   "cell_type": "code",
   "execution_count": 58,
   "metadata": {},
   "outputs": [
    {
     "data": {
      "text/plain": [
       "tensor([[1.1440],\n",
       "        [1.0699],\n",
       "        [1.6507],\n",
       "        [1.4391],\n",
       "        [1.2343],\n",
       "        [0.9591],\n",
       "        [1.6027],\n",
       "        [2.0958],\n",
       "        [1.6356],\n",
       "        [1.1083]])"
      ]
     },
     "execution_count": 58,
     "metadata": {},
     "output_type": "execute_result"
    }
   ],
   "source": [
    "(X @ Beta).view(-1, 1)"
   ]
  },
  {
   "cell_type": "code",
   "execution_count": null,
   "metadata": {},
   "outputs": [],
   "source": []
  }
 ],
 "metadata": {
  "kernelspec": {
   "display_name": "Python 3",
   "language": "python",
   "name": "python3"
  },
  "language_info": {
   "codemirror_mode": {
    "name": "ipython",
    "version": 3
   },
   "file_extension": ".py",
   "mimetype": "text/x-python",
   "name": "python",
   "nbconvert_exporter": "python",
   "pygments_lexer": "ipython3",
   "version": "3.7.3"
  }
 },
 "nbformat": 4,
 "nbformat_minor": 2
}
