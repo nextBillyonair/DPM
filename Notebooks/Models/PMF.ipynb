{
 "cells": [
  {
   "cell_type": "code",
   "execution_count": 1,
   "metadata": {},
   "outputs": [],
   "source": [
    "from dpm.models import PMF\n",
    "from dpm.distributions import Data, Normal\n",
    "from dpm.visualize import plot_stats\n",
    "import numpy as np\n",
    "import torch\n",
    "N = 60\n",
    "M = 50\n",
    "D = 3\n",
    "\n"
   ]
  },
  {
   "cell_type": "code",
   "execution_count": 2,
   "metadata": {},
   "outputs": [],
   "source": [
    "def build_toy_dataset(U, V, N, M, noise_std=0.1):\n",
    "    R = np.dot(np.transpose(U), V) + np.random.normal(0, noise_std, size=(N, M))\n",
    "    return R"
   ]
  },
  {
   "cell_type": "code",
   "execution_count": 3,
   "metadata": {},
   "outputs": [
    {
     "data": {
      "text/plain": [
       "(3, 50)"
      ]
     },
     "execution_count": 3,
     "metadata": {},
     "output_type": "execute_result"
    }
   ],
   "source": [
    "U_true = np.random.randn(D, N)\n",
    "V_true = np.random.randn(D, M)\n",
    "V_true.shape"
   ]
  },
  {
   "cell_type": "code",
   "execution_count": 4,
   "metadata": {},
   "outputs": [
    {
     "data": {
      "text/plain": [
       "torch.Size([1000, 60, 50])"
      ]
     },
     "execution_count": 4,
     "metadata": {},
     "output_type": "execute_result"
    }
   ],
   "source": [
    "R_true = np.stack([build_toy_dataset(U_true, V_true, N, M) for _ in range(1000)])\n",
    "R_true.shape\n",
    "R_true = torch.tensor(R_true).float()\n",
    "R_true.shape"
   ]
  },
  {
   "cell_type": "code",
   "execution_count": null,
   "metadata": {},
   "outputs": [],
   "source": []
  },
  {
   "cell_type": "code",
   "execution_count": 5,
   "metadata": {},
   "outputs": [
    {
     "data": {
      "text/plain": [
       "(torch.Size([3, 60]), torch.Size([3, 50]))"
      ]
     },
     "execution_count": 5,
     "metadata": {},
     "output_type": "execute_result"
    }
   ],
   "source": [
    "model = PMF(N, M, D)\n",
    "model.U.shape, model.V.shape"
   ]
  },
  {
   "cell_type": "code",
   "execution_count": 6,
   "metadata": {},
   "outputs": [
    {
     "data": {
      "text/plain": [
       "tensor([[[ 0.3864,  0.0618, -0.5526,  ...,  1.6363, -0.7971, -0.9421],\n",
       "         [-0.5244, -0.6330,  0.7331,  ...,  0.0066, -0.2852, -0.9150],\n",
       "         [-2.2477,  0.9635, -2.7497,  ...,  0.3967, -1.2262, -0.6316],\n",
       "         ...,\n",
       "         [ 1.4413, -0.1523, -0.2828,  ...,  0.2619, -0.3119, -0.1791],\n",
       "         [-1.7410, -0.8838,  0.7015,  ..., -1.4649,  0.9585, -1.0214],\n",
       "         [-0.9756,  0.9575,  1.7558,  ...,  0.2504, -0.0841,  0.3843]],\n",
       "\n",
       "        [[ 0.3503, -1.4146, -0.9161,  ..., -1.2408,  3.4266,  1.1365],\n",
       "         [-0.9123, -0.7843,  1.1742,  ...,  0.6489, -0.0883, -0.2757],\n",
       "         [ 0.6776, -2.0973,  1.1958,  ..., -0.3473, -1.2518, -0.2413],\n",
       "         ...,\n",
       "         [ 0.0319, -0.7184,  0.6228,  ...,  0.7964,  0.0059, -0.9628],\n",
       "         [-0.2531,  0.5317,  0.5772,  ...,  0.5072, -1.0253, -0.6155],\n",
       "         [-1.2977, -0.1704, -0.6360,  ..., -1.4910, -0.1815, -0.8069]],\n",
       "\n",
       "        [[-1.7029,  0.6938,  0.4071,  ..., -0.2331, -1.1598, -1.7129],\n",
       "         [ 0.0884,  0.9503, -1.3626,  ..., -0.0071,  2.9347, -1.0316],\n",
       "         [-0.8122, -0.3580,  0.0872,  ...,  1.0105,  0.8425,  2.5890],\n",
       "         ...,\n",
       "         [ 1.0764,  0.9072, -0.5573,  ...,  1.5459,  0.6335,  0.1930],\n",
       "         [ 0.0780,  1.7025, -1.2251,  ...,  0.6802, -1.5616, -1.8141],\n",
       "         [ 0.6066,  0.3376,  0.0521,  ...,  0.2323,  0.3401,  1.7528]]],\n",
       "       grad_fn=<AddBackward0>)"
      ]
     },
     "execution_count": 6,
     "metadata": {},
     "output_type": "execute_result"
    }
   ],
   "source": [
    "model.sample(3)"
   ]
  },
  {
   "cell_type": "code",
   "execution_count": 7,
   "metadata": {},
   "outputs": [
    {
     "data": {
      "text/plain": [
       "torch.Size([60, 50])"
      ]
     },
     "execution_count": 7,
     "metadata": {},
     "output_type": "execute_result"
    }
   ],
   "source": [
    "model.reconstruct().shape"
   ]
  },
  {
   "cell_type": "code",
   "execution_count": 8,
   "metadata": {},
   "outputs": [
    {
     "data": {
      "text/plain": [
       "tensor([-7027.1045, -7047.5474, -7028.6265, -7024.4932, -7044.6143, -7037.6802,\n",
       "        -7042.8062, -7023.6289, -7046.0161, -7041.5801, -7041.6890, -7035.0215,\n",
       "        -7041.4746, -7029.5771, -7037.3916, -7040.2969, -7045.9546, -7025.2485,\n",
       "        -7043.1997, -7037.6387, -7048.9106, -7020.2012, -7024.0854, -7038.0679,\n",
       "        -7030.3247, -7038.5947, -7044.8608, -7052.8882, -7032.2134, -7038.6880,\n",
       "        -7026.4058, -7043.8979, -7033.9336, -7040.6465, -7054.6167, -7040.7056,\n",
       "        -7023.5215, -7040.3813, -7018.1655, -7039.7949, -7028.8081, -7029.9971,\n",
       "        -7043.8394, -7051.2017, -7024.6602, -7042.6514, -7043.4399, -7048.4839,\n",
       "        -7030.8076, -7054.9277, -7025.5718, -7029.3511, -7059.5195, -7018.4336,\n",
       "        -7052.9248, -7040.9985, -7041.0078, -7043.1841, -7031.2280, -7024.3472,\n",
       "        -7027.0190, -7043.1982, -7051.7314, -7030.1260, -7044.2197, -7045.5161,\n",
       "        -7031.4199, -7029.6484, -7040.7139, -7049.8540, -7048.1182, -7026.0791,\n",
       "        -7029.9429, -7021.1357, -7035.6724, -7035.7617, -7030.2378, -7038.7422,\n",
       "        -7052.0449, -7027.5205, -7051.4663, -7049.3696, -7031.0151, -7037.5947,\n",
       "        -7051.0044, -7033.4438, -7022.9141, -7044.8872, -7044.7100, -7039.8481,\n",
       "        -7022.2192, -7025.4937, -7045.9985, -7034.7598, -7034.9062, -7032.4819,\n",
       "        -7039.1650, -7028.6167, -7034.4370, -7035.6455, -7038.7451, -7051.2622,\n",
       "        -7029.6914, -7020.8359, -7053.8560, -7051.3286, -7033.7437, -7050.0767,\n",
       "        -7047.0562, -7037.7178, -7031.7192, -7039.9307, -7050.8516, -7029.2588,\n",
       "        -7023.3232, -7044.4258, -7033.5908, -7045.9673, -7037.5947, -7036.3843,\n",
       "        -7047.2930, -7043.3228, -7038.9341, -7046.9800, -7038.5400, -7046.7832,\n",
       "        -7041.4414, -7029.4219, -7051.5752, -7039.4482, -7050.2378, -7041.7500,\n",
       "        -7033.1729, -7026.6587, -7038.5771, -7024.5576, -7040.6084, -7042.3213,\n",
       "        -7022.0068, -7044.6689, -7046.1426, -7020.6929, -7041.9980, -7044.5493,\n",
       "        -7058.0254, -7029.2251, -7026.6699, -7037.4556, -7035.1562, -7047.8423,\n",
       "        -7035.2261, -7032.5732, -7054.0083, -7031.4116, -7033.5703, -7056.7158,\n",
       "        -7028.0952, -7046.2480, -7034.9053, -7039.2695, -7046.1299, -7026.0791,\n",
       "        -7035.4160, -7044.9438, -7033.0850, -7043.3247, -7033.8140, -7045.8135,\n",
       "        -7045.2764, -7059.1865, -7042.7480, -7039.4966, -7031.2886, -7034.9380,\n",
       "        -7041.2114, -7022.6230, -7036.5869, -7030.9790, -7033.9795, -7040.0356,\n",
       "        -7035.5786, -7031.4419, -7031.9785, -7033.2700, -7030.5601, -7038.8936,\n",
       "        -7035.6064, -7042.2202, -7038.8022, -7036.7568, -7029.2202, -7044.9775,\n",
       "        -7037.2656, -7050.9312, -7033.1289, -7032.1504, -7041.7002, -7037.6372,\n",
       "        -7045.3013, -7026.5962, -7029.3101, -7023.2642, -7053.0098, -7038.5317,\n",
       "        -7036.2578, -7029.8784, -7038.6343, -7036.8306, -7040.5439, -7039.0269,\n",
       "        -7038.6118, -7036.9043, -7033.0415, -7033.2935, -7045.6030, -7031.8745,\n",
       "        -7045.7681, -7051.9414, -7035.6514, -7035.0547, -7045.9375, -7037.0132,\n",
       "        -7020.8594, -7042.3784, -7032.2876, -7031.7290, -7028.4287, -7029.7524,\n",
       "        -7038.4922, -7037.1440, -7025.8169, -7054.1753, -7042.8677, -7037.2822,\n",
       "        -7041.1724, -7024.7979, -7044.5996, -7048.4663, -7040.9604, -7037.4619,\n",
       "        -7047.2764, -7042.0425, -7039.1572, -7042.1328, -7039.0776, -7028.4941,\n",
       "        -7042.5742, -7037.6890, -7049.8916, -7060.0815, -7040.9062, -7038.1763,\n",
       "        -7043.2280, -7035.5278, -7031.9707, -7041.8052, -7055.0947, -7035.3818,\n",
       "        -7025.9058, -7027.7441, -7036.6533, -7036.9194, -7041.5781, -7027.4829,\n",
       "        -7042.6016, -7047.9121, -7033.6182, -7043.7554, -7038.3511, -7036.1699,\n",
       "        -7038.2246, -7033.8320, -7040.3228, -7032.1011, -7045.3662, -7023.7192,\n",
       "        -7048.1274, -7024.5215, -7029.6123, -7038.9453, -7038.5752, -7045.0425,\n",
       "        -7045.5610, -7036.9121, -7038.7236, -7029.4092, -7034.4785, -7040.6060,\n",
       "        -7030.4126, -7044.5557, -7034.6167, -7028.6929, -7030.2935, -7014.2593,\n",
       "        -7048.4185, -7025.9526, -7061.9883, -7027.3682, -7026.5649, -7030.8330,\n",
       "        -7038.2324, -7028.8525, -7031.9614, -7025.2671, -7044.3696, -7034.5586,\n",
       "        -7052.1880, -7046.7178, -7033.7363, -7024.1387, -7032.2920, -7027.4956,\n",
       "        -7025.5923, -7040.7939, -7049.7871, -7029.7988, -7032.0234, -7045.7119,\n",
       "        -7052.4927, -7036.4395, -7026.5161, -7045.5962, -7060.2725, -7026.0532,\n",
       "        -7036.4248, -7029.3423, -7039.5874, -7056.7368, -7034.2896, -7045.5518,\n",
       "        -7046.3896, -7030.7500, -7036.7148, -7045.2422, -7025.1963, -7043.3770,\n",
       "        -7033.6230, -7035.6064, -7040.1792, -7014.3784, -7040.2393, -7043.5654,\n",
       "        -7032.8633, -7031.1289, -7053.3638, -7042.8750, -7050.7642, -7036.2446,\n",
       "        -7053.3516, -7034.7212, -7037.0566, -7044.0254, -7035.3281, -7041.8735,\n",
       "        -7040.7368, -7016.8174, -7039.7402, -7038.1270, -7033.1763, -7035.7646,\n",
       "        -7029.5005, -7024.0703, -7019.8086, -7036.8789, -7049.7119, -7032.9263,\n",
       "        -7041.1748, -7029.3042, -7045.7793, -7033.9238, -7037.4751, -7043.1382,\n",
       "        -7013.7905, -7052.2935, -7039.2935, -7054.8223, -7036.9536, -7040.2573,\n",
       "        -7035.2324, -7035.7520, -7037.1299, -7052.6973, -7033.3159, -7034.1387,\n",
       "        -7051.5552, -7060.0107, -7040.4766, -7041.7988, -7038.9966, -7032.3589,\n",
       "        -7048.6592, -7029.2314, -7029.5635, -7037.2925, -7041.4917, -7051.3853,\n",
       "        -7050.5347, -7027.2891, -7043.2881, -7044.2446, -7038.1255, -7062.5903,\n",
       "        -7034.1147, -7030.6860, -7017.7051, -7043.1079, -7026.7666, -7041.3120,\n",
       "        -7036.8652, -7041.6147, -7037.0093, -7047.2690, -7048.8931, -7015.8701,\n",
       "        -7039.7065, -7052.3491, -7042.5195, -7038.4600, -7040.4214, -7037.3120,\n",
       "        -7020.2178, -7032.6855, -7037.5557, -7047.5444, -7012.3853, -7047.2759,\n",
       "        -7059.8042, -7035.0293, -7033.9868, -7038.1128, -7042.5962, -7049.5254,\n",
       "        -7036.2676, -7057.7539, -7045.5679, -7038.1157, -7052.3369, -7035.7070,\n",
       "        -7030.4478, -7062.2915, -7016.2837, -7026.6572, -7040.3232, -7047.6094,\n",
       "        -7039.2544, -7025.1665, -7034.3232, -7043.2251, -7036.7588, -7044.8535,\n",
       "        -7046.7515, -7044.2334, -7049.5059, -7044.2280, -7024.3135, -7042.4771,\n",
       "        -7030.8716, -7041.5044, -7027.2378, -7031.4473, -7039.5903, -7037.9868,\n",
       "        -7029.3276, -7031.5435, -7035.8032, -7038.0693, -7049.2432, -7040.6143,\n",
       "        -7031.9272, -7039.1113, -7030.4375, -7018.9678, -7017.5024, -7027.4463,\n",
       "        -7037.8887, -7041.6699, -7046.9883, -7049.1958, -7031.0552, -7042.1260,\n",
       "        -7041.0156, -7023.2075, -7051.8716, -7039.6733, -7026.5742, -7053.7700,\n",
       "        -7034.1758, -7022.8657, -7032.9185, -7036.4316, -7019.0264, -7027.4624,\n",
       "        -7034.1431, -7035.9937, -7034.8506, -7037.6548, -7029.8022, -7046.8696,\n",
       "        -7038.0474, -7038.9702, -7041.8823, -7040.2129, -7046.3931, -7048.1450,\n",
       "        -7038.9590, -7041.6880, -7024.2686, -7027.9058, -7036.9375, -7040.3232,\n",
       "        -7046.6416, -7064.1758, -7027.1631, -7035.8765, -7041.0620, -7033.6250,\n",
       "        -7023.2969, -7017.0342, -7038.9990, -7060.0239, -7050.8994, -7044.2417,\n",
       "        -7043.7227, -7041.6289, -7035.2793, -7044.4922, -7042.5659, -7042.8296,\n",
       "        -7047.4912, -7046.2417, -7031.6167, -7033.9556, -7035.4482, -7053.9863,\n",
       "        -7023.9204, -7048.5825, -7046.7866, -7051.4316, -7040.5981, -7021.4829,\n",
       "        -7046.8652, -7035.2651, -7045.0972, -7036.6538, -7038.7422, -7021.9072,\n",
       "        -7025.7847, -7057.6392, -7035.7974, -7038.1309, -7043.1304, -7059.1768,\n",
       "        -7049.7593, -7028.7046, -7046.6753, -7050.5474, -7027.5723, -7031.1631,\n",
       "        -7035.3643, -7036.9922, -7037.2896, -7050.6411, -7050.7422, -7040.4136,\n",
       "        -7037.2070, -7040.7964, -7034.3081, -7042.6562, -7039.3955, -7045.2119,\n",
       "        -7050.6528, -7037.7817, -7026.7632, -7045.3052, -7030.0830, -7037.7393,\n",
       "        -7049.7524, -7033.9268, -7034.6274, -7030.3066, -7028.6216, -7034.9102,\n",
       "        -7044.7163, -7038.2476, -7032.0771, -7031.5381, -7036.4170, -7050.5796,\n",
       "        -7013.6025, -7023.4800, -7040.5649, -7039.2871, -7044.4233, -7039.6113,\n",
       "        -7041.5522, -7053.1396, -7046.7612, -7068.7129, -7033.8359, -7030.4199,\n",
       "        -7039.5376, -7039.3857, -7024.6143, -7039.6133, -7026.2017, -7034.3105,\n",
       "        -7029.4556, -7031.6138, -7037.9307, -7029.7476, -7023.5254, -7038.8408,\n",
       "        -7046.4741, -7012.0083, -7033.7124, -7020.7178, -7024.0396, -7038.2949,\n",
       "        -7043.4165, -7037.6450, -7034.9634, -7036.7720, -7029.9478, -7039.4243,\n",
       "        -7038.6377, -7040.8159, -7043.9121, -7043.1460, -7058.4966, -7049.7700,\n",
       "        -7041.6353, -7039.4604, -7024.2222, -7054.1079, -7040.3164, -7040.3145,\n",
       "        -7030.4263, -7045.2549, -7035.7749, -7029.3096, -7031.8115, -7029.4097,\n",
       "        -7044.6074, -7020.8184, -7043.7983, -7022.8452, -7037.7808, -7045.5439,\n",
       "        -7044.9653, -7030.7334, -7037.1650, -7028.7119, -7029.7769, -7040.2285,\n",
       "        -7035.8882, -7042.8242, -7056.3789, -7026.2876, -7035.5918, -7019.9937,\n",
       "        -7035.7148, -7050.2827, -7040.2593, -7038.6587, -7036.5669, -7040.0698,\n",
       "        -7041.3447, -7044.3721, -7048.2617, -7041.8579, -7035.6001, -7047.1514,\n",
       "        -7036.1870, -7033.3584, -7039.4521, -7025.6445, -7045.5977, -7038.3286,\n",
       "        -7037.6680, -7048.0532, -7021.9419, -7040.6387, -7043.2866, -7053.3667,\n",
       "        -7042.4678, -7047.9434, -7035.0776, -7073.8691, -7029.0640, -7052.9614,\n",
       "        -7052.9644, -7023.8345, -7028.1440, -7035.3140, -7039.4834, -7030.5068,\n",
       "        -7031.0249, -7046.3247, -7043.3037, -7027.8232, -7021.5640, -7049.1470,\n",
       "        -7035.6387, -7035.8057, -7042.4712, -7027.6597, -7034.9912, -7048.2144,\n",
       "        -7029.1392, -7035.3936, -7044.8667, -7046.3843, -7054.4844, -7045.2764,\n",
       "        -7034.2466, -7029.2979, -7041.5044, -7033.8130, -7044.3228, -7036.9146,\n",
       "        -7039.5513, -7021.0713, -7060.3701, -7041.0137, -7041.4038, -7027.0566,\n",
       "        -7036.6577, -7027.7432, -7039.4756, -7057.5903, -7050.9067, -7024.8428,\n",
       "        -7020.3374, -7012.3984, -7032.0596, -7033.6724, -7037.5894, -7030.1548,\n",
       "        -7044.0015, -7038.0713, -7029.9448, -7040.1118, -7025.5957, -7043.3652,\n",
       "        -7018.9883, -7042.6035, -7029.9492, -7034.9253, -7047.4946, -7029.4546,\n",
       "        -7034.3564, -7038.7798, -7030.4683, -7035.2441, -7037.6948, -7030.7329,\n",
       "        -7030.8813, -7024.1880, -7031.3301, -7037.1650, -7018.6875, -7030.3276,\n",
       "        -7038.7144, -7019.9126, -7030.8140, -7027.9238, -7011.0225, -7030.4590,\n",
       "        -7042.4321, -7044.3057, -7021.3140, -7025.4014, -7039.7764, -7039.1997,\n",
       "        -7042.8560, -7042.7969, -7040.2124, -7051.9160, -7048.2397, -7040.2769,\n",
       "        -7048.4736, -7042.9639, -7028.5171, -7031.4336, -7038.4497, -7027.9629,\n",
       "        -7040.0068, -7038.9033, -7056.3682, -7045.2275, -7045.7856, -7046.2573,\n",
       "        -7036.6055, -7023.1836, -7040.6523, -7025.5493, -7038.0322, -7035.7661,\n",
       "        -7035.5308, -7046.8213, -7037.9849, -7035.3804, -7039.0225, -7055.9214,\n",
       "        -7022.2466, -7040.1465, -7042.3052, -7037.4302, -7017.2920, -7018.7319,\n",
       "        -7040.9648, -7032.8389, -7034.1138, -7046.6890, -7034.1206, -7033.6128,\n",
       "        -7042.6191, -7042.9536, -7042.7935, -7039.5386, -7040.7144, -7032.6479,\n",
       "        -7045.3071, -7030.4492, -7041.6963, -7029.9146, -7051.7427, -7047.0151,\n",
       "        -7039.5371, -7056.4639, -7032.1372, -7021.2256, -7030.9150, -7042.7124,\n",
       "        -7047.5220, -7030.1260, -7037.1689, -7024.9893, -7041.5630, -7047.6924,\n",
       "        -7038.7051, -7023.5132, -7031.7109, -7041.0747, -7039.2500, -7042.7510,\n",
       "        -7039.9165, -7039.9263, -7048.6143, -7034.3003, -7046.3140, -7036.6489,\n",
       "        -7038.7915, -7047.6675, -7036.4785, -7030.4775, -7033.6660, -7034.1519,\n",
       "        -7037.3823, -7026.2183, -7041.9941, -7034.9019, -7034.1172, -7038.7554,\n",
       "        -7067.9478, -7037.8491, -7049.2544, -7043.9678, -7031.5415, -7037.3496,\n",
       "        -7039.9629, -7029.8047, -7040.1631, -7023.8779, -7050.8320, -7043.5557,\n",
       "        -7042.2461, -7045.3521, -7046.2734, -7033.8677, -7043.9438, -7046.5332,\n",
       "        -7044.9795, -7016.5830, -7020.2393, -7036.9375, -7033.8535, -7022.1431,\n",
       "        -7031.2505, -7044.6226, -7022.6006, -7034.2329, -7035.0806, -7051.0039,\n",
       "        -7026.9766, -7036.9414, -7034.2554, -7040.8809, -7038.7183, -7044.9878,\n",
       "        -7050.2427, -7026.9048, -7039.9683, -7031.9873, -7035.5073, -7037.3843,\n",
       "        -7021.4575, -7034.9780, -7049.8877, -7043.6133, -7043.6333, -7033.8936,\n",
       "        -7050.0288, -7049.4199, -7028.5479, -7030.7109, -7052.9600, -7026.6509,\n",
       "        -7048.1138, -7030.9194, -7027.1978, -7037.1318, -7029.4341, -7036.1172,\n",
       "        -7047.2046, -7037.1001, -7039.5103, -7037.1694, -7034.0493, -7043.2808,\n",
       "        -7040.2266, -7030.2583, -7038.8037, -7046.3335, -7038.3843, -7040.2397,\n",
       "        -7041.2158, -7051.2319, -7042.6519, -7032.5205, -7041.3584, -7030.0288,\n",
       "        -7033.5264, -7029.0996, -7033.0835, -7030.4263, -7036.6152, -7030.4297,\n",
       "        -7019.1968, -7052.0928, -7045.7734, -7033.2227, -7027.2593, -7033.4419,\n",
       "        -7028.1572, -7045.9390, -7032.4775, -7037.3159, -7032.4849, -7014.1270,\n",
       "        -7035.5625, -7029.8550, -7042.9653, -7041.4956, -7060.3643, -7045.5513,\n",
       "        -7048.5444, -7033.7173, -7041.7305, -7034.2607, -7046.5933, -7036.2461,\n",
       "        -7033.7344, -7050.1528, -7036.3438, -7035.7891, -7048.2368, -7042.1572,\n",
       "        -7035.2378, -7059.2583, -7052.4604, -7042.2490, -7040.8374, -7034.2197,\n",
       "        -7023.5654, -7036.6968, -7042.9038, -7042.9531, -7051.1357, -7054.2505,\n",
       "        -7033.7163, -7040.2856, -7026.0283, -7040.2510, -7014.0122, -7031.1470,\n",
       "        -7042.1831, -7024.7720, -7035.5879, -7030.0479],\n",
       "       grad_fn=<AddBackward0>)"
      ]
     },
     "execution_count": 8,
     "metadata": {},
     "output_type": "execute_result"
    }
   ],
   "source": [
    "model.log_prob(R_true)"
   ]
  },
  {
   "cell_type": "code",
   "execution_count": 9,
   "metadata": {},
   "outputs": [],
   "source": [
    "stats = model.fit(R_true, epochs=5000, lr=0.001)"
   ]
  },
  {
   "cell_type": "code",
   "execution_count": 10,
   "metadata": {},
   "outputs": [
    {
     "data": {
      "image/png": "[encoded data removed]",
      "text/plain": [
       "<Figure size 864x432 with 1 Axes>"
      ]
     },
     "metadata": {
      "needs_background": "light"
     },
     "output_type": "display_data"
    }
   ],
   "source": [
    "plot_stats(stats)"
   ]
  },
  {
   "cell_type": "code",
   "execution_count": 11,
   "metadata": {},
   "outputs": [
    {
     "data": {
      "text/plain": [
       "tensor(0.0100, grad_fn=<MeanBackward1>)"
      ]
     },
     "execution_count": 11,
     "metadata": {},
     "output_type": "execute_result"
    }
   ],
   "source": [
    "model.mse(R_true)"
   ]
  },
  {
   "cell_type": "code",
   "execution_count": 12,
   "metadata": {},
   "outputs": [
    {
     "data": {
      "text/plain": [
       "tensor(0.0798, grad_fn=<MeanBackward1>)"
      ]
     },
     "execution_count": 12,
     "metadata": {},
     "output_type": "execute_result"
    }
   ],
   "source": [
    "model.mae(R_true)"
   ]
  },
  {
   "cell_type": "code",
   "execution_count": 13,
   "metadata": {},
   "outputs": [
    {
     "data": {
      "text/plain": [
       "tensor([-2772.1079, -2771.6638, -2772.0945, -2772.0354, -2772.0166, -2771.4441,\n",
       "        -2771.2429, -2772.0037, -2771.9163, -2771.3701, -2772.0327, -2771.6177,\n",
       "        -2771.5977, -2772.0054, -2772.4866, -2772.4363, -2771.6101, -2771.9668,\n",
       "        -2772.0203, -2771.5334, -2772.0017, -2771.4160, -2771.4902, -2771.9290,\n",
       "        -2771.1877, -2771.4189, -2771.5288, -2772.8074, -2771.7419, -2772.1072,\n",
       "        -2771.4731, -2771.9075, -2772.0149, -2772.1665, -2771.7112, -2771.9026,\n",
       "        -2771.4729, -2771.9221, -2772.3171, -2771.8203, -2771.7212, -2771.5601,\n",
       "        -2771.7227, -2772.4434, -2771.9895, -2772.6396, -2772.0271, -2771.8552,\n",
       "        -2772.0645, -2771.7229, -2771.3062, -2772.3469, -2771.9324, -2771.5688,\n",
       "        -2772.9573, -2771.5935, -2772.1655, -2772.4878, -2771.6162, -2771.3281,\n",
       "        -2772.3115, -2772.2183, -2771.3230, -2771.6738, -2771.4104, -2771.8079,\n",
       "        -2772.1982, -2771.6250, -2771.9639, -2771.7407, -2772.1042, -2771.6021,\n",
       "        -2771.6431, -2771.9194, -2771.5059, -2771.6475, -2771.4153, -2771.6758,\n",
       "        -2771.8035, -2772.1396, -2771.7834, -2772.2991, -2771.7869, -2772.5906,\n",
       "        -2772.3262, -2771.5874, -2771.6099, -2770.9512, -2771.4883, -2771.6223,\n",
       "        -2771.4790, -2771.9634, -2771.2830, -2772.1299, -2771.0508, -2771.7285,\n",
       "        -2771.3386, -2771.9048, -2772.2578, -2772.3657, -2771.7490, -2771.6309,\n",
       "        -2771.6453, -2772.0603, -2771.2800, -2771.2024, -2771.3879, -2771.1938,\n",
       "        -2772.5908, -2770.8728, -2771.8579, -2772.0610, -2772.5808, -2771.5950,\n",
       "        -2771.9397, -2772.1057, -2772.1531, -2771.6338, -2771.7124, -2772.7051,\n",
       "        -2772.4988, -2772.0845, -2771.8948, -2771.2305, -2771.5010, -2772.1470,\n",
       "        -2771.9004, -2771.4333, -2772.2256, -2771.8811, -2772.0332, -2771.3591,\n",
       "        -2772.1631, -2771.9578, -2771.7524, -2771.9756, -2771.8613, -2771.8818,\n",
       "        -2771.5818, -2771.4031, -2772.0173, -2771.2993, -2771.2407, -2772.0481,\n",
       "        -2771.9917, -2772.4214, -2772.1719, -2771.7471, -2771.5222, -2771.7410,\n",
       "        -2771.2520, -2771.6299, -2771.9043, -2771.4526, -2772.6504, -2771.5476,\n",
       "        -2771.3552, -2771.4182, -2771.9099, -2771.6194, -2771.7046, -2771.9690,\n",
       "        -2771.2341, -2772.2119, -2772.0852, -2772.0583, -2771.8809, -2772.2908,\n",
       "        -2771.5049, -2771.9316, -2772.1558, -2772.0083, -2772.2170, -2771.2656,\n",
       "        -2771.8127, -2771.6421, -2771.7720, -2771.5935, -2771.9556, -2771.4412,\n",
       "        -2770.7949, -2771.9338, -2771.2949, -2772.7427, -2771.6973, -2771.3645,\n",
       "        -2772.3262, -2771.8311, -2771.8604, -2771.6416, -2772.2498, -2772.9504,\n",
       "        -2771.9304, -2773.1372, -2772.1155, -2772.0181, -2771.3711, -2771.8469,\n",
       "        -2771.3540, -2772.1802, -2771.7642, -2771.4646, -2772.0549, -2771.8223,\n",
       "        -2771.3101, -2771.5696, -2771.2983, -2771.4849, -2771.8845, -2772.3384,\n",
       "        -2771.0110, -2772.4192, -2772.1677, -2772.3501, -2771.6907, -2771.3567,\n",
       "        -2771.2017, -2771.8745, -2771.3289, -2771.5811, -2770.9961, -2771.2356,\n",
       "        -2770.8167, -2771.5488, -2771.3262, -2771.8484, -2771.3901, -2772.3467,\n",
       "        -2771.5781, -2772.1814, -2771.7400, -2771.7000, -2771.9856, -2772.0242,\n",
       "        -2772.3154, -2772.2622, -2772.2236, -2771.9895, -2771.5459, -2771.8127,\n",
       "        -2772.1802, -2771.8816, -2772.2126, -2771.9688, -2771.4761, -2771.9631,\n",
       "        -2771.2551, -2771.4089, -2771.8853, -2772.5835, -2771.6606, -2771.2183,\n",
       "        -2772.0071, -2771.3982, -2772.0237, -2771.7402, -2771.8149, -2772.3884,\n",
       "        -2771.1174, -2771.5383, -2772.1814, -2771.6313, -2771.8945, -2772.4360,\n",
       "        -2771.6736, -2771.6860, -2772.2307, -2771.4463, -2772.2437, -2771.9749,\n",
       "        -2771.9346, -2771.6313, -2771.5505, -2771.7947, -2772.3108, -2772.0483,\n",
       "        -2771.6028, -2771.5264, -2772.1665, -2771.2495, -2771.6426, -2771.9507,\n",
       "        -2771.1570, -2771.7859, -2771.2734, -2771.4255, -2772.4871, -2770.8823,\n",
       "        -2771.5796, -2771.9573, -2771.8152, -2772.1470, -2771.2039, -2772.4907,\n",
       "        -2772.1582, -2771.9224, -2772.0200, -2771.4744, -2771.9561, -2772.0029,\n",
       "        -2772.0239, -2772.0266, -2771.5457, -2771.6609, -2771.8044, -2772.1626,\n",
       "        -2771.6147, -2771.8298, -2772.6265, -2771.2754, -2771.6746, -2771.7356,\n",
       "        -2771.8328, -2772.2483, -2771.4490, -2772.1414, -2771.9651, -2771.9910,\n",
       "        -2772.1018, -2771.4424, -2771.7578, -2771.9841, -2771.4827, -2771.3752,\n",
       "        -2771.0608, -2771.3464, -2771.7361, -2772.1543, -2771.4531, -2772.2856,\n",
       "        -2772.3586, -2771.4514, -2771.0210, -2772.3330, -2771.7588, -2771.9998,\n",
       "        -2772.6357, -2772.3960, -2771.4783, -2771.7988, -2771.4722, -2771.7791,\n",
       "        -2771.7458, -2772.1538, -2771.6062, -2771.7476, -2772.0103, -2771.9954,\n",
       "        -2771.1069, -2772.4387, -2771.7146, -2771.2695, -2771.5703, -2772.0825,\n",
       "        -2772.2219, -2771.4795, -2771.9800, -2772.3909, -2771.6421, -2771.1897,\n",
       "        -2771.3977, -2771.7358, -2771.6062, -2772.3726, -2771.8191, -2771.3247,\n",
       "        -2772.2656, -2771.4688, -2771.6328, -2771.7288, -2772.4573, -2772.5291,\n",
       "        -2771.8542, -2771.5854, -2771.9956, -2771.9512, -2771.4939, -2772.0916,\n",
       "        -2770.9351, -2771.4373, -2772.2544, -2771.1172, -2771.6689, -2772.5630,\n",
       "        -2772.0691, -2772.0476, -2771.6174, -2771.9832, -2771.5046, -2772.0454,\n",
       "        -2772.5103, -2771.0833, -2772.2817, -2772.1497, -2771.4009, -2771.8276,\n",
       "        -2771.1074, -2771.6135, -2772.1204, -2771.0161, -2772.1179, -2771.4246,\n",
       "        -2772.1907, -2771.4551, -2771.9651, -2771.6958, -2771.6311, -2772.0588,\n",
       "        -2771.5115, -2771.8181, -2771.4604, -2771.8403, -2771.3093, -2770.8906,\n",
       "        -2771.9060, -2771.3633, -2772.0051, -2772.3857, -2771.7456, -2772.1890,\n",
       "        -2771.7585, -2771.9475, -2771.6382, -2771.6560, -2772.0715, -2772.2017,\n",
       "        -2772.4680, -2771.6206, -2771.6865, -2771.2712, -2772.1619, -2771.5642,\n",
       "        -2771.0642, -2772.2107, -2771.2100, -2771.5916, -2771.7043, -2772.0173,\n",
       "        -2771.2852, -2771.9854, -2771.8767, -2771.5554, -2771.6160, -2772.1140,\n",
       "        -2772.0281, -2771.8694, -2772.0969, -2772.3552, -2771.5940, -2771.9028,\n",
       "        -2772.1306, -2771.4651, -2772.4700, -2772.2871, -2771.9495, -2771.7078,\n",
       "        -2772.1865, -2771.7676, -2772.3879, -2771.2505, -2772.1870, -2771.8342,\n",
       "        -2770.9875, -2771.6140, -2771.8953, -2771.9077, -2771.5312, -2771.3069,\n",
       "        -2771.4185, -2771.6328, -2771.1401, -2771.8079, -2771.6055, -2771.3474,\n",
       "        -2772.2964, -2771.4702, -2771.6780, -2772.4851, -2772.1487, -2772.2930,\n",
       "        -2772.5986, -2771.6606, -2770.9629, -2772.1084, -2771.9890, -2771.6313,\n",
       "        -2771.7888, -2772.2007, -2771.8098, -2771.0764, -2770.7837, -2771.9600,\n",
       "        -2771.7627, -2771.1587, -2772.6316, -2771.3433, -2771.4204, -2772.6421,\n",
       "        -2772.2065, -2771.1326, -2771.3259, -2771.8381, -2772.1094, -2771.4658,\n",
       "        -2771.6460, -2771.7041, -2771.2734, -2772.5667, -2771.7864, -2772.0293,\n",
       "        -2771.9639, -2771.9536, -2771.5635, -2771.7964, -2771.9915, -2771.3928,\n",
       "        -2771.9202, -2772.0247, -2771.7341, -2772.1733, -2772.1301, -2772.4424,\n",
       "        -2770.9480, -2772.2678, -2771.7734, -2770.9180, -2772.1797, -2771.4092,\n",
       "        -2771.5161, -2771.8977, -2772.1978, -2772.0293, -2771.5146, -2771.7327,\n",
       "        -2771.3826, -2771.3748, -2772.3623, -2772.0818, -2771.9761, -2771.8516,\n",
       "        -2771.6577, -2771.5923, -2771.1248, -2772.7549, -2772.0642, -2772.0164,\n",
       "        -2771.6125, -2771.3284, -2771.9207, -2771.3767, -2771.5654, -2772.1089,\n",
       "        -2772.2236, -2771.9260, -2771.9319, -2771.4668, -2771.3511, -2771.6155,\n",
       "        -2771.5833, -2772.1033, -2771.8943, -2771.9573, -2771.9812, -2772.2727,\n",
       "        -2771.0298, -2771.7920, -2771.1682, -2771.9233, -2771.2781, -2771.7075,\n",
       "        -2771.9312, -2772.0276, -2772.1191, -2772.1064, -2771.9663, -2771.6682,\n",
       "        -2770.9692, -2772.1846, -2771.5691, -2772.0957, -2771.4797, -2771.5901,\n",
       "        -2772.6907, -2772.1597, -2771.8459, -2771.9556, -2772.1453, -2772.4487,\n",
       "        -2772.4534, -2771.6199, -2771.5164, -2771.6233, -2772.2341, -2771.7102,\n",
       "        -2771.7686, -2771.7043, -2771.9270, -2771.8176, -2772.0588, -2772.1978,\n",
       "        -2772.1208, -2771.3630, -2771.9333, -2772.1021, -2771.9302, -2771.9148,\n",
       "        -2771.3083, -2771.6492, -2771.6677, -2771.8066, -2771.2051, -2772.3635,\n",
       "        -2771.8623, -2772.4446, -2772.0935, -2771.9873, -2771.6304, -2771.5845,\n",
       "        -2771.7275, -2771.7913, -2772.2949, -2772.8127, -2772.2932, -2772.0945,\n",
       "        -2771.9888, -2771.4707, -2771.7808, -2772.6560, -2771.8074, -2771.3821,\n",
       "        -2771.5295, -2771.6797, -2771.7161, -2771.7341, -2771.6255, -2771.7883,\n",
       "        -2771.2432, -2771.8188, -2771.8179, -2772.4465, -2771.5840, -2771.6404,\n",
       "        -2771.7996, -2771.9961, -2771.2168, -2772.1487, -2772.2327, -2772.0039,\n",
       "        -2771.8308, -2772.7009, -2771.3572, -2771.4651, -2771.7690, -2772.5911,\n",
       "        -2772.2422, -2772.3459, -2771.3921, -2770.9211, -2771.6504, -2771.5481,\n",
       "        -2771.7825, -2771.7109, -2771.5596, -2772.5618, -2771.6741, -2771.5425,\n",
       "        -2771.6616, -2771.5969, -2771.4417, -2771.6084, -2771.6851, -2771.2659,\n",
       "        -2771.8640, -2771.6726, -2771.7778, -2772.0830, -2772.9709, -2771.6167,\n",
       "        -2771.9001, -2772.4426, -2772.0999, -2771.9004, -2771.8882, -2771.7219,\n",
       "        -2772.2144, -2771.9043, -2772.1211, -2772.3975, -2771.4314, -2772.0254,\n",
       "        -2772.0667, -2772.0735, -2771.4377, -2771.2979, -2771.8484, -2772.4971,\n",
       "        -2770.9214, -2770.9358, -2772.0754, -2771.4404, -2771.8616, -2772.2454,\n",
       "        -2772.0969, -2771.2065, -2771.8201, -2772.2812, -2771.6011, -2772.1223,\n",
       "        -2771.9644, -2772.0818, -2771.6716, -2772.0820, -2771.8582, -2772.1726,\n",
       "        -2771.4719, -2771.7878, -2772.0400, -2772.0164, -2771.9663, -2772.2495,\n",
       "        -2771.2380, -2771.6177, -2772.0688, -2771.5923, -2771.8071, -2771.8914,\n",
       "        -2771.4792, -2772.3018, -2771.5774, -2772.2932, -2772.3560, -2771.8352,\n",
       "        -2771.6462, -2772.2117, -2771.1499, -2771.9641, -2771.8059, -2771.7466,\n",
       "        -2771.7610, -2771.3335, -2771.8521, -2771.7378, -2771.4119, -2771.8726,\n",
       "        -2771.8933, -2771.2671, -2771.7839, -2771.8435, -2771.7356, -2771.7122,\n",
       "        -2772.0513, -2772.4395, -2771.6343, -2771.0364, -2772.1199, -2772.0706,\n",
       "        -2772.3433, -2771.4480, -2771.7883, -2772.5078, -2771.7161, -2772.4231,\n",
       "        -2771.5527, -2772.4473, -2771.3977, -2773.0598, -2772.0671, -2771.5950,\n",
       "        -2771.4546, -2771.8083, -2771.7556, -2771.9084, -2771.6597, -2771.9795,\n",
       "        -2771.9214, -2771.6245, -2771.5825, -2771.3928, -2771.7568, -2772.0391,\n",
       "        -2772.1914, -2772.4714, -2772.5449, -2771.4905, -2771.3511, -2772.4990,\n",
       "        -2771.9492, -2771.1523, -2772.0964, -2771.4402, -2771.5859, -2772.5542,\n",
       "        -2771.3301, -2770.7917, -2772.7551, -2772.0076, -2772.3379, -2771.6514,\n",
       "        -2772.0276, -2771.9612, -2771.5686, -2771.7988, -2771.3867, -2771.6248,\n",
       "        -2771.8940, -2772.1138, -2772.2917, -2772.3516, -2771.6086, -2772.8154,\n",
       "        -2772.2642, -2772.0244, -2771.8687, -2772.6758, -2771.7739, -2771.7732,\n",
       "        -2772.0242, -2771.8235, -2771.9824, -2772.0327, -2771.4260, -2772.1948,\n",
       "        -2771.7251, -2771.8574, -2771.3569, -2772.1477, -2771.7087, -2771.2527,\n",
       "        -2772.2075, -2771.3838, -2771.9111, -2771.3254, -2771.8142, -2771.1282,\n",
       "        -2771.4990, -2771.7581, -2771.5764, -2771.9041, -2772.0720, -2771.6235,\n",
       "        -2771.8901, -2771.5786, -2772.2341, -2771.0630, -2772.2522, -2771.8665,\n",
       "        -2771.2034, -2772.2739, -2772.1624, -2772.4033, -2772.1887, -2772.6470,\n",
       "        -2772.0293, -2771.4858, -2771.3533, -2771.7344, -2771.3494, -2772.1377,\n",
       "        -2772.3008, -2771.8733, -2770.8254, -2771.2686, -2772.0518, -2771.3755,\n",
       "        -2771.3079, -2771.7449, -2772.0354, -2772.4333, -2771.8530, -2772.1936,\n",
       "        -2772.2881, -2771.3394, -2771.7659, -2771.5564, -2771.7190, -2771.9316,\n",
       "        -2772.2002, -2771.9065, -2772.6694, -2771.5254, -2771.7393, -2771.4773,\n",
       "        -2772.0583, -2771.5764, -2771.8230, -2771.7974, -2771.9023, -2771.9333,\n",
       "        -2772.0562, -2771.4746, -2771.7468, -2771.8303, -2772.1074, -2771.7632,\n",
       "        -2771.4607, -2771.6736, -2772.3062, -2771.7144, -2771.5305, -2771.4624,\n",
       "        -2771.8416, -2771.9888, -2771.5962, -2771.8652, -2771.7883, -2771.9863,\n",
       "        -2771.1138, -2771.2698, -2771.2957, -2770.9734, -2771.7278, -2771.7173,\n",
       "        -2772.1682, -2771.5046, -2771.8352, -2771.4438, -2771.9478, -2771.7788,\n",
       "        -2772.4429, -2772.0325, -2771.8499, -2771.5151, -2771.4602, -2771.9839,\n",
       "        -2771.4089, -2772.2676, -2771.2617, -2771.8721, -2771.1414, -2771.4714,\n",
       "        -2771.9001, -2772.4404, -2771.9622, -2771.8872, -2771.4719, -2772.1289,\n",
       "        -2771.7283, -2772.3528, -2771.7915, -2772.1299, -2771.5913, -2771.8936,\n",
       "        -2771.8865, -2771.3333, -2771.1782, -2772.3794, -2772.2356, -2771.7588,\n",
       "        -2771.4937, -2772.0286, -2771.9988, -2771.2427, -2771.7747, -2771.6475,\n",
       "        -2771.5732, -2772.3665, -2771.6221, -2772.1094, -2772.2402, -2772.4971,\n",
       "        -2772.2239, -2771.4121, -2771.9460, -2771.6365, -2772.2036, -2771.7935,\n",
       "        -2771.5564, -2771.6831, -2772.5188, -2772.2793, -2771.5012, -2772.1514,\n",
       "        -2771.6838, -2771.9990, -2771.2334, -2772.1477, -2771.5935, -2771.6023,\n",
       "        -2771.2664, -2772.0535, -2771.9607, -2772.3938, -2771.6113, -2772.0645,\n",
       "        -2771.0308, -2771.6504, -2771.7749, -2770.8008, -2771.9841, -2771.7004,\n",
       "        -2772.3867, -2772.2483, -2772.2734, -2771.5491, -2771.3728, -2771.3508,\n",
       "        -2771.7786, -2772.0566, -2771.9744, -2771.0044],\n",
       "       grad_fn=<AddBackward0>)"
      ]
     },
     "execution_count": 13,
     "metadata": {},
     "output_type": "execute_result"
    }
   ],
   "source": [
    "model.log_prob(R_true)"
   ]
  },
  {
   "cell_type": "code",
   "execution_count": 14,
   "metadata": {},
   "outputs": [
    {
     "data": {
      "text/plain": [
       "tensor([[[ 3.8461e-01,  1.3123e+00,  6.7455e-01,  ...,  8.8877e-01,\n",
       "           9.3703e-01, -2.3490e+00],\n",
       "         [ 5.2638e+00, -2.8291e+00,  4.1184e+00,  ...,  9.4558e-01,\n",
       "          -2.0764e+00, -3.7274e-01],\n",
       "         [-1.1525e+00,  6.1309e-01, -9.9936e-02,  ..., -1.5028e-01,\n",
       "          -2.0258e-01,  3.6471e-01],\n",
       "         ...,\n",
       "         [ 9.1432e-01, -1.1295e+00,  1.5514e-01,  ..., -1.3581e-01,\n",
       "          -3.0105e-01,  4.7374e-01],\n",
       "         [-2.4378e+00,  1.8740e+00, -9.1971e-01,  ..., -2.1471e-01,\n",
       "           5.4270e-01, -5.6854e-02],\n",
       "         [-8.7742e-02, -1.5338e-01,  2.3800e-01,  ..., -7.4141e-02,\n",
       "          -3.0831e-01,  6.9716e-01]],\n",
       "\n",
       "        [[ 5.1999e-01,  1.3434e+00,  6.8580e-01,  ...,  9.2335e-01,\n",
       "           8.8713e-01, -2.2926e+00],\n",
       "         [ 5.3317e+00, -2.7824e+00,  4.0430e+00,  ...,  1.1659e+00,\n",
       "          -2.1040e+00, -1.9134e-01],\n",
       "         [-1.3870e+00,  5.3792e-01, -2.6788e-01,  ..., -2.4141e-01,\n",
       "          -3.3316e-01,  5.7105e-01],\n",
       "         ...,\n",
       "         [ 1.1291e+00, -8.6458e-01,  2.3884e-01,  ..., -8.9647e-02,\n",
       "          -3.5000e-01,  5.7454e-01],\n",
       "         [-2.4794e+00,  1.7983e+00, -1.0653e+00,  ..., -1.2846e-01,\n",
       "           6.8182e-01, -2.2393e-01],\n",
       "         [ 1.9048e-01, -2.8600e-01,  2.6913e-01,  ..., -2.2006e-01,\n",
       "          -5.2167e-01,  7.1684e-01]],\n",
       "\n",
       "        [[ 3.5811e-01,  1.3825e+00,  6.4015e-01,  ...,  9.1483e-01,\n",
       "           1.1148e+00, -2.6003e+00],\n",
       "         [ 5.2885e+00, -2.6854e+00,  4.1008e+00,  ...,  1.1849e+00,\n",
       "          -1.8275e+00, -5.2377e-01],\n",
       "         [-1.2305e+00,  5.6038e-01, -2.6639e-01,  ..., -2.9641e-01,\n",
       "          -1.1212e-01,  5.6142e-01],\n",
       "         ...,\n",
       "         [ 9.9169e-01, -9.3913e-01,  4.0617e-01,  ..., -1.0629e-01,\n",
       "          -2.7819e-01,  4.8155e-01],\n",
       "         [-2.5809e+00,  1.7029e+00, -8.4459e-01,  ..., -1.1857e-01,\n",
       "           4.5309e-01, -2.1618e-01],\n",
       "         [-9.9674e-02, -2.7897e-01,  4.0914e-01,  ..., -2.5807e-01,\n",
       "          -3.4875e-01,  8.0099e-01]],\n",
       "\n",
       "        ...,\n",
       "\n",
       "        [[ 4.2027e-01,  1.3770e+00,  6.4878e-01,  ...,  9.2337e-01,\n",
       "           7.6774e-01, -2.2740e+00],\n",
       "         [ 5.5772e+00, -2.7405e+00,  3.9861e+00,  ...,  1.1394e+00,\n",
       "          -2.0598e+00, -4.7679e-01],\n",
       "         [-1.1238e+00,  4.1142e-01, -2.5824e-01,  ..., -3.5549e-01,\n",
       "          -1.8567e-01,  5.9164e-01],\n",
       "         ...,\n",
       "         [ 8.2143e-01, -9.9225e-01,  2.6898e-01,  ..., -5.5729e-02,\n",
       "          -3.5943e-01,  6.0834e-01],\n",
       "         [-2.4309e+00,  1.7668e+00, -8.6013e-01,  ..., -1.5411e-01,\n",
       "           4.9005e-01, -7.7709e-02],\n",
       "         [ 7.0783e-04, -2.9011e-01,  2.0295e-01,  ...,  9.6852e-02,\n",
       "          -5.6298e-01,  8.4401e-01]],\n",
       "\n",
       "        [[ 2.2926e-01,  1.5454e+00,  6.9795e-01,  ...,  8.3641e-01,\n",
       "           9.5649e-01, -2.4534e+00],\n",
       "         [ 5.4442e+00, -2.6789e+00,  4.1623e+00,  ...,  1.1313e+00,\n",
       "          -2.0644e+00, -2.3966e-01],\n",
       "         [-1.1231e+00,  4.0559e-01, -2.7486e-01,  ..., -3.2974e-01,\n",
       "          -2.9755e-03,  6.7459e-01],\n",
       "         ...,\n",
       "         [ 9.6806e-01, -1.2139e+00,  3.8835e-01,  ..., -1.1732e-01,\n",
       "          -4.6270e-01,  3.7833e-01],\n",
       "         [-2.5377e+00,  2.0071e+00, -9.4594e-01,  ..., -9.9993e-02,\n",
       "           6.4420e-01, -2.4197e-01],\n",
       "         [-3.8828e-02, -3.1258e-01,  3.9116e-01,  ..., -8.2269e-03,\n",
       "          -5.6019e-01,  5.9774e-01]],\n",
       "\n",
       "        [[ 3.5482e-01,  1.4077e+00,  6.9872e-01,  ...,  1.0820e+00,\n",
       "           8.7330e-01, -2.4019e+00],\n",
       "         [ 5.4214e+00, -2.8791e+00,  4.1056e+00,  ...,  1.3255e+00,\n",
       "          -2.0960e+00, -5.3832e-01],\n",
       "         [-1.2156e+00,  5.5344e-01, -2.8026e-01,  ..., -2.8130e-01,\n",
       "          -1.4144e-01,  4.9928e-01],\n",
       "         ...,\n",
       "         [ 9.4388e-01, -8.6159e-01,  9.0600e-02,  ..., -3.1123e-01,\n",
       "          -3.0746e-01,  6.5776e-01],\n",
       "         [-2.5897e+00,  1.8249e+00, -7.7627e-01,  ..., -2.4810e-01,\n",
       "           5.6574e-01, -2.4931e-01],\n",
       "         [-1.2462e-02, -3.6758e-01,  3.0430e-01,  ..., -2.3952e-01,\n",
       "          -3.7555e-01,  6.2750e-01]]])"
      ]
     },
     "execution_count": 14,
     "metadata": {},
     "output_type": "execute_result"
    }
   ],
   "source": [
    "R_true"
   ]
  },
  {
   "cell_type": "code",
   "execution_count": 15,
   "metadata": {},
   "outputs": [
    {
     "data": {
      "text/plain": [
       "tensor([[ 0.4299,  1.4193,  0.6618,  ...,  0.9190,  0.8914, -2.3908],\n",
       "        [ 5.3516, -2.7792,  4.0103,  ...,  1.1750, -2.0171, -0.3743],\n",
       "        [-1.2266,  0.5147, -0.2815,  ..., -0.2336, -0.1101,  0.5527],\n",
       "        ...,\n",
       "        [ 0.9304, -0.9763,  0.2288,  ..., -0.0969, -0.3938,  0.4826],\n",
       "        [-2.5012,  1.8027, -0.8396,  ..., -0.1600,  0.5725, -0.1404],\n",
       "        [-0.0353, -0.3240,  0.2731,  ..., -0.1254, -0.4822,  0.6571]],\n",
       "       grad_fn=<MmBackward>)"
      ]
     },
     "execution_count": 15,
     "metadata": {},
     "output_type": "execute_result"
    }
   ],
   "source": [
    "model.reconstruct()"
   ]
  },
  {
   "cell_type": "code",
   "execution_count": 16,
   "metadata": {},
   "outputs": [],
   "source": [
    "# model.U"
   ]
  },
  {
   "cell_type": "code",
   "execution_count": null,
   "metadata": {},
   "outputs": [],
   "source": []
  },
  {
   "cell_type": "code",
   "execution_count": null,
   "metadata": {},
   "outputs": [],
   "source": []
  }
 ],
 "metadata": {
  "kernelspec": {
   "display_name": "Python 3",
   "language": "python",
   "name": "python3"
  },
  "language_info": {
   "codemirror_mode": {
    "name": "ipython",
    "version": 3
   },
   "file_extension": ".py",
   "mimetype": "text/x-python",
   "name": "python",
   "nbconvert_exporter": "python",
   "pygments_lexer": "ipython3",
   "version": "3.7.3"
  }
 },
 "nbformat": 4,
 "nbformat_minor": 2
}
