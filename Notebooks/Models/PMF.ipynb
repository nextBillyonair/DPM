{
 "cells": [
  {
   "cell_type": "code",
   "execution_count": 1,
   "metadata": {},
   "outputs": [],
   "source": [
    "from dpm.models import PMF\n",
    "from dpm.distributions import Data, Normal\n",
    "from dpm.visualize import plot_stats\n",
    "import numpy as np\n",
    "import torch\n",
    "N = 60\n",
    "M = 50\n",
    "D = 3\n",
    "\n"
   ]
  },
  {
   "cell_type": "code",
   "execution_count": 2,
   "metadata": {},
   "outputs": [],
   "source": [
    "def build_toy_dataset(U, V, N, M, noise_std=0.1):\n",
    "    R = np.dot(np.transpose(U), V) + np.random.normal(0, noise_std, size=(N, M))\n",
    "    return R"
   ]
  },
  {
   "cell_type": "code",
   "execution_count": 3,
   "metadata": {},
   "outputs": [
    {
     "data": {
      "text/plain": [
       "(3, 50)"
      ]
     },
     "execution_count": 3,
     "metadata": {},
     "output_type": "execute_result"
    }
   ],
   "source": [
    "U_true = np.random.randn(D, N)\n",
    "V_true = np.random.randn(D, M)\n",
    "V_true.shape"
   ]
  },
  {
   "cell_type": "code",
   "execution_count": 4,
   "metadata": {},
   "outputs": [
    {
     "data": {
      "text/plain": [
       "torch.Size([1000, 60, 50])"
      ]
     },
     "execution_count": 4,
     "metadata": {},
     "output_type": "execute_result"
    }
   ],
   "source": [
    "R_true = np.stack([build_toy_dataset(U_true, V_true, N, M) for _ in range(1000)])\n",
    "R_true.shape\n",
    "R_true = torch.tensor(R_true).float()\n",
    "R_true.shape"
   ]
  },
  {
   "cell_type": "code",
   "execution_count": null,
   "metadata": {},
   "outputs": [],
   "source": []
  },
  {
   "cell_type": "code",
   "execution_count": 5,
   "metadata": {},
   "outputs": [
    {
     "data": {
      "text/plain": [
       "(torch.Size([3, 60]), torch.Size([3, 50]))"
      ]
     },
     "execution_count": 5,
     "metadata": {},
     "output_type": "execute_result"
    }
   ],
   "source": [
    "model = PMF(N, M, D)\n",
    "model.U.shape, model.V.shape"
   ]
  },
  {
   "cell_type": "code",
   "execution_count": 6,
   "metadata": {},
   "outputs": [
    {
     "data": {
      "text/plain": [
       "tensor([[[-1.2359,  0.4330, -0.4992,  ..., -0.9075, -0.0520,  1.3164],\n",
       "         [ 0.7960,  0.1894,  0.4865,  ..., -0.4677, -0.0996,  0.2210],\n",
       "         [-1.2398, -0.4045, -0.3438,  ..., -0.7448,  1.4747,  2.3727],\n",
       "         ...,\n",
       "         [ 1.8262, -0.3279,  1.0394,  ..., -2.0735,  0.0063, -0.9769],\n",
       "         [-0.2886,  0.3639,  1.0466,  ..., -1.5215, -0.7632, -0.5838],\n",
       "         [-0.3996,  0.3982, -2.1698,  ..., -0.4574, -0.5792, -0.0943]],\n",
       "\n",
       "        [[-0.0516, -0.4776,  2.0372,  ..., -0.1799,  1.3286, -0.6448],\n",
       "         [-0.6302,  0.8189,  0.2959,  ..., -1.5730, -1.0515,  0.7124],\n",
       "         [ 1.7072,  0.0884,  0.1608,  ..., -0.1201,  0.0619,  1.2812],\n",
       "         ...,\n",
       "         [-0.1006,  0.0031,  0.9019,  ..., -0.4989, -0.0580, -0.7614],\n",
       "         [ 0.8224,  0.7363, -2.1668,  ...,  1.2739,  0.0164,  0.8147],\n",
       "         [ 3.0691,  1.4256,  0.1049,  ..., -0.5874, -0.0141, -0.3086]],\n",
       "\n",
       "        [[-0.9062,  0.7132, -0.4989,  ...,  0.8319, -0.1809, -0.2911],\n",
       "         [ 1.5985, -1.4128, -0.1143,  ...,  1.0702, -2.0688,  1.2274],\n",
       "         [-0.1573,  0.4842,  0.7288,  ..., -0.7880,  1.2703, -0.7683],\n",
       "         ...,\n",
       "         [-0.0769,  0.5629, -2.4352,  ..., -0.5294, -0.0968,  0.9881],\n",
       "         [-1.5537, -0.1845, -1.2565,  ..., -0.1338,  0.1187, -0.2783],\n",
       "         [-0.1151,  0.3731, -0.3984,  ...,  0.1874, -0.8634,  0.3561]]],\n",
       "       grad_fn=<AddBackward0>)"
      ]
     },
     "execution_count": 6,
     "metadata": {},
     "output_type": "execute_result"
    }
   ],
   "source": [
    "model.sample(3)"
   ]
  },
  {
   "cell_type": "code",
   "execution_count": 7,
   "metadata": {},
   "outputs": [
    {
     "data": {
      "text/plain": [
       "torch.Size([60, 50])"
      ]
     },
     "execution_count": 7,
     "metadata": {},
     "output_type": "execute_result"
    }
   ],
   "source": [
    "model.reconstruct().shape"
   ]
  },
  {
   "cell_type": "code",
   "execution_count": 8,
   "metadata": {},
   "outputs": [
    {
     "data": {
      "text/plain": [
       "tensor([-7197.4023, -7186.7393, -7173.8457, -7177.7603, -7171.4033, -7184.5405,\n",
       "        -7197.6440, -7184.0801, -7191.8042, -7175.0239, -7185.0771, -7174.8584,\n",
       "        -7180.9971, -7185.3145, -7180.9209, -7188.9170, -7194.0439, -7180.8799,\n",
       "        -7183.0288, -7183.4258, -7175.7188, -7190.0674, -7183.8174, -7174.2754,\n",
       "        -7179.6255, -7185.9497, -7175.5679, -7178.6851, -7196.9746, -7192.7222,\n",
       "        -7195.4951, -7187.0737, -7192.2700, -7179.5479, -7181.4268, -7184.3740,\n",
       "        -7175.4585, -7179.6240, -7179.5688, -7190.8223, -7173.5405, -7176.4097,\n",
       "        -7181.6577, -7176.0269, -7181.9907, -7173.1069, -7181.6895, -7189.1855,\n",
       "        -7167.5767, -7191.8496, -7181.9873, -7159.1948, -7179.6157, -7181.6006,\n",
       "        -7175.9453, -7186.0054, -7196.1870, -7192.4683, -7179.1313, -7192.1685,\n",
       "        -7184.7285, -7179.8623, -7171.9531, -7180.8135, -7177.4473, -7176.5288,\n",
       "        -7182.7422, -7174.2642, -7174.5698, -7182.0654, -7167.0005, -7175.1680,\n",
       "        -7183.2866, -7161.7090, -7182.5581, -7176.0518, -7175.9966, -7188.8140,\n",
       "        -7192.5464, -7170.6777, -7186.0645, -7184.4746, -7185.1602, -7196.8950,\n",
       "        -7176.3433, -7172.3159, -7174.9395, -7193.2407, -7171.0562, -7176.2534,\n",
       "        -7169.7490, -7187.1318, -7175.4639, -7174.1318, -7182.0933, -7184.8496,\n",
       "        -7184.3525, -7185.4556, -7178.6885, -7198.0190, -7190.0708, -7179.5996,\n",
       "        -7193.8203, -7180.7437, -7199.1353, -7189.8989, -7185.5425, -7201.2705,\n",
       "        -7178.9609, -7179.6455, -7189.3525, -7174.8931, -7180.7700, -7174.9165,\n",
       "        -7187.6602, -7178.4683, -7180.2886, -7176.4756, -7185.3784, -7183.4067,\n",
       "        -7197.2148, -7185.2930, -7168.5508, -7187.0513, -7180.2964, -7183.0654,\n",
       "        -7185.3525, -7184.2212, -7194.7266, -7203.6650, -7193.8569, -7182.1064,\n",
       "        -7182.4844, -7173.9829, -7180.1816, -7185.3447, -7184.0693, -7188.7349,\n",
       "        -7192.8975, -7182.7422, -7188.9585, -7169.0801, -7188.4473, -7190.2783,\n",
       "        -7192.6675, -7187.8179, -7189.4209, -7197.4976, -7175.2100, -7183.5962,\n",
       "        -7184.4297, -7181.1514, -7164.0513, -7174.6777, -7180.0542, -7198.3628,\n",
       "        -7182.4946, -7162.8330, -7184.1812, -7177.7793, -7188.1792, -7201.8813,\n",
       "        -7177.5195, -7186.6738, -7179.7861, -7186.7178, -7186.2979, -7190.0049,\n",
       "        -7175.6260, -7167.1416, -7182.3403, -7175.7153, -7175.7510, -7174.6387,\n",
       "        -7179.9346, -7181.2812, -7178.1060, -7187.7925, -7174.5127, -7168.0532,\n",
       "        -7173.7017, -7171.7817, -7173.8311, -7206.8818, -7172.2217, -7176.6934,\n",
       "        -7191.2383, -7190.4399, -7177.9629, -7203.8086, -7186.4775, -7186.5234,\n",
       "        -7176.6577, -7184.1587, -7181.9067, -7180.2275, -7168.9780, -7181.4307,\n",
       "        -7186.7305, -7189.8398, -7196.2944, -7184.6045, -7195.8931, -7184.3657,\n",
       "        -7179.9268, -7195.4766, -7175.6992, -7182.7754, -7182.5391, -7191.4888,\n",
       "        -7187.7319, -7169.4712, -7175.3999, -7180.5420, -7190.5317, -7191.2202,\n",
       "        -7188.5239, -7175.3145, -7177.7178, -7194.5430, -7188.0840, -7186.8071,\n",
       "        -7184.9785, -7163.1304, -7184.1602, -7184.4761, -7190.7847, -7173.2603,\n",
       "        -7183.4141, -7173.8828, -7184.3740, -7189.1406, -7183.3667, -7172.6431,\n",
       "        -7188.4351, -7184.2329, -7174.9277, -7172.6274, -7182.5117, -7199.7896,\n",
       "        -7195.6206, -7183.8828, -7183.3735, -7184.1587, -7180.3789, -7196.1797,\n",
       "        -7182.1470, -7179.2256, -7170.6465, -7191.2729, -7159.3257, -7183.0254,\n",
       "        -7196.5161, -7187.5884, -7175.0239, -7178.0967, -7176.3379, -7181.1602,\n",
       "        -7166.5532, -7181.5669, -7191.8887, -7191.7295, -7170.2256, -7192.5820,\n",
       "        -7175.8984, -7178.0718, -7182.1743, -7173.3433, -7188.2988, -7174.3252,\n",
       "        -7190.6147, -7173.0088, -7190.0166, -7191.5420, -7176.4692, -7189.9312,\n",
       "        -7174.1484, -7181.5991, -7190.7222, -7177.2891, -7198.8208, -7168.2476,\n",
       "        -7186.0737, -7171.7109, -7181.4243, -7179.7979, -7177.5820, -7190.7900,\n",
       "        -7176.6997, -7185.5015, -7179.5088, -7194.0981, -7171.6553, -7197.5503,\n",
       "        -7169.5278, -7191.8296, -7181.1982, -7164.1777, -7172.6113, -7174.5117,\n",
       "        -7179.7056, -7192.3735, -7187.5181, -7181.8657, -7179.2539, -7188.1152,\n",
       "        -7173.7910, -7183.1680, -7174.8721, -7173.2686, -7175.1431, -7190.9570,\n",
       "        -7185.6040, -7178.7534, -7168.1680, -7204.6357, -7173.7817, -7167.4658,\n",
       "        -7179.4907, -7178.8892, -7176.7808, -7188.9990, -7184.4170, -7177.9976,\n",
       "        -7168.6187, -7191.1802, -7178.9893, -7162.9819, -7176.8721, -7186.9351,\n",
       "        -7169.7129, -7199.5908, -7190.9878, -7182.1333, -7182.7715, -7159.0806,\n",
       "        -7191.2642, -7171.0498, -7166.5508, -7185.2969, -7180.8506, -7173.7378,\n",
       "        -7193.0562, -7183.7148, -7165.4268, -7165.2334, -7169.9937, -7178.0825,\n",
       "        -7170.6577, -7175.4736, -7180.9268, -7191.0508, -7187.1084, -7186.4390,\n",
       "        -7183.2085, -7178.0249, -7170.5757, -7193.2280, -7175.1787, -7176.6748,\n",
       "        -7170.4043, -7182.6909, -7188.6138, -7171.5093, -7202.9111, -7175.3887,\n",
       "        -7188.0771, -7195.1299, -7195.6182, -7177.0112, -7195.3096, -7174.7446,\n",
       "        -7172.9360, -7184.4121, -7200.3794, -7175.4014, -7176.8716, -7178.7422,\n",
       "        -7198.0859, -7188.5049, -7184.3071, -7181.5898, -7190.3267, -7164.2998,\n",
       "        -7176.0635, -7182.3003, -7181.2495, -7186.1909, -7191.3618, -7192.3511,\n",
       "        -7158.5308, -7198.9517, -7165.6558, -7189.2002, -7183.6978, -7173.5986,\n",
       "        -7173.8618, -7189.9956, -7181.6289, -7188.4355, -7185.4424, -7187.1206,\n",
       "        -7192.5215, -7186.3594, -7177.2485, -7186.4443, -7185.6899, -7167.4658,\n",
       "        -7178.5439, -7183.8931, -7194.3730, -7171.3354, -7178.7754, -7171.9219,\n",
       "        -7163.3062, -7182.5503, -7169.2075, -7186.5957, -7191.3232, -7192.8286,\n",
       "        -7183.7832, -7184.6943, -7171.5806, -7179.4658, -7195.2427, -7170.7271,\n",
       "        -7177.3726, -7196.0591, -7201.6118, -7195.2114, -7196.8833, -7170.3311,\n",
       "        -7177.8496, -7189.2734, -7175.1201, -7190.9780, -7174.1860, -7185.3110,\n",
       "        -7192.6245, -7176.4858, -7175.3018, -7172.4585, -7198.9043, -7177.3540,\n",
       "        -7174.4292, -7189.6421, -7187.4741, -7183.6748, -7185.9521, -7173.6167,\n",
       "        -7181.1377, -7165.4604, -7195.2734, -7171.7622, -7170.0493, -7189.4883,\n",
       "        -7176.3960, -7184.7573, -7186.5508, -7178.0972, -7167.1929, -7168.8452,\n",
       "        -7183.1899, -7179.6553, -7201.1509, -7185.7651, -7183.2773, -7170.6699,\n",
       "        -7176.4795, -7197.1636, -7188.0981, -7189.9194, -7172.5435, -7179.9810,\n",
       "        -7184.0933, -7173.0864, -7184.8989, -7189.3643, -7176.6323, -7173.1367,\n",
       "        -7180.1631, -7194.4907, -7182.7104, -7166.4365, -7181.3730, -7190.8511,\n",
       "        -7191.7568, -7184.3428, -7176.2393, -7175.1328, -7168.2393, -7178.7256,\n",
       "        -7195.0571, -7181.1426, -7181.0244, -7179.1631, -7172.1929, -7169.1533,\n",
       "        -7178.8916, -7187.8687, -7181.1992, -7187.7563, -7179.2920, -7170.7402,\n",
       "        -7183.6812, -7181.8340, -7183.7666, -7175.5034, -7178.9126, -7162.7529,\n",
       "        -7164.9902, -7180.6235, -7177.1284, -7167.2876, -7178.8394, -7195.7344,\n",
       "        -7182.2935, -7180.9819, -7194.7217, -7189.4370, -7173.3735, -7172.3662,\n",
       "        -7191.1895, -7174.0024, -7185.4067, -7164.1494, -7182.9277, -7183.9526,\n",
       "        -7183.0762, -7189.8174, -7187.2573, -7167.3691, -7178.4214, -7177.9438,\n",
       "        -7185.2217, -7183.3506, -7191.5552, -7183.7876, -7187.2178, -7186.7168,\n",
       "        -7171.0430, -7181.0938, -7172.3218, -7183.0630, -7181.2705, -7176.8813,\n",
       "        -7174.0073, -7201.5288, -7168.9478, -7184.4932, -7202.1821, -7194.5103,\n",
       "        -7192.1851, -7189.4595, -7184.8164, -7184.5498, -7181.1670, -7193.4741,\n",
       "        -7168.3926, -7192.7104, -7166.5317, -7196.3960, -7149.3159, -7188.9375,\n",
       "        -7202.5566, -7179.0537, -7188.2871, -7180.1514, -7202.4946, -7183.5840,\n",
       "        -7188.9907, -7183.3755, -7172.0796, -7188.3657, -7182.6504, -7182.6182,\n",
       "        -7178.6558, -7171.7622, -7178.8081, -7188.1445, -7175.8330, -7178.3877,\n",
       "        -7204.8862, -7192.0645, -7166.5933, -7175.4829, -7203.2695, -7201.9282,\n",
       "        -7191.0361, -7196.3105, -7193.7573, -7184.8643, -7186.0557, -7180.9268,\n",
       "        -7184.8657, -7184.7671, -7168.9282, -7199.0049, -7196.9956, -7176.7393,\n",
       "        -7175.2974, -7178.9106, -7190.8091, -7190.2222, -7189.2720, -7187.5962,\n",
       "        -7184.2378, -7188.8433, -7189.7417, -7167.1157, -7181.7290, -7179.5693,\n",
       "        -7178.0054, -7193.2490, -7167.6890, -7185.7827, -7174.3350, -7195.1733,\n",
       "        -7182.5830, -7189.6680, -7194.2632, -7156.3213, -7191.4629, -7174.1772,\n",
       "        -7175.9517, -7181.8618, -7188.1255, -7175.1733, -7190.3188, -7178.5229,\n",
       "        -7194.1060, -7175.0649, -7173.9502, -7192.6675, -7173.2808, -7193.5059,\n",
       "        -7184.7729, -7178.4102, -7179.1162, -7174.7461, -7174.8970, -7174.5176,\n",
       "        -7176.9199, -7186.5786, -7189.6538, -7175.4443, -7174.6768, -7177.0522,\n",
       "        -7179.3311, -7174.3994, -7176.5386, -7184.8872, -7181.1992, -7182.3042,\n",
       "        -7175.4419, -7183.9058, -7182.2739, -7186.7153, -7179.3213, -7177.9600,\n",
       "        -7203.2676, -7190.5400, -7191.2080, -7189.0996, -7180.6548, -7181.5039,\n",
       "        -7189.2773, -7179.0771, -7189.0024, -7177.8330, -7190.0781, -7195.3457,\n",
       "        -7170.0708, -7191.5405, -7163.7783, -7201.2773, -7176.5776, -7182.1230,\n",
       "        -7202.7261, -7184.6528, -7191.8447, -7179.6128, -7199.7383, -7190.7314,\n",
       "        -7174.1616, -7189.0986, -7173.1133, -7176.5542, -7186.6841, -7175.0312,\n",
       "        -7172.4160, -7181.3652, -7188.0708, -7174.7173, -7157.7456, -7182.8706,\n",
       "        -7186.6816, -7185.0278, -7195.9102, -7191.5210, -7174.4717, -7182.5156,\n",
       "        -7172.8291, -7172.4863, -7204.2979, -7187.8369, -7179.7891, -7188.8110,\n",
       "        -7201.7520, -7182.0513, -7168.4390, -7183.0684, -7179.1123, -7181.8623,\n",
       "        -7177.2070, -7195.5181, -7191.6484, -7182.0938, -7192.2129, -7176.7778,\n",
       "        -7191.7915, -7171.8774, -7176.6572, -7177.5112, -7183.6094, -7192.9683,\n",
       "        -7175.1523, -7188.5234, -7198.1172, -7162.4312, -7187.6548, -7187.4814,\n",
       "        -7185.6924, -7176.4575, -7192.8052, -7171.5659, -7180.6133, -7174.9404,\n",
       "        -7178.9282, -7187.4072, -7178.1123, -7200.0137, -7188.7822, -7186.4937,\n",
       "        -7177.8413, -7198.2769, -7183.5444, -7187.0996, -7184.4844, -7175.6953,\n",
       "        -7184.6479, -7176.3501, -7184.4146, -7173.9771, -7187.1011, -7187.2788,\n",
       "        -7171.5874, -7181.9463, -7192.1455, -7183.8701, -7177.1304, -7163.3662,\n",
       "        -7173.5835, -7183.6035, -7188.3506, -7168.8574, -7187.2998, -7192.4009,\n",
       "        -7185.6104, -7181.8730, -7209.3799, -7180.7285, -7186.1548, -7171.8740,\n",
       "        -7178.6890, -7191.1685, -7177.3252, -7197.3955, -7171.5083, -7189.5361,\n",
       "        -7189.8340, -7188.6074, -7187.4985, -7182.5444, -7181.0513, -7188.9858,\n",
       "        -7191.2871, -7195.7891, -7190.0869, -7174.2202, -7172.6104, -7180.7944,\n",
       "        -7179.8145, -7191.8765, -7187.6143, -7175.0308, -7169.0083, -7176.8501,\n",
       "        -7171.2207, -7196.9248, -7175.4082, -7182.0444, -7186.8174, -7167.7944,\n",
       "        -7192.1689, -7196.7271, -7173.7354, -7176.8442, -7160.2847, -7177.0273,\n",
       "        -7190.0137, -7159.3389, -7191.6812, -7180.6841, -7194.9980, -7191.7749,\n",
       "        -7184.8521, -7181.9189, -7166.4058, -7192.5273, -7185.7915, -7178.9873,\n",
       "        -7189.4272, -7192.3750, -7197.3027, -7168.9546, -7179.0210, -7168.8691,\n",
       "        -7185.6494, -7189.1675, -7178.7573, -7193.9839, -7185.1050, -7176.6123,\n",
       "        -7183.6128, -7174.6802, -7185.5776, -7182.9927, -7188.9858, -7187.6445,\n",
       "        -7183.8550, -7206.5420, -7180.9219, -7172.1182, -7177.5654, -7183.7891,\n",
       "        -7176.8726, -7191.4043, -7189.7451, -7166.3818, -7193.1592, -7175.5400,\n",
       "        -7182.1445, -7187.8843, -7188.5742, -7173.9531, -7186.4004, -7184.7017,\n",
       "        -7181.0776, -7190.5244, -7195.9150, -7189.7710, -7166.4019, -7187.4858,\n",
       "        -7183.9097, -7178.9253, -7174.9292, -7169.2539, -7186.3013, -7179.0132,\n",
       "        -7192.0244, -7191.1045, -7170.8374, -7179.8901, -7178.7607, -7189.1167,\n",
       "        -7172.6265, -7174.3584, -7187.1270, -7185.1572, -7186.1001, -7171.2100,\n",
       "        -7196.1382, -7183.6650, -7197.6313, -7184.0649, -7195.1187, -7197.6338,\n",
       "        -7171.6392, -7187.0796, -7180.5298, -7177.8921, -7179.1509, -7182.9844,\n",
       "        -7154.2231, -7186.5327, -7184.1846, -7186.8511, -7175.0776, -7187.5728,\n",
       "        -7180.7798, -7189.7070, -7188.5835, -7169.8008, -7175.2803, -7196.9658,\n",
       "        -7188.9463, -7179.8149, -7187.6846, -7182.0767, -7182.3486, -7182.4292,\n",
       "        -7186.5962, -7166.4287, -7165.5933, -7172.1021, -7176.6108, -7191.7764,\n",
       "        -7192.5820, -7171.4351, -7181.4707, -7175.5557, -7180.1284, -7176.2109,\n",
       "        -7181.0122, -7188.5552, -7179.8970, -7190.4385, -7193.0205, -7191.4736,\n",
       "        -7176.6069, -7190.6948, -7176.7896, -7194.2910, -7193.7144, -7178.8472,\n",
       "        -7180.1074, -7186.3169, -7180.5928, -7191.4980, -7190.0903, -7184.8359,\n",
       "        -7182.6528, -7174.1650, -7181.8037, -7198.3950, -7183.2021, -7169.2212,\n",
       "        -7190.8584, -7182.6699, -7187.1543, -7183.9639, -7193.4150, -7187.4150,\n",
       "        -7175.5576, -7176.0410, -7172.3901, -7189.9731, -7173.0879, -7188.8232,\n",
       "        -7178.1274, -7176.3696, -7166.9419, -7179.9858, -7175.1738, -7191.7764,\n",
       "        -7192.7842, -7176.7949, -7184.9834, -7177.1763, -7162.6855, -7173.2432,\n",
       "        -7188.3184, -7184.7852, -7168.7871, -7185.9370, -7179.7896, -7176.7949,\n",
       "        -7179.1758, -7186.9731, -7181.1084, -7200.9536, -7190.0273, -7180.7832,\n",
       "        -7184.2749, -7181.1655, -7193.3379, -7186.9414, -7193.7744, -7191.6577,\n",
       "        -7207.2515, -7188.1675, -7189.0239, -7181.4497, -7180.5112, -7181.1187,\n",
       "        -7178.7036, -7181.4492, -7204.0869, -7175.3638],\n",
       "       grad_fn=<AddBackward0>)"
      ]
     },
     "execution_count": 8,
     "metadata": {},
     "output_type": "execute_result"
    }
   ],
   "source": [
    "model.log_prob(R_true)"
   ]
  },
  {
   "cell_type": "code",
   "execution_count": 9,
   "metadata": {},
   "outputs": [],
   "source": [
    "stats = model.fit(R_true, epochs=5000, lr=0.001)"
   ]
  },
  {
   "cell_type": "code",
   "execution_count": 10,
   "metadata": {},
   "outputs": [
    {
     "data": {
      "image/png": "[encoded data removed]",
      "text/plain": [
       "<Figure size 864x432 with 1 Axes>"
      ]
     },
     "metadata": {
      "needs_background": "light"
     },
     "output_type": "display_data"
    }
   ],
   "source": [
    "plot_stats(stats)"
   ]
  },
  {
   "cell_type": "code",
   "execution_count": 11,
   "metadata": {},
   "outputs": [
    {
     "data": {
      "text/plain": [
       "tensor(0.0100, grad_fn=<MeanBackward0>)"
      ]
     },
     "execution_count": 11,
     "metadata": {},
     "output_type": "execute_result"
    }
   ],
   "source": [
    "model.mse(R_true)"
   ]
  },
  {
   "cell_type": "code",
   "execution_count": 12,
   "metadata": {},
   "outputs": [
    {
     "data": {
      "text/plain": [
       "tensor(0.0798, grad_fn=<MeanBackward0>)"
      ]
     },
     "execution_count": 12,
     "metadata": {},
     "output_type": "execute_result"
    }
   ],
   "source": [
    "model.mae(R_true)"
   ]
  },
  {
   "cell_type": "code",
   "execution_count": 13,
   "metadata": {},
   "outputs": [
    {
     "data": {
      "text/plain": [
       "tensor([-2772.3071, -2771.9683, -2771.4888, -2772.4758, -2771.5032, -2771.0562,\n",
       "        -2772.9995, -2772.3630, -2772.1201, -2771.7607, -2771.9900, -2772.1057,\n",
       "        -2771.6870, -2771.5049, -2771.2520, -2771.9756, -2772.2703, -2772.0273,\n",
       "        -2771.2747, -2771.4990, -2771.7263, -2771.4221, -2772.6531, -2771.4653,\n",
       "        -2771.9624, -2771.7930, -2771.9768, -2771.6570, -2772.0247, -2772.0234,\n",
       "        -2771.8743, -2771.8154, -2772.4905, -2772.2510, -2771.6660, -2772.1633,\n",
       "        -2771.6650, -2772.2900, -2771.2886, -2771.6609, -2771.0034, -2771.0852,\n",
       "        -2772.0452, -2771.6372, -2772.1228, -2772.0251, -2771.9531, -2771.1594,\n",
       "        -2771.9375, -2771.7981, -2771.5701, -2771.9443, -2772.0032, -2772.9421,\n",
       "        -2771.9041, -2771.6228, -2771.7092, -2771.8674, -2772.2539, -2771.1099,\n",
       "        -2771.1948, -2771.9163, -2771.8655, -2771.4763, -2771.8320, -2771.2102,\n",
       "        -2771.5923, -2771.6736, -2771.2380, -2770.9836, -2771.1174, -2770.8953,\n",
       "        -2771.7852, -2771.8591, -2772.5510, -2771.7302, -2770.8328, -2771.4712,\n",
       "        -2772.3337, -2772.1870, -2772.3025, -2771.6880, -2772.2517, -2772.3523,\n",
       "        -2771.6309, -2772.1455, -2771.9531, -2772.1855, -2771.4270, -2771.5508,\n",
       "        -2772.5649, -2771.4148, -2771.8748, -2771.7014, -2771.5583, -2771.9158,\n",
       "        -2771.7302, -2771.9905, -2771.5352, -2772.2158, -2771.4702, -2771.7456,\n",
       "        -2771.6724, -2771.9839, -2771.8601, -2771.8394, -2771.2327, -2771.4548,\n",
       "        -2771.8740, -2772.1736, -2771.9695, -2771.9431, -2772.5652, -2772.2256,\n",
       "        -2771.9756, -2771.2893, -2771.8599, -2771.7764, -2771.7224, -2771.7654,\n",
       "        -2772.2373, -2771.7930, -2772.5591, -2771.5598, -2772.1077, -2772.2588,\n",
       "        -2771.4688, -2771.4712, -2771.7964, -2771.7791, -2772.2915, -2771.8491,\n",
       "        -2772.3628, -2772.2017, -2771.9768, -2771.9919, -2771.3772, -2772.3225,\n",
       "        -2772.3159, -2771.5969, -2771.4133, -2771.3538, -2772.1621, -2772.7700,\n",
       "        -2771.4695, -2771.6042, -2771.3501, -2772.1616, -2772.1050, -2772.3970,\n",
       "        -2771.9102, -2771.9114, -2771.6150, -2771.7659, -2771.5933, -2771.8906,\n",
       "        -2772.2024, -2771.7200, -2771.9824, -2772.4634, -2771.9187, -2772.1262,\n",
       "        -2771.4385, -2772.1331, -2773.0034, -2772.2124, -2771.2842, -2772.3069,\n",
       "        -2771.9182, -2771.3311, -2772.2065, -2771.2339, -2772.3057, -2771.9202,\n",
       "        -2772.0435, -2771.8616, -2771.5818, -2771.8118, -2771.1785, -2771.8650,\n",
       "        -2772.3630, -2771.8718, -2772.4893, -2771.9729, -2771.6082, -2771.7341,\n",
       "        -2771.9131, -2772.3486, -2771.9106, -2772.4065, -2771.5645, -2771.6877,\n",
       "        -2771.8862, -2771.4041, -2772.2954, -2772.0303, -2771.7371, -2771.8240,\n",
       "        -2771.5508, -2771.7844, -2772.5793, -2771.1829, -2771.6130, -2771.9248,\n",
       "        -2771.7593, -2771.7546, -2772.1309, -2772.6497, -2771.3865, -2772.5081,\n",
       "        -2772.5354, -2771.9021, -2772.2280, -2771.6194, -2771.9521, -2771.2334,\n",
       "        -2772.3057, -2772.2466, -2771.2593, -2771.5967, -2771.5830, -2772.2856,\n",
       "        -2771.4612, -2771.6013, -2772.2444, -2772.1025, -2771.7795, -2771.9900,\n",
       "        -2771.2903, -2771.4636, -2771.5474, -2771.2249, -2770.6687, -2771.8311,\n",
       "        -2771.8308, -2771.9551, -2771.6504, -2771.6104, -2771.9695, -2772.5486,\n",
       "        -2771.8335, -2771.9353, -2771.2876, -2771.8125, -2771.5833, -2771.3806,\n",
       "        -2771.8501, -2771.9507, -2771.3303, -2771.7024, -2771.6482, -2771.9983,\n",
       "        -2771.7231, -2772.5027, -2772.0161, -2771.6704, -2771.8669, -2771.8586,\n",
       "        -2772.0400, -2771.6907, -2772.0886, -2772.2690, -2771.6392, -2772.0942,\n",
       "        -2771.8701, -2771.8289, -2772.0061, -2771.2437, -2771.2803, -2771.7222,\n",
       "        -2772.5642, -2771.4731, -2771.7837, -2771.6016, -2771.8188, -2771.2134,\n",
       "        -2772.0564, -2772.1460, -2772.0029, -2771.9873, -2771.3149, -2771.7107,\n",
       "        -2772.5715, -2771.1990, -2771.9922, -2771.6033, -2770.7144, -2772.0513,\n",
       "        -2772.0078, -2772.4119, -2772.0889, -2771.8726, -2771.9250, -2770.9702,\n",
       "        -2772.1179, -2771.5957, -2772.2644, -2772.6960, -2771.6521, -2772.4976,\n",
       "        -2772.0955, -2772.1816, -2771.7498, -2772.0742, -2772.2202, -2771.7659,\n",
       "        -2772.2520, -2772.3066, -2772.2053, -2772.1475, -2771.9014, -2771.5405,\n",
       "        -2772.2358, -2771.8403, -2772.2429, -2772.2473, -2771.2383, -2771.8130,\n",
       "        -2772.5032, -2771.5422, -2772.0381, -2772.1851, -2772.1311, -2772.1174,\n",
       "        -2771.6428, -2771.3384, -2771.8782, -2771.9771, -2771.6870, -2772.0063,\n",
       "        -2771.2246, -2771.8884, -2771.7290, -2771.7461, -2771.5283, -2772.2693,\n",
       "        -2772.1343, -2772.0962, -2771.0652, -2771.0452, -2771.8997, -2772.0132,\n",
       "        -2771.8450, -2772.3750, -2771.8184, -2772.0540, -2771.7595, -2771.7222,\n",
       "        -2771.6443, -2771.6030, -2771.5913, -2771.9771, -2772.1631, -2772.1394,\n",
       "        -2771.8318, -2771.4746, -2771.8655, -2771.5833, -2771.9773, -2771.2292,\n",
       "        -2771.3135, -2771.7009, -2771.3845, -2771.6807, -2772.2400, -2771.6917,\n",
       "        -2771.4812, -2772.3994, -2771.7891, -2772.0525, -2771.1670, -2771.5952,\n",
       "        -2772.0784, -2771.6497, -2771.0393, -2772.0515, -2771.5750, -2771.1880,\n",
       "        -2771.8167, -2772.3049, -2771.8308, -2771.8062, -2773.4175, -2772.3977,\n",
       "        -2772.1506, -2771.5803, -2771.5674, -2771.5808, -2771.4475, -2771.7395,\n",
       "        -2771.7942, -2772.1072, -2771.8293, -2771.8145, -2772.1572, -2772.0317,\n",
       "        -2772.3123, -2772.2476, -2771.6943, -2771.6677, -2771.9292, -2772.1438,\n",
       "        -2771.7900, -2771.5752, -2771.5327, -2771.5225, -2772.2190, -2771.4014,\n",
       "        -2771.7776, -2771.7085, -2771.2273, -2771.6870, -2772.0408, -2771.7061,\n",
       "        -2771.1082, -2772.0649, -2771.6379, -2771.5850, -2772.1091, -2771.9419,\n",
       "        -2771.6453, -2772.3196, -2771.1223, -2771.5830, -2771.9722, -2771.8796,\n",
       "        -2771.6667, -2771.3682, -2772.2646, -2771.5532, -2772.3650, -2771.9385,\n",
       "        -2772.2314, -2771.6731, -2772.0374, -2772.4277, -2771.6611, -2771.7024,\n",
       "        -2771.5347, -2771.3262, -2771.9194, -2771.3904, -2771.5137, -2771.8030,\n",
       "        -2772.1240, -2772.3958, -2771.2874, -2771.8574, -2772.1633, -2771.7412,\n",
       "        -2771.9062, -2771.2649, -2771.9587, -2770.8713, -2771.6819, -2771.6455,\n",
       "        -2772.0459, -2771.7747, -2771.5024, -2772.5427, -2771.6780, -2770.8059,\n",
       "        -2772.0862, -2772.1084, -2771.8464, -2771.9031, -2771.6892, -2771.7395,\n",
       "        -2772.2124, -2772.0583, -2771.8806, -2771.8396, -2772.2585, -2772.2202,\n",
       "        -2771.0210, -2771.4189, -2772.1897, -2772.1846, -2771.5249, -2771.6562,\n",
       "        -2771.0764, -2771.4443, -2772.0479, -2771.8042, -2772.0884, -2771.8010,\n",
       "        -2771.4675, -2771.8086, -2771.7344, -2771.3921, -2770.8770, -2771.9133,\n",
       "        -2771.7964, -2772.4111, -2771.1345, -2771.6899, -2771.6794, -2771.9700,\n",
       "        -2771.8450, -2771.4644, -2772.0334, -2772.0110, -2772.2661, -2771.9746,\n",
       "        -2770.9368, -2771.7126, -2772.6523, -2771.6450, -2771.4438, -2771.8123,\n",
       "        -2771.1736, -2772.6323, -2772.6113, -2772.4199, -2771.9019, -2771.8455,\n",
       "        -2771.8601, -2771.7473, -2771.6165, -2772.0708, -2771.7007, -2771.5110,\n",
       "        -2772.0784, -2771.5989, -2771.9646, -2771.5459, -2771.7288, -2771.7310,\n",
       "        -2771.7581, -2771.3562, -2772.1511, -2771.9382, -2772.1353, -2771.9795,\n",
       "        -2771.6384, -2772.3076, -2772.5303, -2772.2283, -2771.6772, -2772.0339,\n",
       "        -2771.5146, -2771.7471, -2772.1609, -2771.9519, -2771.5161, -2771.6804,\n",
       "        -2771.5486, -2771.7000, -2771.2175, -2771.6467, -2771.4021, -2771.6160,\n",
       "        -2771.7021, -2772.1206, -2771.5708, -2771.5947, -2771.9683, -2772.3982,\n",
       "        -2771.4297, -2771.7771, -2772.3064, -2772.0107, -2772.1157, -2772.3186,\n",
       "        -2771.4780, -2771.3025, -2771.5662, -2772.3508, -2771.8774, -2771.8394,\n",
       "        -2771.7114, -2771.8015, -2771.5615, -2772.2644, -2771.6177, -2772.7202,\n",
       "        -2771.8413, -2772.0352, -2771.9536, -2770.7410, -2771.7224, -2772.2517,\n",
       "        -2771.8784, -2772.3577, -2771.6858, -2771.7776, -2772.4128, -2771.2815,\n",
       "        -2772.0603, -2771.6040, -2771.4915, -2771.5601, -2771.6453, -2772.1411,\n",
       "        -2771.5024, -2772.2192, -2771.7156, -2770.9885, -2771.7017, -2771.7427,\n",
       "        -2771.4822, -2771.7141, -2772.5103, -2771.4451, -2771.9714, -2772.1812,\n",
       "        -2772.8501, -2771.1868, -2771.0852, -2771.6956, -2771.5103, -2770.8877,\n",
       "        -2771.7615, -2771.9583, -2771.9138, -2771.3113, -2771.7078, -2771.6833,\n",
       "        -2771.5156, -2772.1936, -2771.7485, -2772.3567, -2771.6819, -2771.2063,\n",
       "        -2771.7480, -2772.1296, -2771.6716, -2771.7817, -2771.3369, -2771.9595,\n",
       "        -2772.6616, -2772.1057, -2771.9370, -2771.8328, -2771.8257, -2772.1292,\n",
       "        -2772.2991, -2771.9824, -2771.2676, -2771.9524, -2771.7573, -2771.8118,\n",
       "        -2771.7837, -2771.5498, -2772.0942, -2771.3113, -2772.5195, -2771.8076,\n",
       "        -2771.1003, -2771.9407, -2772.2563, -2772.1584, -2771.9189, -2771.3286,\n",
       "        -2772.0193, -2771.8450, -2772.0063, -2772.2451, -2771.2092, -2771.9421,\n",
       "        -2772.0481, -2771.9414, -2771.8799, -2771.7305, -2771.0557, -2771.4268,\n",
       "        -2772.3044, -2771.6204, -2772.2451, -2772.0493, -2771.6135, -2771.7991,\n",
       "        -2772.0715, -2771.6816, -2771.4109, -2771.1819, -2771.8120, -2771.5688,\n",
       "        -2771.8022, -2772.5505, -2771.5801, -2771.2292, -2771.7808, -2771.6294,\n",
       "        -2772.3711, -2771.7104, -2772.1921, -2771.7888, -2772.0793, -2771.5981,\n",
       "        -2771.8027, -2771.7993, -2771.4780, -2771.5369, -2771.9519, -2772.0344,\n",
       "        -2771.5840, -2771.8076, -2771.7434, -2771.5159, -2771.8733, -2771.4890,\n",
       "        -2771.5420, -2772.1990, -2771.8674, -2771.4963, -2772.3657, -2771.6365,\n",
       "        -2771.7395, -2771.7444, -2771.1653, -2772.2185, -2771.1475, -2771.7688,\n",
       "        -2771.6750, -2772.0513, -2771.3389, -2771.7893, -2772.0889, -2771.8997,\n",
       "        -2771.6418, -2772.1506, -2773.0024, -2771.9595, -2772.1130, -2771.9128,\n",
       "        -2771.7292, -2771.9021, -2771.6377, -2771.2529, -2771.8469, -2772.2295,\n",
       "        -2772.3308, -2771.5625, -2771.2354, -2771.8989, -2772.1304, -2771.6169,\n",
       "        -2771.5154, -2771.5344, -2772.0903, -2771.7910, -2771.6345, -2771.7795,\n",
       "        -2771.7961, -2772.5225, -2771.1072, -2771.9949, -2771.8303, -2772.3940,\n",
       "        -2772.0393, -2772.2771, -2771.5295, -2772.2859, -2772.4443, -2771.6719,\n",
       "        -2771.5891, -2771.6428, -2771.5569, -2772.5391, -2771.2556, -2772.1934,\n",
       "        -2771.5454, -2771.2385, -2772.2527, -2771.5994, -2771.2842, -2771.4124,\n",
       "        -2771.8533, -2771.9895, -2771.8323, -2772.4224, -2771.6692, -2772.5491,\n",
       "        -2772.2856, -2771.9248, -2772.3425, -2772.1604, -2771.9163, -2772.3594,\n",
       "        -2772.0212, -2771.5383, -2771.2959, -2771.6536, -2771.0605, -2772.0120,\n",
       "        -2771.8235, -2772.1274, -2771.6011, -2772.2639, -2772.3735, -2771.8972,\n",
       "        -2772.3008, -2771.9609, -2771.6604, -2771.5962, -2771.7610, -2771.1184,\n",
       "        -2771.5400, -2772.2236, -2771.9009, -2772.2915, -2772.0427, -2771.7686,\n",
       "        -2772.0100, -2771.2026, -2771.3250, -2771.8491, -2771.7966, -2771.6375,\n",
       "        -2772.8311, -2771.8625, -2771.6729, -2771.7327, -2772.5420, -2772.3218,\n",
       "        -2771.3293, -2771.8425, -2772.1655, -2771.1724, -2771.7400, -2771.9087,\n",
       "        -2771.8088, -2771.7751, -2771.9802, -2773.2075, -2771.8677, -2771.3833,\n",
       "        -2772.1648, -2771.7878, -2771.6660, -2772.2388, -2771.0298, -2771.9441,\n",
       "        -2771.6152, -2771.8474, -2771.8113, -2771.6873, -2772.3706, -2771.4043,\n",
       "        -2772.2693, -2772.1565, -2772.0920, -2772.1582, -2772.2590, -2771.6821,\n",
       "        -2772.4805, -2771.5371, -2772.4280, -2771.7375, -2771.8274, -2771.5371,\n",
       "        -2772.1946, -2771.9043, -2771.1790, -2771.6897, -2771.4524, -2772.0308,\n",
       "        -2771.4551, -2771.7227, -2771.5791, -2771.9277, -2771.8406, -2772.1936,\n",
       "        -2772.2451, -2771.4543, -2771.0667, -2771.3127, -2772.0234, -2771.7905,\n",
       "        -2771.6289, -2771.9905, -2771.8386, -2772.1470, -2771.9023, -2771.4814,\n",
       "        -2771.8271, -2771.9407, -2772.2661, -2771.6746, -2771.3401, -2771.8892,\n",
       "        -2771.2874, -2771.9414, -2771.6152, -2772.0552, -2772.5283, -2771.2947,\n",
       "        -2771.9683, -2771.6221, -2772.3110, -2771.4734, -2771.7407, -2771.8254,\n",
       "        -2771.7427, -2771.1973, -2772.0549, -2772.6865, -2771.7866, -2772.0288,\n",
       "        -2771.8521, -2772.3115, -2770.9556, -2771.9380, -2771.8911, -2772.1570,\n",
       "        -2771.8262, -2771.5215, -2772.0972, -2772.3579, -2771.9238, -2772.2585,\n",
       "        -2771.5471, -2772.1470, -2772.4939, -2771.8992, -2771.5137, -2771.9963,\n",
       "        -2772.2378, -2770.8799, -2772.0972, -2771.8501, -2771.9443, -2771.7449,\n",
       "        -2771.3386, -2771.6304, -2771.3547, -2772.1143, -2771.6882, -2771.1108,\n",
       "        -2771.3591, -2772.0525, -2771.4397, -2771.6499, -2772.6741, -2771.7261,\n",
       "        -2771.6077, -2771.4270, -2770.9915, -2771.9321, -2771.6917, -2771.5503,\n",
       "        -2772.6685, -2771.2788, -2771.7412, -2771.9185, -2771.9033, -2771.5986,\n",
       "        -2771.2234, -2771.8440, -2771.4609, -2771.9353, -2771.8691, -2771.4482,\n",
       "        -2771.6450, -2771.5435, -2771.6360, -2771.3523, -2772.0620, -2771.8062,\n",
       "        -2771.9543, -2771.7664, -2770.9976, -2771.9160, -2771.6565, -2772.0925,\n",
       "        -2772.8040, -2771.6306, -2771.3982, -2771.9119, -2771.5139, -2771.3081,\n",
       "        -2772.2083, -2771.6387, -2772.1589, -2772.4365, -2771.6074, -2771.5933,\n",
       "        -2772.4473, -2771.1465, -2772.5886, -2771.6128, -2772.6365, -2771.8113,\n",
       "        -2772.1885, -2771.3218, -2771.1790, -2772.3411, -2771.5979, -2771.6506,\n",
       "        -2771.5735, -2771.9922, -2771.3289, -2771.6980, -2772.2717, -2771.9238,\n",
       "        -2771.5728, -2771.8069, -2771.5671, -2771.3787],\n",
       "       grad_fn=<AddBackward0>)"
      ]
     },
     "execution_count": 13,
     "metadata": {},
     "output_type": "execute_result"
    }
   ],
   "source": [
    "model.log_prob(R_true)"
   ]
  },
  {
   "cell_type": "code",
   "execution_count": 14,
   "metadata": {},
   "outputs": [
    {
     "data": {
      "text/plain": [
       "tensor([[[-0.4174,  0.1168, -0.0905,  ..., -0.1029,  0.1854, -0.3223],\n",
       "         [ 2.6166,  0.0333, -2.9407,  ...,  5.3517, -1.1905,  1.7221],\n",
       "         [-3.4330,  0.7216, -0.9157,  ...,  0.7350,  3.2794, -1.1171],\n",
       "         ...,\n",
       "         [ 0.9871, -1.4967,  2.9596,  ..., -2.6095, -1.6240,  1.1600],\n",
       "         [ 1.0083,  0.6213,  0.1283,  ..., -2.3190, -1.2780, -1.6956],\n",
       "         [ 0.0565, -0.7797,  1.1822,  ...,  0.4277,  0.0172,  1.2192]],\n",
       "\n",
       "        [[-0.1916,  0.1799, -0.0876,  ..., -0.1520,  0.2836, -0.4431],\n",
       "         [ 2.7421,  0.1189, -2.8464,  ...,  5.3587, -1.1849,  1.6212],\n",
       "         [-3.4172,  0.7537, -1.0429,  ...,  0.5642,  3.1608, -0.8277],\n",
       "         ...,\n",
       "         [ 1.1632, -1.4523,  2.8730,  ..., -2.4442, -1.6200,  1.3012],\n",
       "         [ 0.9074,  0.5302, -0.0337,  ..., -2.3444, -1.2579, -1.5905],\n",
       "         [-0.1562, -0.7578,  1.0119,  ...,  0.4283, -0.0823,  1.0536]],\n",
       "\n",
       "        [[-0.3324,  0.1325, -0.1618,  ..., -0.0969,  0.0960, -0.3310],\n",
       "         [ 2.5777,  0.1426, -2.7058,  ...,  5.4588, -1.2780,  1.4857],\n",
       "         [-3.4519,  0.8200, -1.1316,  ...,  0.5267,  3.2346, -0.9885],\n",
       "         ...,\n",
       "         [ 1.0965, -1.3320,  2.8327,  ..., -2.4400, -1.5702,  1.1704],\n",
       "         [ 0.9877,  0.5068,  0.0946,  ..., -2.3845, -1.1254, -1.4857],\n",
       "         [ 0.0057, -1.1326,  1.2340,  ...,  0.1506, -0.1745,  1.4002]],\n",
       "\n",
       "        ...,\n",
       "\n",
       "        [[-0.3130,  0.2633, -0.1205,  ..., -0.3220,  0.1199, -0.2693],\n",
       "         [ 2.5001,  0.0778, -2.8512,  ...,  5.2391, -1.1765,  1.5006],\n",
       "         [-3.3794,  0.8332, -1.1090,  ...,  0.5078,  3.2643, -0.9396],\n",
       "         ...,\n",
       "         [ 1.0629, -1.3139,  2.8693,  ..., -2.3075, -1.5988,  1.0954],\n",
       "         [ 1.1370,  0.6127,  0.0563,  ..., -2.4588, -1.3255, -1.5416],\n",
       "         [-0.0630, -0.9139,  1.0916,  ...,  0.3903,  0.0584,  1.1912]],\n",
       "\n",
       "        [[-0.2231,  0.1338, -0.2092,  ..., -0.1989,  0.1861, -0.3522],\n",
       "         [ 2.6290,  0.1441, -3.0320,  ...,  5.5046, -1.1892,  1.5198],\n",
       "         [-3.1503,  0.9813, -1.0359,  ...,  0.7158,  3.3008, -0.9188],\n",
       "         ...,\n",
       "         [ 0.9921, -1.3866,  3.1303,  ..., -2.4831, -1.6320,  1.1618],\n",
       "         [ 0.9569,  0.4578,  0.0327,  ..., -2.4205, -1.3771, -1.5227],\n",
       "         [-0.0970, -1.0210,  1.0666,  ...,  0.3228,  0.0386,  1.4101]],\n",
       "\n",
       "        [[-0.2729,  0.3330, -0.1395,  ..., -0.1759,  0.2330, -0.2782],\n",
       "         [ 2.7868,  0.1261, -2.7920,  ...,  5.4359, -1.1540,  1.3459],\n",
       "         [-3.6047,  0.8491, -1.1974,  ...,  0.7514,  3.1904, -0.8997],\n",
       "         ...,\n",
       "         [ 0.9958, -1.4379,  3.0019,  ..., -2.3668, -1.8119,  1.2457],\n",
       "         [ 1.0208,  0.7752, -0.2651,  ..., -2.2978, -1.1569, -1.5598],\n",
       "         [-0.0538, -0.9614,  1.2194,  ...,  0.2831, -0.1297,  1.2586]]])"
      ]
     },
     "execution_count": 14,
     "metadata": {},
     "output_type": "execute_result"
    }
   ],
   "source": [
    "R_true"
   ]
  },
  {
   "cell_type": "code",
   "execution_count": 20,
   "metadata": {},
   "outputs": [
    {
     "data": {
      "text/plain": [
       "tensor([[-0.2898,  0.1578, -0.1094,  ..., -0.1706,  0.2528, -0.2609],\n",
       "        [ 2.5950,  0.1465, -2.8875,  ...,  5.3892, -1.2971,  1.5609],\n",
       "        [-3.3686,  0.9001, -0.9781,  ...,  0.5444,  3.2949, -0.9383],\n",
       "        ...,\n",
       "        [ 1.0499, -1.4646,  2.9603,  ..., -2.4305, -1.6313,  1.1070],\n",
       "        [ 0.9538,  0.5664,  0.0114,  ..., -2.3572, -1.2425, -1.5689],\n",
       "        [-0.0060, -0.9165,  1.1800,  ...,  0.3468, -0.0572,  1.3365]],\n",
       "       grad_fn=<MmBackward>)"
      ]
     },
     "execution_count": 20,
     "metadata": {},
     "output_type": "execute_result"
    }
   ],
   "source": [
    "model.reconstruct()"
   ]
  },
  {
   "cell_type": "code",
   "execution_count": 23,
   "metadata": {},
   "outputs": [],
   "source": [
    "# model.U"
   ]
  },
  {
   "cell_type": "code",
   "execution_count": null,
   "metadata": {},
   "outputs": [],
   "source": []
  },
  {
   "cell_type": "code",
   "execution_count": null,
   "metadata": {},
   "outputs": [],
   "source": []
  }
 ],
 "metadata": {
  "kernelspec": {
   "display_name": "Python 3",
   "language": "python",
   "name": "python3"
  },
  "language_info": {
   "codemirror_mode": {
    "name": "ipython",
    "version": 3
   },
   "file_extension": ".py",
   "mimetype": "text/x-python",
   "name": "python",
   "nbconvert_exporter": "python",
   "pygments_lexer": "ipython3",
   "version": "3.7.4"
  }
 },
 "nbformat": 4,
 "nbformat_minor": 2
}
