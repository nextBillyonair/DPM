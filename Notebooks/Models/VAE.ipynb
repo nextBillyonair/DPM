{
 "cells": [
  {
   "cell_type": "code",
   "execution_count": 1,
   "metadata": {},
   "outputs": [],
   "source": [
    "from sklearn.datasets import fetch_openml\n",
    "from sklearn.preprocessing import MinMaxScaler\n",
    "# from dpm.models.vae import BernoulliVAE\n",
    "from dpm.models import VAE\n",
    "from dpm.visualize import plot_stats\n",
    "import torch"
   ]
  },
  {
   "cell_type": "code",
   "execution_count": null,
   "metadata": {},
   "outputs": [],
   "source": []
  },
  {
   "cell_type": "code",
   "execution_count": 2,
   "metadata": {},
   "outputs": [],
   "source": [
    "X, y = fetch_openml('mnist_784', version=1, return_X_y=True)"
   ]
  },
  {
   "cell_type": "code",
   "execution_count": 3,
   "metadata": {},
   "outputs": [],
   "source": [
    "scaler = MinMaxScaler()\n",
    "X_scaled = scaler.fit_transform(X)"
   ]
  },
  {
   "cell_type": "code",
   "execution_count": 4,
   "metadata": {
    "scrolled": true
   },
   "outputs": [
    {
     "data": {
      "text/plain": [
       "((5000, 784), (5000,))"
      ]
     },
     "execution_count": 4,
     "metadata": {},
     "output_type": "execute_result"
    }
   ],
   "source": [
    "x_train = X_scaled[:5000]\n",
    "y_train = y[:5000]\n",
    "x_train.shape, y_train.shape"
   ]
  },
  {
   "cell_type": "code",
   "execution_count": 5,
   "metadata": {},
   "outputs": [
    {
     "data": {
      "text/plain": [
       "0.0"
      ]
     },
     "execution_count": 5,
     "metadata": {},
     "output_type": "execute_result"
    }
   ],
   "source": [
    "x_train.min()"
   ]
  },
  {
   "cell_type": "code",
   "execution_count": 6,
   "metadata": {},
   "outputs": [
    {
     "data": {
      "text/plain": [
       "torch.Size([5000, 784])"
      ]
     },
     "execution_count": 6,
     "metadata": {},
     "output_type": "execute_result"
    }
   ],
   "source": [
    "x_train = torch.tensor(x_train).float()\n",
    "x_train.size()"
   ]
  },
  {
   "cell_type": "code",
   "execution_count": 7,
   "metadata": {},
   "outputs": [
    {
     "data": {
      "text/plain": [
       "tensor(510486.3750)"
      ]
     },
     "execution_count": 7,
     "metadata": {},
     "output_type": "execute_result"
    }
   ],
   "source": [
    "x_train.sum()"
   ]
  },
  {
   "cell_type": "code",
   "execution_count": 8,
   "metadata": {},
   "outputs": [],
   "source": [
    "from dpm.distributions import Distribution, ConditionalModel, Normal, Bernoulli, Data\n",
    "from functools import partial\n",
    "from dpm.utils import Sigmoid, SafeSoftplus\n",
    "from torch.nn.functional import softplus\n",
    "# from dpm.train import train\n",
    "# from dpm.criterion import cross_entropy\n",
    "\n",
    "# # Pass Data to encoder -> mu, sigma\n",
    "# # Sample from latent(mu, sigma)\n",
    "# # Pass z to decoder -> Get Reconstruction\n",
    "\n",
    "# # Maximize reconstruction Prob\n",
    "\n",
    "\n",
    "# class VAE(Distribution):\n",
    "    \n",
    "#     def __init__(self, encoder_args={}, decoder_args={}, prior=None):\n",
    "#         super().__init__()\n",
    "#         preset_encoder_args={'input_dim':1, 'hidden_sizes':[24, 24],\n",
    "#                              'activation':'ReLU', 'output_shapes':[1, 1],\n",
    "#                              'output_activations':[None, 'Softplus'],\n",
    "#                              'distribution':partial(Normal, learnable=False)}\n",
    "#         preset_decoder_args={'input_dim':1, 'hidden_sizes':[24, 24],\n",
    "#                              'activation':'ReLU', 'output_shapes':[1],\n",
    "#                              'output_activations':[Sigmoid()],\n",
    "#                              'distribution':partial(Bernoulli, learnable=False)}\n",
    "        \n",
    "#         preset_encoder_args.update(encoder_args)\n",
    "#         preset_decoder_args.update(decoder_args)\n",
    "        \n",
    "#         self.encoder = ConditionalModel(**preset_encoder_args)\n",
    "#         self.decoder = ConditionalModel(**preset_decoder_args)\n",
    "        \n",
    "#         self.prior = prior\n",
    "#         if prior is None:\n",
    "#             latent_dim = preset_decoder_args['input_dim']\n",
    "#             self.prior = Normal(torch.zeros(latent_dim), \n",
    "#                                 torch.ones(latent_dim), \n",
    "#                                 learnable=False)\n",
    "        \n",
    "        \n",
    "#     def log_prob(self, X):\n",
    "#         Z, encoder_probs = self.encoder.sample(X, compute_logprob=True)\n",
    "#         prior_probs = self.prior.log_prob(Z)\n",
    "#         decoder_log_probs = self.decoder.log_prob(X, Z)\n",
    "#         return decoder_log_probs + prior_probs - encoder_probs\n",
    "    \n",
    "    \n",
    "#     def sample(self, batch_size, compute_logprob=False):\n",
    "#         Z = self.prior.sample(batch_size)\n",
    "#         return self.decoder.sample(Z, compute_logprob)\n",
    "    \n",
    "    \n",
    "#     def fit(self, x, **kwargs):\n",
    "#         data = Data(x)\n",
    "#         stats = train(data, self, cross_entropy, **kwargs)\n",
    "#         return stats\n",
    "        \n"
   ]
  },
  {
   "cell_type": "code",
   "execution_count": 9,
   "metadata": {},
   "outputs": [
    {
     "data": {
      "text/plain": [
       "<torch._C.Generator at 0x112079ab0>"
      ]
     },
     "execution_count": 9,
     "metadata": {},
     "output_type": "execute_result"
    }
   ],
   "source": [
    "torch.manual_seed(42)"
   ]
  },
  {
   "cell_type": "code",
   "execution_count": 10,
   "metadata": {},
   "outputs": [],
   "source": [
    "# model.fit(x_train)\n",
    "model = VAE({'input_dim':784, 'hidden_sizes':[512, 128], 'output_shapes':[64, 64]}, \n",
    "            {'input_dim':64, 'hidden_sizes':[128, 512], 'output_shapes':[784, 784],\n",
    "             'output_activations':[None, SafeSoftplus()],\n",
    "             'distribution':partial(Normal, learnable=False)}, \n",
    "             prior=Normal(torch.zeros(64), torch.ones(64), learnable=False))\n",
    "stats=None"
   ]
  },
  {
   "cell_type": "code",
   "execution_count": 11,
   "metadata": {},
   "outputs": [
    {
     "data": {
      "text/plain": [
       "tensor(0.1302)"
      ]
     },
     "execution_count": 11,
     "metadata": {},
     "output_type": "execute_result"
    }
   ],
   "source": [
    "x_train.mean()"
   ]
  },
  {
   "cell_type": "code",
   "execution_count": null,
   "metadata": {},
   "outputs": [],
   "source": []
  },
  {
   "cell_type": "code",
   "execution_count": 14,
   "metadata": {
    "scrolled": false
   },
   "outputs": [
    {
     "name": "stdout",
     "output_type": "stream",
     "text": [
      "[Epoch 0/1000]\tLoss 1201.84\n",
      "[Epoch 10/1000]\tLoss 729.86\n",
      "[Epoch 20/1000]\tLoss 504.98\n",
      "[Epoch 30/1000]\tLoss 420.32\n",
      "[Epoch 40/1000]\tLoss 394.31\n",
      "[Epoch 50/1000]\tLoss 378.68\n",
      "[Epoch 60/1000]\tLoss 335.69\n",
      "[Epoch 70/1000]\tLoss 350.90\n",
      "[Epoch 80/1000]\tLoss 376.67\n",
      "[Epoch 90/1000]\tLoss 318.99\n",
      "[Epoch 100/1000]\tLoss 339.13\n",
      "[Epoch 110/1000]\tLoss 328.55\n",
      "[Epoch 120/1000]\tLoss 342.80\n",
      "[Epoch 130/1000]\tLoss 314.72\n",
      "[Epoch 140/1000]\tLoss 345.89\n",
      "[Epoch 150/1000]\tLoss 328.04\n",
      "[Epoch 160/1000]\tLoss 293.35\n",
      "[Epoch 170/1000]\tLoss 291.64\n",
      "[Epoch 180/1000]\tLoss 337.23\n",
      "[Epoch 190/1000]\tLoss 330.42\n",
      "[Epoch 200/1000]\tLoss 308.78\n",
      "[Epoch 210/1000]\tLoss 313.01\n",
      "[Epoch 220/1000]\tLoss 304.45\n",
      "[Epoch 230/1000]\tLoss 288.03\n",
      "[Epoch 240/1000]\tLoss 266.76\n",
      "[Epoch 250/1000]\tLoss 305.83\n",
      "[Epoch 260/1000]\tLoss 300.34\n",
      "[Epoch 270/1000]\tLoss 295.55\n",
      "[Epoch 280/1000]\tLoss 261.18\n",
      "[Epoch 290/1000]\tLoss 269.39\n",
      "[Epoch 300/1000]\tLoss 299.94\n",
      "[Epoch 310/1000]\tLoss 272.00\n",
      "[Epoch 320/1000]\tLoss 266.75\n",
      "[Epoch 330/1000]\tLoss 262.44\n",
      "[Epoch 340/1000]\tLoss 262.53\n",
      "[Epoch 350/1000]\tLoss 266.32\n",
      "[Epoch 360/1000]\tLoss 269.12\n",
      "[Epoch 370/1000]\tLoss 280.14\n",
      "[Epoch 380/1000]\tLoss 247.09\n",
      "[Epoch 390/1000]\tLoss 268.08\n",
      "[Epoch 400/1000]\tLoss 244.04\n",
      "[Epoch 410/1000]\tLoss 254.20\n",
      "[Epoch 420/1000]\tLoss 256.99\n",
      "[Epoch 430/1000]\tLoss 253.92\n",
      "[Epoch 440/1000]\tLoss 273.85\n",
      "[Epoch 450/1000]\tLoss 236.75\n",
      "[Epoch 460/1000]\tLoss 260.01\n",
      "[Epoch 470/1000]\tLoss 267.65\n",
      "[Epoch 480/1000]\tLoss 250.65\n",
      "[Epoch 490/1000]\tLoss 268.73\n",
      "[Epoch 500/1000]\tLoss 242.48\n",
      "[Epoch 510/1000]\tLoss 220.82\n",
      "[Epoch 520/1000]\tLoss 255.71\n",
      "[Epoch 530/1000]\tLoss 226.50\n",
      "[Epoch 540/1000]\tLoss 273.21\n",
      "[Epoch 550/1000]\tLoss 243.80\n",
      "[Epoch 560/1000]\tLoss 255.31\n",
      "[Epoch 570/1000]\tLoss 222.74\n",
      "[Epoch 580/1000]\tLoss 248.32\n",
      "[Epoch 590/1000]\tLoss 244.21\n",
      "[Epoch 600/1000]\tLoss 266.88\n",
      "[Epoch 610/1000]\tLoss 249.01\n",
      "[Epoch 620/1000]\tLoss 246.92\n",
      "[Epoch 630/1000]\tLoss 215.46\n",
      "[Epoch 640/1000]\tLoss 277.65\n",
      "[Epoch 650/1000]\tLoss 214.52\n",
      "[Epoch 660/1000]\tLoss 259.05\n",
      "[Epoch 670/1000]\tLoss 251.36\n",
      "[Epoch 680/1000]\tLoss 224.54\n",
      "[Epoch 690/1000]\tLoss 223.45\n",
      "[Epoch 700/1000]\tLoss 207.35\n",
      "[Epoch 710/1000]\tLoss 213.93\n",
      "[Epoch 720/1000]\tLoss 220.36\n",
      "[Epoch 730/1000]\tLoss 226.60\n",
      "[Epoch 740/1000]\tLoss 245.33\n",
      "[Epoch 750/1000]\tLoss 222.22\n",
      "[Epoch 760/1000]\tLoss 214.70\n",
      "[Epoch 770/1000]\tLoss 219.26\n",
      "[Epoch 780/1000]\tLoss 223.88\n",
      "[Epoch 790/1000]\tLoss 225.65\n",
      "[Epoch 800/1000]\tLoss 233.98\n",
      "[Epoch 810/1000]\tLoss 233.54\n",
      "[Epoch 820/1000]\tLoss 224.11\n",
      "[Epoch 830/1000]\tLoss 209.06\n",
      "[Epoch 840/1000]\tLoss 217.66\n",
      "[Epoch 850/1000]\tLoss 220.86\n",
      "[Epoch 860/1000]\tLoss 235.95\n",
      "[Epoch 870/1000]\tLoss 212.08\n",
      "[Epoch 880/1000]\tLoss 221.26\n",
      "[Epoch 890/1000]\tLoss 204.62\n",
      "[Epoch 900/1000]\tLoss 211.68\n",
      "[Epoch 910/1000]\tLoss 217.82\n",
      "[Epoch 920/1000]\tLoss 213.48\n",
      "[Epoch 930/1000]\tLoss 214.71\n",
      "[Epoch 940/1000]\tLoss 198.10\n",
      "[Epoch 950/1000]\tLoss 209.50\n",
      "[Epoch 960/1000]\tLoss 203.97\n",
      "[Epoch 970/1000]\tLoss 204.24\n",
      "[Epoch 980/1000]\tLoss 224.77\n",
      "[Epoch 990/1000]\tLoss 204.52\n"
     ]
    }
   ],
   "source": [
    "stats = model.fit((x_train - x_train.mean()) / x_train.std(), use_elbo=True, \n",
    "                  epochs=1000, log_interval=10, batch_size=64, \n",
    "                  stats=stats)"
   ]
  },
  {
   "cell_type": "code",
   "execution_count": 15,
   "metadata": {},
   "outputs": [
    {
     "data": {
      "image/png": "[encoded data removed]",
      "text/plain": [
       "<Figure size 864x432 with 1 Axes>"
      ]
     },
     "metadata": {
      "needs_background": "light"
     },
     "output_type": "display_data"
    }
   ],
   "source": [
    "plot_stats(stats)"
   ]
  },
  {
   "cell_type": "code",
   "execution_count": 18,
   "metadata": {},
   "outputs": [
    {
     "name": "stdout",
     "output_type": "stream",
     "text": [
      "(10, 784)\n"
     ]
    },
    {
     "data": {
      "text/plain": [
       "Text(0.5, 0.98, 'Generated Samples')"
      ]
     },
     "execution_count": 18,
     "metadata": {},
     "output_type": "execute_result"
    },
    {
     "data": {
      "image/png": "[encoded data removed]",
      "text/plain": [
       "<Figure size 720x360 with 10 Axes>"
      ]
     },
     "metadata": {},
     "output_type": "display_data"
    }
   ],
   "source": [
    "import matplotlib.pyplot as plt\n",
    "import numpy as np\n",
    "\n",
    "samples = model.sample(10).detach().numpy()\n",
    "print(samples.shape)\n",
    "\n",
    "plt.figure(figsize=(10, 5))\n",
    "scalemax = np.abs(samples).max()\n",
    "scalemin = np.abs(samples).min()\n",
    "\n",
    "\n",
    "for i in range(10):\n",
    "    l1_plot = plt.subplot(2, 5, i + 1)\n",
    "    l1_plot.imshow(samples[i].reshape(28, 28), interpolation='nearest',\n",
    "                   cmap=plt.cm.binary, vmin=scalemin, vmax=scalemax)\n",
    "    l1_plot.set_xticks(())\n",
    "    l1_plot.set_yticks(())\n",
    "    l1_plot.set_xlabel('Sample %i' % i)\n",
    "plt.suptitle('Generated Samples')"
   ]
  },
  {
   "cell_type": "code",
   "execution_count": null,
   "metadata": {},
   "outputs": [],
   "source": []
  },
  {
   "cell_type": "code",
   "execution_count": null,
   "metadata": {},
   "outputs": [],
   "source": []
  },
  {
   "cell_type": "code",
   "execution_count": null,
   "metadata": {},
   "outputs": [],
   "source": []
  },
  {
   "cell_type": "code",
   "execution_count": null,
   "metadata": {},
   "outputs": [],
   "source": []
  },
  {
   "cell_type": "code",
   "execution_count": null,
   "metadata": {},
   "outputs": [],
   "source": []
  },
  {
   "cell_type": "code",
   "execution_count": 537,
   "metadata": {},
   "outputs": [
    {
     "data": {
      "text/plain": [
       "tensor(979., grad_fn=<SumBackward0>)"
      ]
     },
     "execution_count": 537,
     "metadata": {},
     "output_type": "execute_result"
    }
   ],
   "source": [
    "s.sum()"
   ]
  },
  {
   "cell_type": "code",
   "execution_count": null,
   "metadata": {},
   "outputs": [],
   "source": []
  },
  {
   "cell_type": "code",
   "execution_count": 79,
   "metadata": {},
   "outputs": [
    {
     "ename": "KeyboardInterrupt",
     "evalue": "",
     "output_type": "error",
     "traceback": [
      "\u001b[0;31m---------------------------------------------------------------------------\u001b[0m",
      "\u001b[0;31mKeyboardInterrupt\u001b[0m                         Traceback (most recent call last)",
      "\u001b[0;32m<ipython-input-79-4e9fa0e50009>\u001b[0m in \u001b[0;36m<module>\u001b[0;34m()\u001b[0m\n\u001b[0;32m----> 1\u001b[0;31m \u001b[0md\u001b[0m \u001b[0;34m=\u001b[0m \u001b[0mmodel\u001b[0m\u001b[0;34m.\u001b[0m\u001b[0mlog_prob\u001b[0m\u001b[0;34m(\u001b[0m\u001b[0mx_train\u001b[0m\u001b[0;34m)\u001b[0m\u001b[0;34m\u001b[0m\u001b[0;34m\u001b[0m\u001b[0m\n\u001b[0m\u001b[1;32m      2\u001b[0m \u001b[0mtorch\u001b[0m\u001b[0;34m.\u001b[0m\u001b[0msigmoid\u001b[0m\u001b[0;34m(\u001b[0m\u001b[0md\u001b[0m\u001b[0;34m)\u001b[0m\u001b[0;34m.\u001b[0m\u001b[0msum\u001b[0m\u001b[0;34m(\u001b[0m\u001b[0;34m)\u001b[0m\u001b[0;34m\u001b[0m\u001b[0;34m\u001b[0m\u001b[0m\n",
      "\u001b[0;32m<ipython-input-51-a6f45cec28b5>\u001b[0m in \u001b[0;36mlog_prob\u001b[0;34m(self, X)\u001b[0m\n\u001b[1;32m     43\u001b[0m         \u001b[0mZ\u001b[0m\u001b[0;34m,\u001b[0m \u001b[0mencoder_probs\u001b[0m \u001b[0;34m=\u001b[0m \u001b[0mself\u001b[0m\u001b[0;34m.\u001b[0m\u001b[0mencoder\u001b[0m\u001b[0;34m.\u001b[0m\u001b[0msample\u001b[0m\u001b[0;34m(\u001b[0m\u001b[0mX\u001b[0m\u001b[0;34m,\u001b[0m \u001b[0mcompute_logprob\u001b[0m\u001b[0;34m=\u001b[0m\u001b[0;32mTrue\u001b[0m\u001b[0;34m)\u001b[0m\u001b[0;34m\u001b[0m\u001b[0;34m\u001b[0m\u001b[0m\n\u001b[1;32m     44\u001b[0m         \u001b[0mprior_probs\u001b[0m \u001b[0;34m=\u001b[0m \u001b[0mself\u001b[0m\u001b[0;34m.\u001b[0m\u001b[0mprior\u001b[0m\u001b[0;34m.\u001b[0m\u001b[0mlog_prob\u001b[0m\u001b[0;34m(\u001b[0m\u001b[0mZ\u001b[0m\u001b[0;34m)\u001b[0m\u001b[0;34m\u001b[0m\u001b[0;34m\u001b[0m\u001b[0m\n\u001b[0;32m---> 45\u001b[0;31m         \u001b[0mdecoder_log_probs\u001b[0m \u001b[0;34m=\u001b[0m \u001b[0mself\u001b[0m\u001b[0;34m.\u001b[0m\u001b[0mdecoder\u001b[0m\u001b[0;34m.\u001b[0m\u001b[0mlog_prob\u001b[0m\u001b[0;34m(\u001b[0m\u001b[0mX\u001b[0m\u001b[0;34m,\u001b[0m \u001b[0mZ\u001b[0m\u001b[0;34m)\u001b[0m\u001b[0;34m\u001b[0m\u001b[0;34m\u001b[0m\u001b[0m\n\u001b[0m\u001b[1;32m     46\u001b[0m         \u001b[0;32mreturn\u001b[0m \u001b[0mdecoder_log_probs\u001b[0m \u001b[0;34m+\u001b[0m \u001b[0mprior_probs\u001b[0m \u001b[0;34m-\u001b[0m \u001b[0mencoder_probs\u001b[0m\u001b[0;34m\u001b[0m\u001b[0;34m\u001b[0m\u001b[0m\n\u001b[1;32m     47\u001b[0m \u001b[0;34m\u001b[0m\u001b[0m\n",
      "\u001b[0;32m~/Documents/DPM/dpm/distributions/conditional_model.py\u001b[0m in \u001b[0;36mlog_prob\u001b[0;34m(self, z, x)\u001b[0m\n\u001b[1;32m     58\u001b[0m         \u001b[0;32mreturn\u001b[0m \u001b[0mself\u001b[0m\u001b[0;34m.\u001b[0m\u001b[0m_create_dist\u001b[0m\u001b[0;34m(\u001b[0m\u001b[0mx\u001b[0m\u001b[0;34m)\u001b[0m\u001b[0;34m.\u001b[0m\u001b[0mlog_prob\u001b[0m\u001b[0;34m(\u001b[0m\u001b[0mz\u001b[0m\u001b[0;34m)\u001b[0m\u001b[0;34m\u001b[0m\u001b[0;34m\u001b[0m\u001b[0m\n",
      "\u001b[0;32m~/Documents/DPM/dpm/distributions/normal.py\u001b[0m in \u001b[0;36mlog_prob\u001b[0;34m(self, value)\u001b[0m\n\u001b[1;32m     58\u001b[0m             \u001b[0;32mreturn\u001b[0m \u001b[0mdists\u001b[0m\u001b[0;34m.\u001b[0m\u001b[0mMultivariateNormal\u001b[0m\u001b[0;34m(\u001b[0m\u001b[0mself\u001b[0m\u001b[0;34m.\u001b[0m\u001b[0mloc\u001b[0m\u001b[0;34m,\u001b[0m \u001b[0mself\u001b[0m\u001b[0;34m.\u001b[0m\u001b[0mscale\u001b[0m\u001b[0;34m)\u001b[0m\u001b[0;34m.\u001b[0m\u001b[0mlog_prob\u001b[0m\u001b[0;34m(\u001b[0m\u001b[0mvalue\u001b[0m\u001b[0;34m)\u001b[0m\u001b[0;34m\u001b[0m\u001b[0;34m\u001b[0m\u001b[0m\n\u001b[1;32m     59\u001b[0m         \u001b[0;32melif\u001b[0m \u001b[0mself\u001b[0m\u001b[0;34m.\u001b[0m\u001b[0m_diag_type\u001b[0m \u001b[0;34m==\u001b[0m \u001b[0;34m'diag'\u001b[0m\u001b[0;34m:\u001b[0m\u001b[0;34m\u001b[0m\u001b[0;34m\u001b[0m\u001b[0m\n\u001b[0;32m---> 60\u001b[0;31m             \u001b[0;32mreturn\u001b[0m \u001b[0mdists\u001b[0m\u001b[0;34m.\u001b[0m\u001b[0mNormal\u001b[0m\u001b[0;34m(\u001b[0m\u001b[0mself\u001b[0m\u001b[0;34m.\u001b[0m\u001b[0mloc\u001b[0m\u001b[0;34m,\u001b[0m \u001b[0mself\u001b[0m\u001b[0;34m.\u001b[0m\u001b[0mstd\u001b[0m\u001b[0;34m)\u001b[0m\u001b[0;34m.\u001b[0m\u001b[0mlog_prob\u001b[0m\u001b[0;34m(\u001b[0m\u001b[0mvalue\u001b[0m\u001b[0;34m)\u001b[0m\u001b[0;34m.\u001b[0m\u001b[0msum\u001b[0m\u001b[0;34m(\u001b[0m\u001b[0mdim\u001b[0m\u001b[0;34m=\u001b[0m\u001b[0;34m-\u001b[0m\u001b[0;36m1\u001b[0m\u001b[0;34m)\u001b[0m\u001b[0;34m\u001b[0m\u001b[0;34m\u001b[0m\u001b[0m\n\u001b[0m\u001b[1;32m     61\u001b[0m         \u001b[0;32melse\u001b[0m\u001b[0;34m:\u001b[0m\u001b[0;34m\u001b[0m\u001b[0;34m\u001b[0m\u001b[0m\n\u001b[1;32m     62\u001b[0m             \u001b[0;32mraise\u001b[0m \u001b[0mNotImplementedError\u001b[0m\u001b[0;34m(\u001b[0m\u001b[0;34m\"_diag_type can only be cholesky or diag\"\u001b[0m\u001b[0;34m)\u001b[0m\u001b[0;34m\u001b[0m\u001b[0;34m\u001b[0m\u001b[0m\n",
      "\u001b[0;32m~/Documents/DPM/dpm/distributions/normal.py\u001b[0m in \u001b[0;36mstd\u001b[0;34m(self)\u001b[0m\n\u001b[1;32m    100\u001b[0m     \u001b[0;34m@\u001b[0m\u001b[0mproperty\u001b[0m\u001b[0;34m\u001b[0m\u001b[0;34m\u001b[0m\u001b[0m\n\u001b[1;32m    101\u001b[0m     \u001b[0;32mdef\u001b[0m \u001b[0mstd\u001b[0m\u001b[0;34m(\u001b[0m\u001b[0mself\u001b[0m\u001b[0;34m)\u001b[0m\u001b[0;34m:\u001b[0m\u001b[0;34m\u001b[0m\u001b[0;34m\u001b[0m\u001b[0m\n\u001b[0;32m--> 102\u001b[0;31m         \u001b[0;32mreturn\u001b[0m \u001b[0mtorch\u001b[0m\u001b[0;34m.\u001b[0m\u001b[0mdiagonal\u001b[0m\u001b[0;34m(\u001b[0m\u001b[0mself\u001b[0m\u001b[0;34m.\u001b[0m\u001b[0mscale\u001b[0m\u001b[0;34m,\u001b[0m \u001b[0mdim1\u001b[0m\u001b[0;34m=\u001b[0m\u001b[0;34m-\u001b[0m\u001b[0;36m2\u001b[0m\u001b[0;34m,\u001b[0m \u001b[0mdim2\u001b[0m\u001b[0;34m=\u001b[0m\u001b[0;34m-\u001b[0m\u001b[0;36m1\u001b[0m\u001b[0;34m)\u001b[0m\u001b[0;34m.\u001b[0m\u001b[0msqrt\u001b[0m\u001b[0;34m(\u001b[0m\u001b[0;34m)\u001b[0m\u001b[0;34m\u001b[0m\u001b[0;34m\u001b[0m\u001b[0m\n\u001b[0m\u001b[1;32m    103\u001b[0m \u001b[0;34m\u001b[0m\u001b[0m\n\u001b[1;32m    104\u001b[0m     \u001b[0;34m@\u001b[0m\u001b[0mproperty\u001b[0m\u001b[0;34m\u001b[0m\u001b[0;34m\u001b[0m\u001b[0m\n",
      "\u001b[0;32m~/Documents/DPM/dpm/distributions/normal.py\u001b[0m in \u001b[0;36mscale\u001b[0;34m(self)\u001b[0m\n\u001b[1;32m    107\u001b[0m             \u001b[0;32mreturn\u001b[0m \u001b[0mtorch\u001b[0m\u001b[0;34m.\u001b[0m\u001b[0mmm\u001b[0m\u001b[0;34m(\u001b[0m\u001b[0mself\u001b[0m\u001b[0;34m.\u001b[0m\u001b[0m_scale\u001b[0m\u001b[0;34m,\u001b[0m \u001b[0mself\u001b[0m\u001b[0;34m.\u001b[0m\u001b[0m_scale\u001b[0m\u001b[0;34m.\u001b[0m\u001b[0mt\u001b[0m\u001b[0;34m(\u001b[0m\u001b[0;34m)\u001b[0m\u001b[0;34m)\u001b[0m\u001b[0;34m\u001b[0m\u001b[0;34m\u001b[0m\u001b[0m\n\u001b[1;32m    108\u001b[0m         \u001b[0;32melif\u001b[0m \u001b[0mself\u001b[0m\u001b[0;34m.\u001b[0m\u001b[0m_diag_type\u001b[0m \u001b[0;34m==\u001b[0m \u001b[0;34m'diag'\u001b[0m\u001b[0;34m:\u001b[0m\u001b[0;34m\u001b[0m\u001b[0;34m\u001b[0m\u001b[0m\n\u001b[0;32m--> 109\u001b[0;31m             \u001b[0;32mreturn\u001b[0m \u001b[0mtorch\u001b[0m\u001b[0;34m.\u001b[0m\u001b[0mdiag_embed\u001b[0m\u001b[0;34m(\u001b[0m\u001b[0msoftplus\u001b[0m\u001b[0;34m(\u001b[0m\u001b[0mself\u001b[0m\u001b[0;34m.\u001b[0m\u001b[0m_scale\u001b[0m\u001b[0;34m)\u001b[0m\u001b[0;34m)\u001b[0m\u001b[0;34m\u001b[0m\u001b[0;34m\u001b[0m\u001b[0m\n\u001b[0m\u001b[1;32m    110\u001b[0m         \u001b[0;32melse\u001b[0m\u001b[0;34m:\u001b[0m\u001b[0;34m\u001b[0m\u001b[0;34m\u001b[0m\u001b[0m\n\u001b[1;32m    111\u001b[0m             \u001b[0;32mraise\u001b[0m \u001b[0mNotImplementedError\u001b[0m\u001b[0;34m(\u001b[0m\u001b[0;34m\"_diag_type can only be cholesky or diag\"\u001b[0m\u001b[0;34m)\u001b[0m\u001b[0;34m\u001b[0m\u001b[0;34m\u001b[0m\u001b[0m\n",
      "\u001b[0;31mKeyboardInterrupt\u001b[0m: "
     ]
    }
   ],
   "source": [
    "d = model.log_prob(x_train)\n",
    "torch.sigmoid(d).sum()"
   ]
  },
  {
   "cell_type": "code",
   "execution_count": null,
   "metadata": {},
   "outputs": [],
   "source": [
    "d"
   ]
  },
  {
   "cell_type": "code",
   "execution_count": 490,
   "metadata": {},
   "outputs": [
    {
     "data": {
      "text/plain": [
       "224096"
      ]
     },
     "execution_count": 490,
     "metadata": {},
     "output_type": "execute_result"
    }
   ],
   "source": [
    "model.num_parameters"
   ]
  },
  {
   "cell_type": "code",
   "execution_count": 524,
   "metadata": {},
   "outputs": [
    {
     "data": {
      "text/plain": [
       "tensor([-170.1970, -111.5485, -194.9768,  -94.3654, -320.3103, -195.1542,\n",
       "        -293.7239, -227.6893, -162.1426, -215.2902], grad_fn=<SubBackward0>)"
      ]
     },
     "execution_count": 524,
     "metadata": {},
     "output_type": "execute_result"
    }
   ],
   "source": [
    "model.log_prob(model.sample(10))"
   ]
  },
  {
   "cell_type": "code",
   "execution_count": null,
   "metadata": {},
   "outputs": [],
   "source": []
  }
 ],
 "metadata": {
  "kernelspec": {
   "display_name": "Python 3",
   "language": "python",
   "name": "python3"
  },
  "language_info": {
   "codemirror_mode": {
    "name": "ipython",
    "version": 3
   },
   "file_extension": ".py",
   "mimetype": "text/x-python",
   "name": "python",
   "nbconvert_exporter": "python",
   "pygments_lexer": "ipython3",
   "version": "3.7.3"
  }
 },
 "nbformat": 4,
 "nbformat_minor": 2
}
