{
 "cells": [
  {
   "cell_type": "code",
   "execution_count": 4,
   "metadata": {},
   "outputs": [],
   "source": [
    "from sklearn.datasets import fetch_openml\n",
    "from sklearn.preprocessing import MinMaxScaler\n",
    "# from dpm.models.vae import BernoulliVAE\n",
    "from dpm.models import VAE\n",
    "from dpm.visualize import plot_stats\n",
    "import torch"
   ]
  },
  {
   "cell_type": "code",
   "execution_count": null,
   "metadata": {},
   "outputs": [],
   "source": []
  },
  {
   "cell_type": "code",
   "execution_count": 5,
   "metadata": {},
   "outputs": [],
   "source": [
    "X, y = fetch_openml('mnist_784', version=1, return_X_y=True)"
   ]
  },
  {
   "cell_type": "code",
   "execution_count": 6,
   "metadata": {},
   "outputs": [],
   "source": [
    "scaler = MinMaxScaler()\n",
    "X_scaled = scaler.fit_transform(X)"
   ]
  },
  {
   "cell_type": "code",
   "execution_count": 7,
   "metadata": {
    "scrolled": true
   },
   "outputs": [
    {
     "data": {
      "text/plain": [
       "((5000, 784), (5000,))"
      ]
     },
     "execution_count": 7,
     "metadata": {},
     "output_type": "execute_result"
    }
   ],
   "source": [
    "x_train = X_scaled[:5000]\n",
    "y_train = y[:5000]\n",
    "x_train.shape, y_train.shape"
   ]
  },
  {
   "cell_type": "code",
   "execution_count": 8,
   "metadata": {},
   "outputs": [
    {
     "data": {
      "text/plain": [
       "0.0"
      ]
     },
     "execution_count": 8,
     "metadata": {},
     "output_type": "execute_result"
    }
   ],
   "source": [
    "x_train.min()"
   ]
  },
  {
   "cell_type": "code",
   "execution_count": 9,
   "metadata": {},
   "outputs": [
    {
     "data": {
      "text/plain": [
       "torch.Size([5000, 784])"
      ]
     },
     "execution_count": 9,
     "metadata": {},
     "output_type": "execute_result"
    }
   ],
   "source": [
    "x_train = torch.tensor(x_train).float()\n",
    "x_train.size()"
   ]
  },
  {
   "cell_type": "code",
   "execution_count": 10,
   "metadata": {},
   "outputs": [
    {
     "data": {
      "text/plain": [
       "tensor(510486.3750)"
      ]
     },
     "execution_count": 10,
     "metadata": {},
     "output_type": "execute_result"
    }
   ],
   "source": [
    "x_train.sum()"
   ]
  },
  {
   "cell_type": "code",
   "execution_count": 11,
   "metadata": {},
   "outputs": [],
   "source": [
    "from dpm.distributions import Distribution, ConditionalModel, Normal, Bernoulli, Data\n",
    "from functools import partial\n",
    "from dpm.utils import Sigmoid, SafeSoftplus\n",
    "from torch.nn.functional import softplus\n",
    "# from dpm.train import train\n",
    "# from dpm.criterion import cross_entropy\n",
    "\n",
    "# # Pass Data to encoder -> mu, sigma\n",
    "# # Sample from latent(mu, sigma)\n",
    "# # Pass z to decoder -> Get Reconstruction\n",
    "\n",
    "# # Maximize reconstruction Prob\n",
    "\n",
    "\n",
    "# class VAE(Distribution):\n",
    "    \n",
    "#     def __init__(self, encoder_args={}, decoder_args={}, prior=None):\n",
    "#         super().__init__()\n",
    "#         preset_encoder_args={'input_dim':1, 'hidden_sizes':[24, 24],\n",
    "#                              'activation':'ReLU', 'output_shapes':[1, 1],\n",
    "#                              'output_activations':[None, 'Softplus'],\n",
    "#                              'distribution':partial(Normal, learnable=False)}\n",
    "#         preset_decoder_args={'input_dim':1, 'hidden_sizes':[24, 24],\n",
    "#                              'activation':'ReLU', 'output_shapes':[1],\n",
    "#                              'output_activations':[Sigmoid()],\n",
    "#                              'distribution':partial(Bernoulli, learnable=False)}\n",
    "        \n",
    "#         preset_encoder_args.update(encoder_args)\n",
    "#         preset_decoder_args.update(decoder_args)\n",
    "        \n",
    "#         self.encoder = ConditionalModel(**preset_encoder_args)\n",
    "#         self.decoder = ConditionalModel(**preset_decoder_args)\n",
    "        \n",
    "#         self.prior = prior\n",
    "#         if prior is None:\n",
    "#             latent_dim = preset_decoder_args['input_dim']\n",
    "#             self.prior = Normal(torch.zeros(latent_dim), \n",
    "#                                 torch.ones(latent_dim), \n",
    "#                                 learnable=False)\n",
    "        \n",
    "        \n",
    "#     def log_prob(self, X):\n",
    "#         Z, encoder_probs = self.encoder.sample(X, compute_logprob=True)\n",
    "#         prior_probs = self.prior.log_prob(Z)\n",
    "#         decoder_log_probs = self.decoder.log_prob(X, Z)\n",
    "#         return decoder_log_probs + prior_probs - encoder_probs\n",
    "    \n",
    "    \n",
    "#     def sample(self, batch_size, compute_logprob=False):\n",
    "#         Z = self.prior.sample(batch_size)\n",
    "#         return self.decoder.sample(Z, compute_logprob)\n",
    "    \n",
    "    \n",
    "#     def fit(self, x, **kwargs):\n",
    "#         data = Data(x)\n",
    "#         stats = train(data, self, cross_entropy, **kwargs)\n",
    "#         return stats\n",
    "        \n"
   ]
  },
  {
   "cell_type": "code",
   "execution_count": 12,
   "metadata": {},
   "outputs": [
    {
     "data": {
      "text/plain": [
       "<torch._C.Generator at 0x1193e3ad0>"
      ]
     },
     "execution_count": 12,
     "metadata": {},
     "output_type": "execute_result"
    }
   ],
   "source": [
    "torch.manual_seed(42)"
   ]
  },
  {
   "cell_type": "code",
   "execution_count": 13,
   "metadata": {},
   "outputs": [],
   "source": [
    "# model.fit(x_train)\n",
    "model = VAE({'input_dim':784, 'hidden_sizes':[512, 128], 'output_shapes':[64, 64]}, \n",
    "            {'input_dim':64, 'hidden_sizes':[128, 512], 'output_shapes':[784, 784],\n",
    "             'output_activations':[None, SafeSoftplus()],\n",
    "             'distribution':partial(Normal, learnable=False)}, \n",
    "             prior=Normal(torch.zeros(64), torch.ones(64), learnable=False))\n",
    "stats=None"
   ]
  },
  {
   "cell_type": "code",
   "execution_count": 14,
   "metadata": {},
   "outputs": [
    {
     "data": {
      "text/plain": [
       "tensor(0.1302)"
      ]
     },
     "execution_count": 14,
     "metadata": {},
     "output_type": "execute_result"
    }
   ],
   "source": [
    "x_train.mean()"
   ]
  },
  {
   "cell_type": "code",
   "execution_count": null,
   "metadata": {},
   "outputs": [],
   "source": []
  },
  {
   "cell_type": "code",
   "execution_count": 15,
   "metadata": {
    "scrolled": false
   },
   "outputs": [
    {
     "name": "stdout",
     "output_type": "stream",
     "text": [
      "encoder.model.0.weight\n",
      "encoder.model.0.bias\n",
      "encoder.model.2.weight\n",
      "encoder.model.2.bias\n",
      "encoder.model.3.weight\n",
      "encoder.model.3.bias\n",
      "encoder.model.5.weight\n",
      "encoder.model.5.bias\n",
      "encoder.output_layers.0.0.weight\n",
      "encoder.output_layers.0.0.bias\n",
      "encoder.output_layers.1.0.weight\n",
      "encoder.output_layers.1.0.bias\n",
      "decoder.model.0.weight\n",
      "decoder.model.0.bias\n",
      "decoder.model.2.weight\n",
      "decoder.model.2.bias\n",
      "decoder.model.3.weight\n",
      "decoder.model.3.bias\n",
      "decoder.model.5.weight\n",
      "decoder.model.5.bias\n",
      "decoder.output_layers.0.0.weight\n",
      "decoder.output_layers.0.0.bias\n",
      "decoder.output_layers.1.0.weight\n",
      "decoder.output_layers.1.0.bias\n",
      "[Epoch 0/1000]\tLoss 1233.52\n",
      "[Epoch 10/1000]\tLoss 708.08\n",
      "[Epoch 20/1000]\tLoss 382.52\n",
      "[Epoch 30/1000]\tLoss 188.66\n",
      "[Epoch 40/1000]\tLoss 81.24\n",
      "[Epoch 50/1000]\tLoss 19.34\n",
      "[Epoch 60/1000]\tLoss 38.50\n",
      "[Epoch 70/1000]\tLoss -14.28\n",
      "[Epoch 80/1000]\tLoss -27.52\n",
      "[Epoch 90/1000]\tLoss -86.71\n",
      "[Epoch 100/1000]\tLoss -84.56\n",
      "[Epoch 110/1000]\tLoss -80.39\n",
      "[Epoch 120/1000]\tLoss -115.96\n",
      "[Epoch 130/1000]\tLoss -90.05\n",
      "[Epoch 140/1000]\tLoss -83.12\n",
      "[Epoch 150/1000]\tLoss -120.78\n",
      "[Epoch 160/1000]\tLoss -89.59\n",
      "[Epoch 170/1000]\tLoss -130.14\n",
      "[Epoch 180/1000]\tLoss -154.21\n",
      "[Epoch 190/1000]\tLoss -173.23\n",
      "[Epoch 200/1000]\tLoss -104.18\n",
      "[Epoch 210/1000]\tLoss -156.50\n",
      "[Epoch 220/1000]\tLoss -124.60\n",
      "[Epoch 230/1000]\tLoss -161.28\n",
      "[Epoch 240/1000]\tLoss -180.41\n",
      "[Epoch 250/1000]\tLoss -168.44\n",
      "[Epoch 260/1000]\tLoss -193.63\n",
      "[Epoch 270/1000]\tLoss -157.21\n",
      "[Epoch 280/1000]\tLoss -207.94\n",
      "[Epoch 290/1000]\tLoss -179.18\n",
      "[Epoch 300/1000]\tLoss -136.65\n",
      "[Epoch 310/1000]\tLoss -158.72\n",
      "[Epoch 320/1000]\tLoss -220.14\n",
      "[Epoch 330/1000]\tLoss -187.53\n",
      "[Epoch 340/1000]\tLoss -206.21\n",
      "[Epoch 350/1000]\tLoss -182.28\n",
      "[Epoch 360/1000]\tLoss -224.44\n",
      "[Epoch 370/1000]\tLoss -207.86\n",
      "[Epoch 380/1000]\tLoss -191.71\n",
      "[Epoch 390/1000]\tLoss -199.68\n",
      "[Epoch 400/1000]\tLoss -158.69\n",
      "[Epoch 410/1000]\tLoss -184.85\n",
      "[Epoch 420/1000]\tLoss -206.90\n",
      "[Epoch 430/1000]\tLoss -249.49\n",
      "[Epoch 440/1000]\tLoss -195.51\n",
      "[Epoch 450/1000]\tLoss -267.81\n",
      "[Epoch 460/1000]\tLoss -185.81\n",
      "[Epoch 470/1000]\tLoss -216.30\n",
      "[Epoch 480/1000]\tLoss -228.59\n",
      "[Epoch 490/1000]\tLoss -182.19\n",
      "[Epoch 500/1000]\tLoss -201.06\n",
      "[Epoch 510/1000]\tLoss -227.96\n",
      "[Epoch 520/1000]\tLoss -259.42\n",
      "[Epoch 530/1000]\tLoss -218.61\n",
      "[Epoch 540/1000]\tLoss -247.40\n",
      "[Epoch 550/1000]\tLoss -268.23\n",
      "[Epoch 560/1000]\tLoss -212.05\n",
      "[Epoch 570/1000]\tLoss -285.23\n",
      "[Epoch 580/1000]\tLoss -256.75\n",
      "[Epoch 590/1000]\tLoss -232.12\n",
      "[Epoch 600/1000]\tLoss -245.19\n",
      "[Epoch 610/1000]\tLoss -253.44\n",
      "[Epoch 620/1000]\tLoss -292.90\n",
      "[Epoch 630/1000]\tLoss -222.06\n",
      "[Epoch 640/1000]\tLoss -247.27\n",
      "[Epoch 650/1000]\tLoss -274.93\n",
      "[Epoch 660/1000]\tLoss -259.52\n",
      "[Epoch 670/1000]\tLoss -270.43\n",
      "[Epoch 680/1000]\tLoss -252.06\n",
      "[Epoch 690/1000]\tLoss -194.49\n",
      "[Epoch 700/1000]\tLoss -276.99\n",
      "[Epoch 710/1000]\tLoss -275.26\n",
      "[Epoch 720/1000]\tLoss -248.89\n",
      "[Epoch 730/1000]\tLoss -199.06\n",
      "[Epoch 740/1000]\tLoss -270.17\n",
      "[Epoch 750/1000]\tLoss -269.37\n",
      "[Epoch 760/1000]\tLoss -298.32\n",
      "[Epoch 770/1000]\tLoss -253.58\n",
      "[Epoch 780/1000]\tLoss -254.12\n",
      "[Epoch 790/1000]\tLoss -312.16\n",
      "[Epoch 800/1000]\tLoss -281.30\n",
      "[Epoch 810/1000]\tLoss -286.27\n",
      "[Epoch 820/1000]\tLoss -315.33\n",
      "[Epoch 830/1000]\tLoss -278.54\n",
      "[Epoch 840/1000]\tLoss -267.47\n",
      "[Epoch 850/1000]\tLoss -250.17\n",
      "[Epoch 860/1000]\tLoss -269.45\n",
      "[Epoch 870/1000]\tLoss -277.73\n",
      "[Epoch 880/1000]\tLoss -286.87\n",
      "[Epoch 890/1000]\tLoss -249.70\n",
      "[Epoch 900/1000]\tLoss -285.79\n",
      "[Epoch 910/1000]\tLoss -302.97\n",
      "[Epoch 920/1000]\tLoss -232.02\n",
      "[Epoch 930/1000]\tLoss -306.14\n",
      "[Epoch 940/1000]\tLoss -277.94\n",
      "[Epoch 950/1000]\tLoss -274.64\n",
      "[Epoch 960/1000]\tLoss -274.37\n",
      "[Epoch 970/1000]\tLoss -293.58\n",
      "[Epoch 980/1000]\tLoss -302.53\n",
      "[Epoch 990/1000]\tLoss -299.54\n"
     ]
    }
   ],
   "source": [
    "stats = model.fit((x_train - x_train.mean()) / x_train.std(), use_elbo=True, \n",
    "                  epochs=1000, log_interval=10, batch_size=64, \n",
    "                  stats=stats)"
   ]
  },
  {
   "cell_type": "code",
   "execution_count": 16,
   "metadata": {},
   "outputs": [
    {
     "data": {
      "image/png": "[encoded data removed]",
      "text/plain": [
       "<Figure size 864x432 with 1 Axes>"
      ]
     },
     "metadata": {
      "needs_background": "light"
     },
     "output_type": "display_data"
    }
   ],
   "source": [
    "plot_stats(stats)"
   ]
  },
  {
   "cell_type": "code",
   "execution_count": 28,
   "metadata": {},
   "outputs": [
    {
     "name": "stdout",
     "output_type": "stream",
     "text": [
      "(10, 784)\n"
     ]
    },
    {
     "data": {
      "text/plain": [
       "Text(0.5, 0.98, 'Generated Samples')"
      ]
     },
     "execution_count": 28,
     "metadata": {},
     "output_type": "execute_result"
    },
    {
     "data": {
      "image/png": "[encoded data removed]",
      "text/plain": [
       "<Figure size 720x360 with 10 Axes>"
      ]
     },
     "metadata": {},
     "output_type": "display_data"
    }
   ],
   "source": [
    "import matplotlib.pyplot as plt\n",
    "import numpy as np\n",
    "\n",
    "samples = model.sample(10).detach().numpy()\n",
    "print(samples.shape)\n",
    "\n",
    "plt.figure(figsize=(10, 5))\n",
    "scalemax = np.abs(samples).max()\n",
    "scalemin = np.abs(samples).min()\n",
    "\n",
    "\n",
    "for i in range(10):\n",
    "    l1_plot = plt.subplot(2, 5, i + 1)\n",
    "    l1_plot.imshow(10*samples[i].reshape(28, 28), interpolation='nearest',\n",
    "                   cmap=plt.cm.binary, vmin=scalemin, vmax=scalemax)\n",
    "    l1_plot.set_xticks(())\n",
    "    l1_plot.set_yticks(())\n",
    "    l1_plot.set_xlabel('Sample %i' % i)\n",
    "plt.suptitle('Generated Samples')"
   ]
  },
  {
   "cell_type": "code",
   "execution_count": 29,
   "metadata": {},
   "outputs": [
    {
     "name": "stdout",
     "output_type": "stream",
     "text": [
      "6.7341604\n"
     ]
    }
   ],
   "source": [
    "print(scalemax)"
   ]
  },
  {
   "cell_type": "code",
   "execution_count": null,
   "metadata": {},
   "outputs": [],
   "source": []
  },
  {
   "cell_type": "code",
   "execution_count": null,
   "metadata": {},
   "outputs": [],
   "source": []
  },
  {
   "cell_type": "code",
   "execution_count": null,
   "metadata": {},
   "outputs": [],
   "source": []
  },
  {
   "cell_type": "code",
   "execution_count": null,
   "metadata": {},
   "outputs": [],
   "source": []
  },
  {
   "cell_type": "code",
   "execution_count": null,
   "metadata": {},
   "outputs": [],
   "source": []
  },
  {
   "cell_type": "code",
   "execution_count": null,
   "metadata": {},
   "outputs": [],
   "source": []
  },
  {
   "cell_type": "code",
   "execution_count": null,
   "metadata": {},
   "outputs": [],
   "source": []
  },
  {
   "cell_type": "code",
   "execution_count": null,
   "metadata": {},
   "outputs": [],
   "source": []
  },
  {
   "cell_type": "code",
   "execution_count": 30,
   "metadata": {},
   "outputs": [
    {
     "name": "stdout",
     "output_type": "stream",
     "text": [
      "encoder.model.0.weight\n",
      "encoder.model.0.bias\n",
      "encoder.model.2.weight\n",
      "encoder.model.2.bias\n",
      "encoder.model.3.weight\n",
      "encoder.model.3.bias\n",
      "encoder.model.5.weight\n",
      "encoder.model.5.bias\n",
      "encoder.output_layers.0.0.weight\n",
      "encoder.output_layers.0.0.bias\n",
      "encoder.output_layers.1.0.weight\n",
      "encoder.output_layers.1.0.bias\n",
      "decoder.model.0.weight\n",
      "decoder.model.0.bias\n",
      "decoder.model.2.weight\n",
      "decoder.model.2.bias\n",
      "decoder.model.3.weight\n",
      "decoder.model.3.bias\n",
      "decoder.model.5.weight\n",
      "decoder.model.5.bias\n",
      "decoder.output_layers.0.0.weight\n",
      "decoder.output_layers.0.0.bias\n",
      "decoder.output_layers.1.0.weight\n",
      "decoder.output_layers.1.0.bias\n"
     ]
    },
    {
     "data": {
      "text/plain": [
       "880032"
      ]
     },
     "execution_count": 30,
     "metadata": {},
     "output_type": "execute_result"
    }
   ],
   "source": [
    "model.num_parameters"
   ]
  },
  {
   "cell_type": "code",
   "execution_count": null,
   "metadata": {},
   "outputs": [],
   "source": []
  },
  {
   "cell_type": "code",
   "execution_count": null,
   "metadata": {},
   "outputs": [],
   "source": []
  }
 ],
 "metadata": {
  "kernelspec": {
   "display_name": "Python 3",
   "language": "python",
   "name": "python3"
  },
  "language_info": {
   "codemirror_mode": {
    "name": "ipython",
    "version": 3
   },
   "file_extension": ".py",
   "mimetype": "text/x-python",
   "name": "python",
   "nbconvert_exporter": "python",
   "pygments_lexer": "ipython3",
   "version": "3.7.3"
  }
 },
 "nbformat": 4,
 "nbformat_minor": 2
}
