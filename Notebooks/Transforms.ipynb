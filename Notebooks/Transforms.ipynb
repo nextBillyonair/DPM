{
 "cells": [
  {
   "cell_type": "code",
   "execution_count": 1,
   "metadata": {},
   "outputs": [],
   "source": [
    "from dpm.distributions import LogNormal, Normal, TransformDistribution\n",
    "from dpm.transforms import *\n",
    "from dpm.visualize import plot_models"
   ]
  },
  {
   "cell_type": "code",
   "execution_count": 2,
   "metadata": {},
   "outputs": [
    {
     "ename": "NameError",
     "evalue": "name 'ModuleList' is not defined",
     "output_type": "error",
     "traceback": [
      "\u001b[0;31m---------------------------------------------------------------------------\u001b[0m",
      "\u001b[0;31mNameError\u001b[0m                                 Traceback (most recent call last)",
      "\u001b[0;32m<ipython-input-2-9606a3a81da4>\u001b[0m in \u001b[0;36m<module>\u001b[0;34m()\u001b[0m\n\u001b[1;32m      1\u001b[0m \u001b[0mmodel\u001b[0m \u001b[0;34m=\u001b[0m \u001b[0mLogNormal\u001b[0m\u001b[0;34m(\u001b[0m\u001b[0;36m0.0\u001b[0m\u001b[0;34m,\u001b[0m \u001b[0;36m1.0\u001b[0m\u001b[0;34m)\u001b[0m\u001b[0;34m\u001b[0m\u001b[0;34m\u001b[0m\u001b[0m\n\u001b[0;32m----> 2\u001b[0;31m \u001b[0mtransform\u001b[0m \u001b[0;34m=\u001b[0m \u001b[0mTransformDistribution\u001b[0m\u001b[0;34m(\u001b[0m\u001b[0mNormal\u001b[0m\u001b[0;34m(\u001b[0m\u001b[0;36m0.0\u001b[0m\u001b[0;34m,\u001b[0m \u001b[0;36m1.0\u001b[0m\u001b[0;34m)\u001b[0m\u001b[0;34m,\u001b[0m \u001b[0;34m[\u001b[0m\u001b[0mExp\u001b[0m\u001b[0;34m(\u001b[0m\u001b[0;34m)\u001b[0m\u001b[0;34m]\u001b[0m\u001b[0;34m)\u001b[0m\u001b[0;34m\u001b[0m\u001b[0;34m\u001b[0m\u001b[0m\n\u001b[0m\u001b[1;32m      3\u001b[0m \u001b[0;34m\u001b[0m\u001b[0m\n\u001b[1;32m      4\u001b[0m \u001b[0mx\u001b[0m \u001b[0;34m=\u001b[0m \u001b[0mmodel\u001b[0m\u001b[0;34m.\u001b[0m\u001b[0msample\u001b[0m\u001b[0;34m(\u001b[0m\u001b[0;36m4\u001b[0m\u001b[0;34m)\u001b[0m\u001b[0;34m\u001b[0m\u001b[0;34m\u001b[0m\u001b[0m\n\u001b[1;32m      5\u001b[0m \u001b[0;31m# print(x)\u001b[0m\u001b[0;34m\u001b[0m\u001b[0;34m\u001b[0m\u001b[0;34m\u001b[0m\u001b[0m\n",
      "\u001b[0;32m~/Documents/DPM/dpm/distributions.py\u001b[0m in \u001b[0;36m__init__\u001b[0;34m(self, distribution, transforms)\u001b[0m\n\u001b[1;32m    684\u001b[0m         \u001b[0mself\u001b[0m\u001b[0;34m.\u001b[0m\u001b[0mn_dims\u001b[0m \u001b[0;34m=\u001b[0m \u001b[0mdistribution\u001b[0m\u001b[0;34m.\u001b[0m\u001b[0mn_dims\u001b[0m\u001b[0;34m\u001b[0m\u001b[0;34m\u001b[0m\u001b[0m\n\u001b[1;32m    685\u001b[0m         \u001b[0mself\u001b[0m\u001b[0;34m.\u001b[0m\u001b[0mdistribution\u001b[0m \u001b[0;34m=\u001b[0m \u001b[0mdistribution\u001b[0m\u001b[0;34m\u001b[0m\u001b[0;34m\u001b[0m\u001b[0m\n\u001b[0;32m--> 686\u001b[0;31m         \u001b[0mself\u001b[0m\u001b[0;34m.\u001b[0m\u001b[0mtransforms\u001b[0m \u001b[0;34m=\u001b[0m \u001b[0mModuleList\u001b[0m\u001b[0;34m(\u001b[0m\u001b[0mtransforms\u001b[0m\u001b[0;34m)\u001b[0m\u001b[0;34m\u001b[0m\u001b[0;34m\u001b[0m\u001b[0m\n\u001b[0m\u001b[1;32m    687\u001b[0m \u001b[0;34m\u001b[0m\u001b[0m\n\u001b[1;32m    688\u001b[0m     \u001b[0;32mdef\u001b[0m \u001b[0mlog_prob\u001b[0m\u001b[0;34m(\u001b[0m\u001b[0mself\u001b[0m\u001b[0;34m,\u001b[0m \u001b[0mvalue\u001b[0m\u001b[0;34m)\u001b[0m\u001b[0;34m:\u001b[0m\u001b[0;34m\u001b[0m\u001b[0;34m\u001b[0m\u001b[0m\n",
      "\u001b[0;31mNameError\u001b[0m: name 'ModuleList' is not defined"
     ]
    }
   ],
   "source": [
    "model = LogNormal(0.0, 1.0)\n",
    "transform = TransformDistribution(Normal(0.0, 1.0), [Exp()])\n",
    "\n",
    "x = model.sample(4)\n",
    "# print(x)\n",
    "print(transform.log_prob(x))\n",
    "print(model.log_prob(x))\n",
    "\n",
    "x = transform.sample(4)\n",
    "# print(x)\n",
    "print(transform.log_prob(x))\n",
    "print(model.log_prob(x))\n",
    "print(transform.get_parameters())"
   ]
  },
  {
   "cell_type": "code",
   "execution_count": 3,
   "metadata": {},
   "outputs": [
    {
     "ename": "NameError",
     "evalue": "name 'ModuleList' is not defined",
     "output_type": "error",
     "traceback": [
      "\u001b[0;31m---------------------------------------------------------------------------\u001b[0m",
      "\u001b[0;31mNameError\u001b[0m                                 Traceback (most recent call last)",
      "\u001b[0;32m<ipython-input-3-1fd19aa931e7>\u001b[0m in \u001b[0;36m<module>\u001b[0;34m()\u001b[0m\n\u001b[1;32m      1\u001b[0m \u001b[0mmodel\u001b[0m \u001b[0;34m=\u001b[0m \u001b[0mNormal\u001b[0m\u001b[0;34m(\u001b[0m\u001b[0;36m1.0\u001b[0m\u001b[0;34m,\u001b[0m \u001b[0;36m4.0\u001b[0m\u001b[0;34m)\u001b[0m\u001b[0;34m\u001b[0m\u001b[0;34m\u001b[0m\u001b[0m\n\u001b[1;32m      2\u001b[0m transform = TransformDistribution(Normal(0.0, 1.0), \n\u001b[0;32m----> 3\u001b[0;31m                                   [Affine(1.0, 2.0)])\n\u001b[0m\u001b[1;32m      4\u001b[0m \u001b[0;34m\u001b[0m\u001b[0m\n\u001b[1;32m      5\u001b[0m \u001b[0mx\u001b[0m \u001b[0;34m=\u001b[0m \u001b[0mmodel\u001b[0m\u001b[0;34m.\u001b[0m\u001b[0msample\u001b[0m\u001b[0;34m(\u001b[0m\u001b[0;36m4\u001b[0m\u001b[0;34m)\u001b[0m\u001b[0;34m\u001b[0m\u001b[0;34m\u001b[0m\u001b[0m\n",
      "\u001b[0;32m~/Documents/DPM/dpm/distributions.py\u001b[0m in \u001b[0;36m__init__\u001b[0;34m(self, distribution, transforms)\u001b[0m\n\u001b[1;32m    684\u001b[0m         \u001b[0mself\u001b[0m\u001b[0;34m.\u001b[0m\u001b[0mn_dims\u001b[0m \u001b[0;34m=\u001b[0m \u001b[0mdistribution\u001b[0m\u001b[0;34m.\u001b[0m\u001b[0mn_dims\u001b[0m\u001b[0;34m\u001b[0m\u001b[0;34m\u001b[0m\u001b[0m\n\u001b[1;32m    685\u001b[0m         \u001b[0mself\u001b[0m\u001b[0;34m.\u001b[0m\u001b[0mdistribution\u001b[0m \u001b[0;34m=\u001b[0m \u001b[0mdistribution\u001b[0m\u001b[0;34m\u001b[0m\u001b[0;34m\u001b[0m\u001b[0m\n\u001b[0;32m--> 686\u001b[0;31m         \u001b[0mself\u001b[0m\u001b[0;34m.\u001b[0m\u001b[0mtransforms\u001b[0m \u001b[0;34m=\u001b[0m \u001b[0mModuleList\u001b[0m\u001b[0;34m(\u001b[0m\u001b[0mtransforms\u001b[0m\u001b[0;34m)\u001b[0m\u001b[0;34m\u001b[0m\u001b[0;34m\u001b[0m\u001b[0m\n\u001b[0m\u001b[1;32m    687\u001b[0m \u001b[0;34m\u001b[0m\u001b[0m\n\u001b[1;32m    688\u001b[0m     \u001b[0;32mdef\u001b[0m \u001b[0mlog_prob\u001b[0m\u001b[0;34m(\u001b[0m\u001b[0mself\u001b[0m\u001b[0;34m,\u001b[0m \u001b[0mvalue\u001b[0m\u001b[0;34m)\u001b[0m\u001b[0;34m:\u001b[0m\u001b[0;34m\u001b[0m\u001b[0;34m\u001b[0m\u001b[0m\n",
      "\u001b[0;31mNameError\u001b[0m: name 'ModuleList' is not defined"
     ]
    }
   ],
   "source": [
    "model = Normal(1.0, 4.0)\n",
    "transform = TransformDistribution(Normal(0.0, 1.0), \n",
    "                                  [Affine(1.0, 2.0)])\n",
    "\n",
    "x = model.sample(4)\n",
    "# print(x)\n",
    "print(transform.log_prob(x))\n",
    "print(model.log_prob(x))\n",
    "\n",
    "x = transform.sample(4)\n",
    "# print(x)\n",
    "print(transform.log_prob(x))\n",
    "print(model.log_prob(x))\n",
    "print(transform.get_parameters())"
   ]
  },
  {
   "cell_type": "code",
   "execution_count": 4,
   "metadata": {},
   "outputs": [
    {
     "name": "stdout",
     "output_type": "stream",
     "text": [
      "Affine 0.0 0.0\n",
      "Affine 1.0 1.0\n",
      "Affine 5.0 5.0\n",
      "Affine -2.0 -2.0\n",
      "Exp 0.0 0.0\n",
      "Exp 1.0 0.9999999403953552\n",
      "Exp 5.0 5.0\n",
      "Exp -2.0 -2.0\n",
      "Expm1 0.0 0.0\n",
      "Expm1 1.0 1.0\n",
      "Expm1 5.0 5.0\n",
      "Expm1 -2.0 -2.000000238418579\n",
      "Gumbel 0.0 0.0\n",
      "Gumbel 1.0 1.0\n",
      "Gumbel 5.0 4.999999523162842\n",
      "Gumbel -2.0 -2.0\n",
      "Power 0.0 0.0\n",
      "Power 1.0 1.0\n",
      "Power 5.0 5.0\n",
      "Power -2.0 -2.0\n",
      "Reciprocal 0.0 0.0\n",
      "Reciprocal 1.0 1.0\n",
      "Reciprocal 5.0 5.0\n",
      "Reciprocal -2.0 -2.0\n",
      "Sigmoid 0.0 0.0\n",
      "Sigmoid 1.0 1.0000001192092896\n",
      "Sigmoid 5.0 5.000003814697266\n",
      "Sigmoid -2.0 -2.0\n",
      "SinhArcsinh 0.0 0.0\n",
      "SinhArcsinh 1.0 1.0000001192092896\n",
      "SinhArcsinh 5.0 5.000000953674316\n",
      "SinhArcsinh -2.0 -1.999998927116394\n",
      "Softplus 0.0 0.0\n",
      "Softplus 1.0 0.9999999403953552\n",
      "Softplus 5.0 5.0\n",
      "Softplus -2.0 -1.9999996423721313\n",
      "Softsign 0.0 0.0\n",
      "Softsign 1.0 1.0\n",
      "Softsign 5.0 4.999999523162842\n",
      "Softsign -2.0 -2.000000238418579\n",
      "Tanh 0.0 0.0\n",
      "Tanh 1.0 1.0\n",
      "Tanh 5.0 5.00009822845459\n",
      "Tanh -2.0 -2.0\n"
     ]
    }
   ],
   "source": [
    "import dpm\n",
    "\n",
    "t_forms = [\n",
    " 'Affine',\n",
    " 'Exp',\n",
    " 'Expm1',\n",
    " 'Gumbel',\n",
    " 'Power',\n",
    " 'Reciprocal',\n",
    " 'Sigmoid',\n",
    " 'SinhArcsinh',\n",
    " 'Softplus',\n",
    " 'Softsign',\n",
    " 'Tanh']\n",
    "\n",
    "for t in t_forms:\n",
    "    for i in [0.0, 1.0, 5.0, -2.0]:\n",
    "        x = torch.tensor([[i]])\n",
    "        model = getattr(dpm.transforms, t)()\n",
    "        print(t, i, model.inverse(model(x)).item())\n",
    "        assert (model.inverse(model(x)) - x) < 1e-3\n",
    "        model.get_parameters()"
   ]
  },
  {
   "cell_type": "code",
   "execution_count": 5,
   "metadata": {},
   "outputs": [
    {
     "name": "stdout",
     "output_type": "stream",
     "text": [
      "Affine\t0.0\t0.00000\t0.00000\n",
      "Affine\t1.0\t0.00000\t0.00000\n",
      "Affine\t5.0\t0.00000\t0.00000\n",
      "Affine\t-2.0\t0.00000\t0.00000\n",
      "Exp\t0.0\t0.00000\t0.00000\n",
      "Exp\t1.0\t1.00000\t1.00000\n",
      "Exp\t5.0\t5.00000\t5.00000\n",
      "Exp\t-2.0\t-2.00000\t-2.00000\n",
      "Expm1\t0.0\t0.00000\t0.00000\n",
      "Expm1\t1.0\t1.00000\t1.00000\n",
      "Expm1\t5.0\t5.00000\t5.00000\n",
      "Expm1\t-2.0\t-2.00000\t-2.00000\n",
      "Gumbel\t0.0\t-1.00000\t-1.00000\n",
      "Gumbel\t1.0\t-1.36788\t-1.36788\n",
      "Gumbel\t5.0\t-5.00674\t-5.00674\n",
      "Gumbel\t-2.0\t-5.38906\t-5.38906\n",
      "Power\t0.0\t0.00000\t0.00000\n",
      "Power\t1.0\t0.00000\t0.00000\n",
      "Power\t5.0\t0.00000\t0.00000\n",
      "Power\t-2.0\t0.00000\t0.00000\n",
      "Reciprocal\t0.0\tinf\tinf\n",
      "Reciprocal\t1.0\t0.00000\t0.00000\n",
      "Reciprocal\t5.0\t-3.21888\t-3.21888\n",
      "Reciprocal\t-2.0\t-1.38629\t-1.38629\n",
      "Sigmoid\t0.0\t-1.38629\t-1.38629\n",
      "Sigmoid\t1.0\t-1.62652\t-1.62652\n",
      "Sigmoid\t5.0\t-5.01343\t-5.01343\n",
      "Sigmoid\t-2.0\t-2.25386\t-2.25386\n",
      "SinhArcsinh\t0.0\t-0.00000\t-0.00000\n",
      "SinhArcsinh\t1.0\t-0.00000\t-0.00000\n",
      "SinhArcsinh\t5.0\t-0.00000\t-0.00000\n",
      "SinhArcsinh\t-2.0\t0.00000\t-0.00000\n",
      "Softplus\t0.0\t-0.69315\t-0.69315\n",
      "Softplus\t1.0\t-0.31326\t-0.31326\n",
      "Softplus\t5.0\t-0.00672\t-0.00672\n",
      "Softplus\t-2.0\t-2.12693\t-2.12693\n",
      "Softsign\t0.0\t0.00000\t-0.00000\n",
      "Softsign\t1.0\t-1.38629\t-1.38629\n",
      "Softsign\t5.0\t-3.58352\t-3.58352\n",
      "Softsign\t-2.0\t-2.19722\t-2.19722\n",
      "Tanh\t0.0\t0.00000\t0.00000\n",
      "Tanh\t1.0\t-0.86756\t-0.86756\n",
      "Tanh\t5.0\t-8.61395\t-8.61380\n",
      "Tanh\t-2.0\t-2.65001\t-2.65001\n"
     ]
    }
   ],
   "source": [
    "import torch.autograd as autograd\n",
    "\n",
    "for t in t_forms:\n",
    "    for i in [0.0, 1.0, 5.0, -2.0]:\n",
    "        x = torch.tensor([[i]])\n",
    "        x.requires_grad=True\n",
    "        model = getattr(dpm.transforms, t)()\n",
    "        y = model(x)\n",
    "        div = torch.log(torch.abs(autograd.grad(y, x)[0]))\n",
    "        ladj = model.log_abs_det_jacobian(x, y)\n",
    "#         assert (div - ladj) < 1e-3\n",
    "        print(f\"{t}\\t{i}\\t{div.item():0.5f}\\t{ladj.item():0.5f}\")"
   ]
  },
  {
   "cell_type": "code",
   "execution_count": null,
   "metadata": {},
   "outputs": [],
   "source": []
  },
  {
   "cell_type": "code",
   "execution_count": null,
   "metadata": {},
   "outputs": [],
   "source": []
  },
  {
   "cell_type": "code",
   "execution_count": null,
   "metadata": {},
   "outputs": [],
   "source": [
    "\n",
    "    \n",
    "    "
   ]
  },
  {
   "cell_type": "code",
   "execution_count": null,
   "metadata": {},
   "outputs": [],
   "source": []
  },
  {
   "cell_type": "code",
   "execution_count": null,
   "metadata": {},
   "outputs": [],
   "source": []
  }
 ],
 "metadata": {
  "kernelspec": {
   "display_name": "Python 3",
   "language": "python",
   "name": "python3"
  },
  "language_info": {
   "codemirror_mode": {
    "name": "ipython",
    "version": 3
   },
   "file_extension": ".py",
   "mimetype": "text/x-python",
   "name": "python",
   "nbconvert_exporter": "python",
   "pygments_lexer": "ipython3",
   "version": "3.7.3"
  }
 },
 "nbformat": 4,
 "nbformat_minor": 2
}
