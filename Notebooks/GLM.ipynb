{
 "cells": [
  {
   "cell_type": "code",
   "execution_count": 287,
   "metadata": {},
   "outputs": [],
   "source": [
    "from dpm.distributions import Normal, LogNormal, Laplace, Logistic\n",
    "from torch.nn import Linear, Module, NLLLoss\n",
    "import numpy as np\n",
    "from scipy.special import comb\n",
    "import math\n",
    "from torch.optim import Adam\n",
    "import torch\n",
    "import matplotlib.pyplot as plt"
   ]
  },
  {
   "cell_type": "code",
   "execution_count": 288,
   "metadata": {},
   "outputs": [],
   "source": [
    "def function(x):\n",
    "    return 4 * x + 5 + torch.randn((x.shape[0], 1))\n",
    "\n",
    "def function_lap(x):\n",
    "    return 4 * x + 5 + Laplace(learnable=False).sample(x.shape[0])\n",
    "\n",
    "def function_bin(x):\n",
    "    return torch.sigmoid(4*x - 20 + torch.randn((x.shape[0], 1))) >= 0.5"
   ]
  },
  {
   "cell_type": "code",
   "execution_count": 289,
   "metadata": {},
   "outputs": [
    {
     "name": "stdout",
     "output_type": "stream",
     "text": [
      "torch.Size([100, 1]) torch.Size([100, 1]) torch.Size([100, 1]) torch.Size([100, 1])\n"
     ]
    },
    {
     "data": {
      "text/plain": [
       "<matplotlib.collections.PathCollection at 0x11f944b00>"
      ]
     },
     "execution_count": 289,
     "metadata": {},
     "output_type": "execute_result"
    },
    {
     "data": {
      "image/png": "[encoded data removed]",
      "text/plain": [
       "<Figure size 432x288 with 1 Axes>"
      ]
     },
     "metadata": {
      "needs_background": "light"
     },
     "output_type": "display_data"
    }
   ],
   "source": [
    "data = torch.tensor(np.linspace(-50, 50., 100)).float().reshape(-1, 1)\n",
    "response = function(data)\n",
    "response_lap = function_lap(data)\n",
    "response_bin = function_bin(data)\n",
    "print(data.size(), response.size(), response_lap.size(), response_bin.size())\n",
    "plt.scatter(data, response_bin)"
   ]
  },
  {
   "cell_type": "code",
   "execution_count": 296,
   "metadata": {},
   "outputs": [],
   "source": [
    "class GLM(Module):\n",
    "    \n",
    "    def __init__(self, dist, input_dim=1, output_dim=1):\n",
    "        super().__init__()\n",
    "        self.linear = Linear(input_dim, output_dim)\n",
    "        self.dist = dist\n",
    "        \n",
    "    def log_prob(self, x, y):\n",
    "        mu = self.mean(x)\n",
    "        return torch.stack([self.dist(mu[i], learnable=False).log_prob(y[i].reshape(-1, 1)) \n",
    "                            for i in range(x.shape[0])])\n",
    "    \n",
    "    def mean(self, x):\n",
    "        raise NotImplementedError()\n",
    "    \n",
    "\n",
    "class NormalGLM(GLM):\n",
    "    \n",
    "    def __init__(self, input_dim=1, output_dim=1):\n",
    "        super().__init__(Normal)\n",
    "        \n",
    "    def mean(self, x):\n",
    "        return self.linear(x)\n",
    "    \n",
    "    \n",
    "    \n",
    "class LaplaceGLM(GLM):\n",
    "    \n",
    "    def __init__(self, input_dim=1, output_dim=1):\n",
    "        super().__init__(Laplace)\n",
    "        \n",
    "    def mean(self, x):\n",
    "        return self.linear(x)\n",
    "    \n",
    "class Bernoulli(GLM):\n",
    "    \n",
    "    def __init__(self, input_dim=1, output_dim=1):\n",
    "        super().__init__(Logistic)\n",
    "        \n",
    "    def mean(self, x):\n",
    "        return torch.sigmoid(self.linear(x))\n",
    "    \n",
    "    \n",
    "        "
   ]
  },
  {
   "cell_type": "code",
   "execution_count": 297,
   "metadata": {},
   "outputs": [],
   "source": [
    "m = Bernoulli()\n",
    "optimizer = Adam(m.parameters(), lr=0.01)"
   ]
  },
  {
   "cell_type": "code",
   "execution_count": null,
   "metadata": {},
   "outputs": [
    {
     "name": "stdout",
     "output_type": "stream",
     "text": [
      "[Epoch 0/1000]\tLoss inf\n",
      "[Epoch 100/1000]\tLoss inf\n",
      "[Epoch 200/1000]\tLoss inf\n",
      "[Epoch 300/1000]\tLoss inf\n",
      "[Epoch 400/1000]\tLoss inf\n",
      "[Epoch 500/1000]\tLoss inf\n",
      "[Epoch 600/1000]\tLoss inf\n",
      "[Epoch 700/1000]\tLoss inf\n",
      "[Epoch 800/1000]\tLoss inf\n"
     ]
    }
   ],
   "source": [
    "epochs = 1000\n",
    "for epoch in range(epochs):\n",
    "    optimizer.zero_grad()\n",
    "    loss = -m.log_prob(data, response_lap).sum()\n",
    "    loss.backward()\n",
    "    optimizer.step()\n",
    "    if epoch % 100 == 0:\n",
    "        print(f\"[Epoch {epoch}/{epochs}]\\tLoss {loss.item():.2f}\")\n"
   ]
  },
  {
   "cell_type": "code",
   "execution_count": null,
   "metadata": {},
   "outputs": [],
   "source": [
    "print(m.linear.weight)\n",
    "print(m.linear.bias)"
   ]
  },
  {
   "cell_type": "code",
   "execution_count": null,
   "metadata": {},
   "outputs": [],
   "source": []
  }
 ],
 "metadata": {
  "kernelspec": {
   "display_name": "Python 3",
   "language": "python",
   "name": "python3"
  },
  "language_info": {
   "codemirror_mode": {
    "name": "ipython",
    "version": 3
   },
   "file_extension": ".py",
   "mimetype": "text/x-python",
   "name": "python",
   "nbconvert_exporter": "python",
   "pygments_lexer": "ipython3",
   "version": "3.7.3"
  }
 },
 "nbformat": 4,
 "nbformat_minor": 2
}
